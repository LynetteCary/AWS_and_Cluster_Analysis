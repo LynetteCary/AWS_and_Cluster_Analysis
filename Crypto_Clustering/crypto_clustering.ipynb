{
 "cells": [
  {
   "cell_type": "markdown",
   "metadata": {},
   "source": [
    "# Clustering Crypto"
   ]
  },
  {
   "cell_type": "code",
   "execution_count": 116,
   "metadata": {},
   "outputs": [],
   "source": [
    "# Initial imports\n",
    "import requests\n",
    "import pandas as pd\n",
    "import matplotlib.pyplot as plt\n",
    "import hvplot.pandas\n",
    "import plotly.express as px\n",
    "from sklearn.preprocessing import StandardScaler, MinMaxScaler\n",
    "from sklearn.decomposition import PCA\n",
    "from sklearn.cluster import KMeans"
   ]
  },
  {
   "cell_type": "markdown",
   "metadata": {},
   "source": [
    "### Fetching Cryptocurrency Data"
   ]
  },
  {
   "cell_type": "code",
   "execution_count": 117,
   "metadata": {},
   "outputs": [],
   "source": [
    "# Use the following endpoint to fetch json data\n",
    "url = \"https://min-api.cryptocompare.com/data/all/coinlist\""
   ]
  },
  {
   "cell_type": "code",
   "execution_count": 118,
   "metadata": {},
   "outputs": [],
   "source": [
    "# Create a DataFrame \n",
    "# HINT: You will need to use the 'Data' key from the json response, then transpose the DataFrame."
   ]
  },
  {
   "cell_type": "code",
   "execution_count": 119,
   "metadata": {},
   "outputs": [
    {
     "data": {
      "text/html": [
       "<div>\n",
       "<style scoped>\n",
       "    .dataframe tbody tr th:only-of-type {\n",
       "        vertical-align: middle;\n",
       "    }\n",
       "\n",
       "    .dataframe tbody tr th {\n",
       "        vertical-align: top;\n",
       "    }\n",
       "\n",
       "    .dataframe thead th {\n",
       "        text-align: right;\n",
       "    }\n",
       "</style>\n",
       "<table border=\"1\" class=\"dataframe\">\n",
       "  <thead>\n",
       "    <tr style=\"text-align: right;\">\n",
       "      <th></th>\n",
       "      <th>CoinName</th>\n",
       "      <th>Algorithm</th>\n",
       "      <th>IsTrading</th>\n",
       "      <th>ProofType</th>\n",
       "      <th>TotalCoinsMined</th>\n",
       "      <th>TotalCoinSupply</th>\n",
       "    </tr>\n",
       "  </thead>\n",
       "  <tbody>\n",
       "    <tr>\n",
       "      <th>42</th>\n",
       "      <td>42 Coin</td>\n",
       "      <td>Scrypt</td>\n",
       "      <td>True</td>\n",
       "      <td>PoW/PoS</td>\n",
       "      <td>4.199995e+01</td>\n",
       "      <td>42</td>\n",
       "    </tr>\n",
       "    <tr>\n",
       "      <th>365</th>\n",
       "      <td>365Coin</td>\n",
       "      <td>X11</td>\n",
       "      <td>True</td>\n",
       "      <td>PoW/PoS</td>\n",
       "      <td>NaN</td>\n",
       "      <td>2300000000</td>\n",
       "    </tr>\n",
       "    <tr>\n",
       "      <th>404</th>\n",
       "      <td>404Coin</td>\n",
       "      <td>Scrypt</td>\n",
       "      <td>True</td>\n",
       "      <td>PoW/PoS</td>\n",
       "      <td>1.055185e+09</td>\n",
       "      <td>532000000</td>\n",
       "    </tr>\n",
       "    <tr>\n",
       "      <th>611</th>\n",
       "      <td>SixEleven</td>\n",
       "      <td>SHA-256</td>\n",
       "      <td>True</td>\n",
       "      <td>PoW</td>\n",
       "      <td>NaN</td>\n",
       "      <td>611000</td>\n",
       "    </tr>\n",
       "    <tr>\n",
       "      <th>808</th>\n",
       "      <td>808</td>\n",
       "      <td>SHA-256</td>\n",
       "      <td>True</td>\n",
       "      <td>PoW/PoS</td>\n",
       "      <td>0.000000e+00</td>\n",
       "      <td>0</td>\n",
       "    </tr>\n",
       "  </tbody>\n",
       "</table>\n",
       "</div>"
      ],
      "text/plain": [
       "      CoinName Algorithm  IsTrading ProofType  TotalCoinsMined TotalCoinSupply\n",
       "42     42 Coin    Scrypt       True   PoW/PoS     4.199995e+01              42\n",
       "365    365Coin       X11       True   PoW/PoS              NaN      2300000000\n",
       "404    404Coin    Scrypt       True   PoW/PoS     1.055185e+09       532000000\n",
       "611  SixEleven   SHA-256       True       PoW              NaN          611000\n",
       "808        808   SHA-256       True   PoW/PoS     0.000000e+00               0"
      ]
     },
     "execution_count": 119,
     "metadata": {},
     "output_type": "execute_result"
    }
   ],
   "source": [
    "# Alternatively, use the provided csv file:\n",
    "from pathlib import Path\n",
    "file_path = Path(\"Resources/crypto_data.csv\")\n",
    "crypto_df = pd.read_csv(file_path, index_col=0)\n",
    "\n",
    "# Create a DataFrame\n",
    "crypto_df.head()"
   ]
  },
  {
   "cell_type": "markdown",
   "metadata": {},
   "source": [
    "### Data Preprocessing"
   ]
  },
  {
   "cell_type": "code",
   "execution_count": 120,
   "metadata": {},
   "outputs": [],
   "source": [
    "# Keep only necessary columns:\n",
    "# 'CoinName','Algorithm','IsTrading','ProofType','TotalCoinsMined','TotalCoinSupply'\n"
   ]
  },
  {
   "cell_type": "code",
   "execution_count": 121,
   "metadata": {},
   "outputs": [
    {
     "data": {
      "text/html": [
       "<div>\n",
       "<style scoped>\n",
       "    .dataframe tbody tr th:only-of-type {\n",
       "        vertical-align: middle;\n",
       "    }\n",
       "\n",
       "    .dataframe tbody tr th {\n",
       "        vertical-align: top;\n",
       "    }\n",
       "\n",
       "    .dataframe thead th {\n",
       "        text-align: right;\n",
       "    }\n",
       "</style>\n",
       "<table border=\"1\" class=\"dataframe\">\n",
       "  <thead>\n",
       "    <tr style=\"text-align: right;\">\n",
       "      <th></th>\n",
       "      <th>CoinName</th>\n",
       "      <th>Algorithm</th>\n",
       "      <th>IsTrading</th>\n",
       "      <th>ProofType</th>\n",
       "      <th>TotalCoinsMined</th>\n",
       "      <th>TotalCoinSupply</th>\n",
       "    </tr>\n",
       "  </thead>\n",
       "  <tbody>\n",
       "    <tr>\n",
       "      <th>42</th>\n",
       "      <td>42 Coin</td>\n",
       "      <td>Scrypt</td>\n",
       "      <td>True</td>\n",
       "      <td>PoW/PoS</td>\n",
       "      <td>4.199995e+01</td>\n",
       "      <td>42</td>\n",
       "    </tr>\n",
       "    <tr>\n",
       "      <th>365</th>\n",
       "      <td>365Coin</td>\n",
       "      <td>X11</td>\n",
       "      <td>True</td>\n",
       "      <td>PoW/PoS</td>\n",
       "      <td>NaN</td>\n",
       "      <td>2300000000</td>\n",
       "    </tr>\n",
       "    <tr>\n",
       "      <th>404</th>\n",
       "      <td>404Coin</td>\n",
       "      <td>Scrypt</td>\n",
       "      <td>True</td>\n",
       "      <td>PoW/PoS</td>\n",
       "      <td>1.055185e+09</td>\n",
       "      <td>532000000</td>\n",
       "    </tr>\n",
       "    <tr>\n",
       "      <th>611</th>\n",
       "      <td>SixEleven</td>\n",
       "      <td>SHA-256</td>\n",
       "      <td>True</td>\n",
       "      <td>PoW</td>\n",
       "      <td>NaN</td>\n",
       "      <td>611000</td>\n",
       "    </tr>\n",
       "    <tr>\n",
       "      <th>808</th>\n",
       "      <td>808</td>\n",
       "      <td>SHA-256</td>\n",
       "      <td>True</td>\n",
       "      <td>PoW/PoS</td>\n",
       "      <td>0.000000e+00</td>\n",
       "      <td>0</td>\n",
       "    </tr>\n",
       "  </tbody>\n",
       "</table>\n",
       "</div>"
      ],
      "text/plain": [
       "      CoinName Algorithm  IsTrading ProofType  TotalCoinsMined TotalCoinSupply\n",
       "42     42 Coin    Scrypt       True   PoW/PoS     4.199995e+01              42\n",
       "365    365Coin       X11       True   PoW/PoS              NaN      2300000000\n",
       "404    404Coin    Scrypt       True   PoW/PoS     1.055185e+09       532000000\n",
       "611  SixEleven   SHA-256       True       PoW              NaN          611000\n",
       "808        808   SHA-256       True   PoW/PoS     0.000000e+00               0"
      ]
     },
     "execution_count": 121,
     "metadata": {},
     "output_type": "execute_result"
    }
   ],
   "source": [
    "crypto_df.head()"
   ]
  },
  {
   "cell_type": "code",
   "execution_count": 122,
   "metadata": {},
   "outputs": [
    {
     "data": {
      "text/html": [
       "<div>\n",
       "<style scoped>\n",
       "    .dataframe tbody tr th:only-of-type {\n",
       "        vertical-align: middle;\n",
       "    }\n",
       "\n",
       "    .dataframe tbody tr th {\n",
       "        vertical-align: top;\n",
       "    }\n",
       "\n",
       "    .dataframe thead th {\n",
       "        text-align: right;\n",
       "    }\n",
       "</style>\n",
       "<table border=\"1\" class=\"dataframe\">\n",
       "  <thead>\n",
       "    <tr style=\"text-align: right;\">\n",
       "      <th></th>\n",
       "      <th>CoinName</th>\n",
       "      <th>Algorithm</th>\n",
       "      <th>IsTrading</th>\n",
       "      <th>ProofType</th>\n",
       "      <th>TotalCoinsMined</th>\n",
       "      <th>TotalCoinSupply</th>\n",
       "    </tr>\n",
       "  </thead>\n",
       "  <tbody>\n",
       "    <tr>\n",
       "      <th>42</th>\n",
       "      <td>42 Coin</td>\n",
       "      <td>Scrypt</td>\n",
       "      <td>True</td>\n",
       "      <td>PoW/PoS</td>\n",
       "      <td>4.199995e+01</td>\n",
       "      <td>42</td>\n",
       "    </tr>\n",
       "    <tr>\n",
       "      <th>365</th>\n",
       "      <td>365Coin</td>\n",
       "      <td>X11</td>\n",
       "      <td>True</td>\n",
       "      <td>PoW/PoS</td>\n",
       "      <td>NaN</td>\n",
       "      <td>2300000000</td>\n",
       "    </tr>\n",
       "    <tr>\n",
       "      <th>404</th>\n",
       "      <td>404Coin</td>\n",
       "      <td>Scrypt</td>\n",
       "      <td>True</td>\n",
       "      <td>PoW/PoS</td>\n",
       "      <td>1.055185e+09</td>\n",
       "      <td>532000000</td>\n",
       "    </tr>\n",
       "    <tr>\n",
       "      <th>611</th>\n",
       "      <td>SixEleven</td>\n",
       "      <td>SHA-256</td>\n",
       "      <td>True</td>\n",
       "      <td>PoW</td>\n",
       "      <td>NaN</td>\n",
       "      <td>611000</td>\n",
       "    </tr>\n",
       "    <tr>\n",
       "      <th>808</th>\n",
       "      <td>808</td>\n",
       "      <td>SHA-256</td>\n",
       "      <td>True</td>\n",
       "      <td>PoW/PoS</td>\n",
       "      <td>0.000000e+00</td>\n",
       "      <td>0</td>\n",
       "    </tr>\n",
       "  </tbody>\n",
       "</table>\n",
       "</div>"
      ],
      "text/plain": [
       "      CoinName Algorithm  IsTrading ProofType  TotalCoinsMined TotalCoinSupply\n",
       "42     42 Coin    Scrypt       True   PoW/PoS     4.199995e+01              42\n",
       "365    365Coin       X11       True   PoW/PoS              NaN      2300000000\n",
       "404    404Coin    Scrypt       True   PoW/PoS     1.055185e+09       532000000\n",
       "611  SixEleven   SHA-256       True       PoW              NaN          611000\n",
       "808        808   SHA-256       True   PoW/PoS     0.000000e+00               0"
      ]
     },
     "execution_count": 122,
     "metadata": {},
     "output_type": "execute_result"
    }
   ],
   "source": [
    "# Keep only cryptocurrencies that are trading\n",
    "crypto_df = crypto_df[crypto_df['IsTrading'] == True]\n",
    "crypto_df.head()"
   ]
  },
  {
   "cell_type": "code",
   "execution_count": 123,
   "metadata": {},
   "outputs": [
    {
     "name": "stdout",
     "output_type": "stream",
     "text": [
      "Column CoinName has 0 null values\n",
      "Column Algorithm has 0 null values\n",
      "Column IsTrading has 0 null values\n",
      "Column ProofType has 0 null values\n",
      "Column TotalCoinsMined has 459 null values\n",
      "Column TotalCoinSupply has 0 null values\n"
     ]
    }
   ],
   "source": [
    "# Keep only cryptocurrencies with a working algorithm\n",
    "for column in crypto_df.columns:\n",
    "    print(f\"Column {column} has {crypto_df[column].isnull().sum()} null values\")"
   ]
  },
  {
   "cell_type": "code",
   "execution_count": 124,
   "metadata": {},
   "outputs": [
    {
     "data": {
      "text/html": [
       "<div>\n",
       "<style scoped>\n",
       "    .dataframe tbody tr th:only-of-type {\n",
       "        vertical-align: middle;\n",
       "    }\n",
       "\n",
       "    .dataframe tbody tr th {\n",
       "        vertical-align: top;\n",
       "    }\n",
       "\n",
       "    .dataframe thead th {\n",
       "        text-align: right;\n",
       "    }\n",
       "</style>\n",
       "<table border=\"1\" class=\"dataframe\">\n",
       "  <thead>\n",
       "    <tr style=\"text-align: right;\">\n",
       "      <th></th>\n",
       "      <th>CoinName</th>\n",
       "      <th>Algorithm</th>\n",
       "      <th>ProofType</th>\n",
       "      <th>TotalCoinsMined</th>\n",
       "      <th>TotalCoinSupply</th>\n",
       "    </tr>\n",
       "  </thead>\n",
       "  <tbody>\n",
       "    <tr>\n",
       "      <th>42</th>\n",
       "      <td>42 Coin</td>\n",
       "      <td>Scrypt</td>\n",
       "      <td>PoW/PoS</td>\n",
       "      <td>4.199995e+01</td>\n",
       "      <td>42</td>\n",
       "    </tr>\n",
       "    <tr>\n",
       "      <th>365</th>\n",
       "      <td>365Coin</td>\n",
       "      <td>X11</td>\n",
       "      <td>PoW/PoS</td>\n",
       "      <td>NaN</td>\n",
       "      <td>2300000000</td>\n",
       "    </tr>\n",
       "    <tr>\n",
       "      <th>404</th>\n",
       "      <td>404Coin</td>\n",
       "      <td>Scrypt</td>\n",
       "      <td>PoW/PoS</td>\n",
       "      <td>1.055185e+09</td>\n",
       "      <td>532000000</td>\n",
       "    </tr>\n",
       "    <tr>\n",
       "      <th>611</th>\n",
       "      <td>SixEleven</td>\n",
       "      <td>SHA-256</td>\n",
       "      <td>PoW</td>\n",
       "      <td>NaN</td>\n",
       "      <td>611000</td>\n",
       "    </tr>\n",
       "    <tr>\n",
       "      <th>808</th>\n",
       "      <td>808</td>\n",
       "      <td>SHA-256</td>\n",
       "      <td>PoW/PoS</td>\n",
       "      <td>0.000000e+00</td>\n",
       "      <td>0</td>\n",
       "    </tr>\n",
       "  </tbody>\n",
       "</table>\n",
       "</div>"
      ],
      "text/plain": [
       "      CoinName Algorithm ProofType  TotalCoinsMined TotalCoinSupply\n",
       "42     42 Coin    Scrypt   PoW/PoS     4.199995e+01              42\n",
       "365    365Coin       X11   PoW/PoS              NaN      2300000000\n",
       "404    404Coin    Scrypt   PoW/PoS     1.055185e+09       532000000\n",
       "611  SixEleven   SHA-256       PoW              NaN          611000\n",
       "808        808   SHA-256   PoW/PoS     0.000000e+00               0"
      ]
     },
     "execution_count": 124,
     "metadata": {},
     "output_type": "execute_result"
    }
   ],
   "source": [
    "# Remove the \"IsTrading\" column\n",
    "crypto_df_new = crypto_df.drop(columns=['IsTrading'])\n",
    "crypto_df_new.head()"
   ]
  },
  {
   "cell_type": "code",
   "execution_count": 125,
   "metadata": {},
   "outputs": [
    {
     "data": {
      "text/html": [
       "<div>\n",
       "<style scoped>\n",
       "    .dataframe tbody tr th:only-of-type {\n",
       "        vertical-align: middle;\n",
       "    }\n",
       "\n",
       "    .dataframe tbody tr th {\n",
       "        vertical-align: top;\n",
       "    }\n",
       "\n",
       "    .dataframe thead th {\n",
       "        text-align: right;\n",
       "    }\n",
       "</style>\n",
       "<table border=\"1\" class=\"dataframe\">\n",
       "  <thead>\n",
       "    <tr style=\"text-align: right;\">\n",
       "      <th></th>\n",
       "      <th>CoinName</th>\n",
       "      <th>Algorithm</th>\n",
       "      <th>ProofType</th>\n",
       "      <th>TotalCoinsMined</th>\n",
       "      <th>TotalCoinSupply</th>\n",
       "    </tr>\n",
       "  </thead>\n",
       "  <tbody>\n",
       "    <tr>\n",
       "      <th>42</th>\n",
       "      <td>42 Coin</td>\n",
       "      <td>Scrypt</td>\n",
       "      <td>PoW/PoS</td>\n",
       "      <td>4.199995e+01</td>\n",
       "      <td>42</td>\n",
       "    </tr>\n",
       "    <tr>\n",
       "      <th>404</th>\n",
       "      <td>404Coin</td>\n",
       "      <td>Scrypt</td>\n",
       "      <td>PoW/PoS</td>\n",
       "      <td>1.055185e+09</td>\n",
       "      <td>532000000</td>\n",
       "    </tr>\n",
       "    <tr>\n",
       "      <th>808</th>\n",
       "      <td>808</td>\n",
       "      <td>SHA-256</td>\n",
       "      <td>PoW/PoS</td>\n",
       "      <td>0.000000e+00</td>\n",
       "      <td>0</td>\n",
       "    </tr>\n",
       "    <tr>\n",
       "      <th>1337</th>\n",
       "      <td>EliteCoin</td>\n",
       "      <td>X13</td>\n",
       "      <td>PoW/PoS</td>\n",
       "      <td>2.927942e+10</td>\n",
       "      <td>314159265359</td>\n",
       "    </tr>\n",
       "    <tr>\n",
       "      <th>BTC</th>\n",
       "      <td>Bitcoin</td>\n",
       "      <td>SHA-256</td>\n",
       "      <td>PoW</td>\n",
       "      <td>1.792718e+07</td>\n",
       "      <td>21000000</td>\n",
       "    </tr>\n",
       "  </tbody>\n",
       "</table>\n",
       "</div>"
      ],
      "text/plain": [
       "       CoinName Algorithm ProofType  TotalCoinsMined TotalCoinSupply\n",
       "42      42 Coin    Scrypt   PoW/PoS     4.199995e+01              42\n",
       "404     404Coin    Scrypt   PoW/PoS     1.055185e+09       532000000\n",
       "808         808   SHA-256   PoW/PoS     0.000000e+00               0\n",
       "1337  EliteCoin       X13   PoW/PoS     2.927942e+10    314159265359\n",
       "BTC     Bitcoin   SHA-256       PoW     1.792718e+07        21000000"
      ]
     },
     "execution_count": 125,
     "metadata": {},
     "output_type": "execute_result"
    }
   ],
   "source": [
    "# Remove rows with at least 1 null value\n",
    "crypto_df_new = crypto_df_new.dropna()\n",
    "crypto_df_new.head()"
   ]
  },
  {
   "cell_type": "code",
   "execution_count": 126,
   "metadata": {},
   "outputs": [
    {
     "data": {
      "text/html": [
       "<div>\n",
       "<style scoped>\n",
       "    .dataframe tbody tr th:only-of-type {\n",
       "        vertical-align: middle;\n",
       "    }\n",
       "\n",
       "    .dataframe tbody tr th {\n",
       "        vertical-align: top;\n",
       "    }\n",
       "\n",
       "    .dataframe thead th {\n",
       "        text-align: right;\n",
       "    }\n",
       "</style>\n",
       "<table border=\"1\" class=\"dataframe\">\n",
       "  <thead>\n",
       "    <tr style=\"text-align: right;\">\n",
       "      <th></th>\n",
       "      <th>CoinName</th>\n",
       "      <th>Algorithm</th>\n",
       "      <th>ProofType</th>\n",
       "      <th>TotalCoinsMined</th>\n",
       "      <th>TotalCoinSupply</th>\n",
       "    </tr>\n",
       "  </thead>\n",
       "  <tbody>\n",
       "    <tr>\n",
       "      <th>42</th>\n",
       "      <td>42 Coin</td>\n",
       "      <td>Scrypt</td>\n",
       "      <td>PoW/PoS</td>\n",
       "      <td>4.199995e+01</td>\n",
       "      <td>42</td>\n",
       "    </tr>\n",
       "    <tr>\n",
       "      <th>404</th>\n",
       "      <td>404Coin</td>\n",
       "      <td>Scrypt</td>\n",
       "      <td>PoW/PoS</td>\n",
       "      <td>1.055185e+09</td>\n",
       "      <td>532000000</td>\n",
       "    </tr>\n",
       "    <tr>\n",
       "      <th>1337</th>\n",
       "      <td>EliteCoin</td>\n",
       "      <td>X13</td>\n",
       "      <td>PoW/PoS</td>\n",
       "      <td>2.927942e+10</td>\n",
       "      <td>314159265359</td>\n",
       "    </tr>\n",
       "    <tr>\n",
       "      <th>BTC</th>\n",
       "      <td>Bitcoin</td>\n",
       "      <td>SHA-256</td>\n",
       "      <td>PoW</td>\n",
       "      <td>1.792718e+07</td>\n",
       "      <td>21000000</td>\n",
       "    </tr>\n",
       "    <tr>\n",
       "      <th>ETH</th>\n",
       "      <td>Ethereum</td>\n",
       "      <td>Ethash</td>\n",
       "      <td>PoW</td>\n",
       "      <td>1.076842e+08</td>\n",
       "      <td>0</td>\n",
       "    </tr>\n",
       "  </tbody>\n",
       "</table>\n",
       "</div>"
      ],
      "text/plain": [
       "       CoinName Algorithm ProofType  TotalCoinsMined TotalCoinSupply\n",
       "42      42 Coin    Scrypt   PoW/PoS     4.199995e+01              42\n",
       "404     404Coin    Scrypt   PoW/PoS     1.055185e+09       532000000\n",
       "1337  EliteCoin       X13   PoW/PoS     2.927942e+10    314159265359\n",
       "BTC     Bitcoin   SHA-256       PoW     1.792718e+07        21000000\n",
       "ETH    Ethereum    Ethash       PoW     1.076842e+08               0"
      ]
     },
     "execution_count": 126,
     "metadata": {},
     "output_type": "execute_result"
    }
   ],
   "source": [
    "# Remove rows with cryptocurrencies having no coins mined\n",
    "crypto_df_new = crypto_df_new[crypto_df_new['TotalCoinsMined'] != 0]\n",
    "crypto_df_new.head()"
   ]
  },
  {
   "cell_type": "code",
   "execution_count": 127,
   "metadata": {},
   "outputs": [
    {
     "data": {
      "text/html": [
       "<div>\n",
       "<style scoped>\n",
       "    .dataframe tbody tr th:only-of-type {\n",
       "        vertical-align: middle;\n",
       "    }\n",
       "\n",
       "    .dataframe tbody tr th {\n",
       "        vertical-align: top;\n",
       "    }\n",
       "\n",
       "    .dataframe thead th {\n",
       "        text-align: right;\n",
       "    }\n",
       "</style>\n",
       "<table border=\"1\" class=\"dataframe\">\n",
       "  <thead>\n",
       "    <tr style=\"text-align: right;\">\n",
       "      <th></th>\n",
       "      <th>CoinName</th>\n",
       "      <th>Algorithm</th>\n",
       "      <th>ProofType</th>\n",
       "      <th>TotalCoinsMined</th>\n",
       "      <th>TotalCoinSupply</th>\n",
       "    </tr>\n",
       "  </thead>\n",
       "  <tbody>\n",
       "    <tr>\n",
       "      <th>42</th>\n",
       "      <td>42 Coin</td>\n",
       "      <td>Scrypt</td>\n",
       "      <td>PoW/PoS</td>\n",
       "      <td>4.199995e+01</td>\n",
       "      <td>42</td>\n",
       "    </tr>\n",
       "    <tr>\n",
       "      <th>404</th>\n",
       "      <td>404Coin</td>\n",
       "      <td>Scrypt</td>\n",
       "      <td>PoW/PoS</td>\n",
       "      <td>1.055185e+09</td>\n",
       "      <td>532000000</td>\n",
       "    </tr>\n",
       "    <tr>\n",
       "      <th>1337</th>\n",
       "      <td>EliteCoin</td>\n",
       "      <td>X13</td>\n",
       "      <td>PoW/PoS</td>\n",
       "      <td>2.927942e+10</td>\n",
       "      <td>314159265359</td>\n",
       "    </tr>\n",
       "    <tr>\n",
       "      <th>BTC</th>\n",
       "      <td>Bitcoin</td>\n",
       "      <td>SHA-256</td>\n",
       "      <td>PoW</td>\n",
       "      <td>1.792718e+07</td>\n",
       "      <td>21000000</td>\n",
       "    </tr>\n",
       "    <tr>\n",
       "      <th>ETH</th>\n",
       "      <td>Ethereum</td>\n",
       "      <td>Ethash</td>\n",
       "      <td>PoW</td>\n",
       "      <td>1.076842e+08</td>\n",
       "      <td>0</td>\n",
       "    </tr>\n",
       "  </tbody>\n",
       "</table>\n",
       "</div>"
      ],
      "text/plain": [
       "       CoinName Algorithm ProofType  TotalCoinsMined TotalCoinSupply\n",
       "42      42 Coin    Scrypt   PoW/PoS     4.199995e+01              42\n",
       "404     404Coin    Scrypt   PoW/PoS     1.055185e+09       532000000\n",
       "1337  EliteCoin       X13   PoW/PoS     2.927942e+10    314159265359\n",
       "BTC     Bitcoin   SHA-256       PoW     1.792718e+07        21000000\n",
       "ETH    Ethereum    Ethash       PoW     1.076842e+08               0"
      ]
     },
     "execution_count": 127,
     "metadata": {},
     "output_type": "execute_result"
    }
   ],
   "source": [
    "# Drop rows where there are 'N/A' text values\n",
    "crypto_df_new = crypto_df_new[crypto_df_new !='N/A']\n",
    "crypto_df_new.head()"
   ]
  },
  {
   "cell_type": "code",
   "execution_count": 128,
   "metadata": {},
   "outputs": [
    {
     "data": {
      "text/html": [
       "<div>\n",
       "<style scoped>\n",
       "    .dataframe tbody tr th:only-of-type {\n",
       "        vertical-align: middle;\n",
       "    }\n",
       "\n",
       "    .dataframe tbody tr th {\n",
       "        vertical-align: top;\n",
       "    }\n",
       "\n",
       "    .dataframe thead th {\n",
       "        text-align: right;\n",
       "    }\n",
       "</style>\n",
       "<table border=\"1\" class=\"dataframe\">\n",
       "  <thead>\n",
       "    <tr style=\"text-align: right;\">\n",
       "      <th></th>\n",
       "      <th>CoinName</th>\n",
       "    </tr>\n",
       "  </thead>\n",
       "  <tbody>\n",
       "    <tr>\n",
       "      <th>42</th>\n",
       "      <td>42 Coin</td>\n",
       "    </tr>\n",
       "    <tr>\n",
       "      <th>404</th>\n",
       "      <td>404Coin</td>\n",
       "    </tr>\n",
       "    <tr>\n",
       "      <th>1337</th>\n",
       "      <td>EliteCoin</td>\n",
       "    </tr>\n",
       "    <tr>\n",
       "      <th>BTC</th>\n",
       "      <td>Bitcoin</td>\n",
       "    </tr>\n",
       "    <tr>\n",
       "      <th>ETH</th>\n",
       "      <td>Ethereum</td>\n",
       "    </tr>\n",
       "  </tbody>\n",
       "</table>\n",
       "</div>"
      ],
      "text/plain": [
       "       CoinName\n",
       "42      42 Coin\n",
       "404     404Coin\n",
       "1337  EliteCoin\n",
       "BTC     Bitcoin\n",
       "ETH    Ethereum"
      ]
     },
     "execution_count": 128,
     "metadata": {},
     "output_type": "execute_result"
    }
   ],
   "source": [
    "# Store the 'CoinName'column in its own DataFrame prior to dropping it from crypto_df and Index\n",
    "coins_name = pd.DataFrame(crypto_df_new['CoinName'])\n",
    "coins_name.head()\n"
   ]
  },
  {
   "cell_type": "code",
   "execution_count": 129,
   "metadata": {},
   "outputs": [
    {
     "data": {
      "text/html": [
       "<div>\n",
       "<style scoped>\n",
       "    .dataframe tbody tr th:only-of-type {\n",
       "        vertical-align: middle;\n",
       "    }\n",
       "\n",
       "    .dataframe tbody tr th {\n",
       "        vertical-align: top;\n",
       "    }\n",
       "\n",
       "    .dataframe thead th {\n",
       "        text-align: right;\n",
       "    }\n",
       "</style>\n",
       "<table border=\"1\" class=\"dataframe\">\n",
       "  <thead>\n",
       "    <tr style=\"text-align: right;\">\n",
       "      <th></th>\n",
       "      <th>Algorithm</th>\n",
       "      <th>ProofType</th>\n",
       "      <th>TotalCoinsMined</th>\n",
       "      <th>TotalCoinSupply</th>\n",
       "    </tr>\n",
       "  </thead>\n",
       "  <tbody>\n",
       "    <tr>\n",
       "      <th>42</th>\n",
       "      <td>Scrypt</td>\n",
       "      <td>PoW/PoS</td>\n",
       "      <td>4.199995e+01</td>\n",
       "      <td>42</td>\n",
       "    </tr>\n",
       "    <tr>\n",
       "      <th>404</th>\n",
       "      <td>Scrypt</td>\n",
       "      <td>PoW/PoS</td>\n",
       "      <td>1.055185e+09</td>\n",
       "      <td>532000000</td>\n",
       "    </tr>\n",
       "    <tr>\n",
       "      <th>1337</th>\n",
       "      <td>X13</td>\n",
       "      <td>PoW/PoS</td>\n",
       "      <td>2.927942e+10</td>\n",
       "      <td>314159265359</td>\n",
       "    </tr>\n",
       "    <tr>\n",
       "      <th>BTC</th>\n",
       "      <td>SHA-256</td>\n",
       "      <td>PoW</td>\n",
       "      <td>1.792718e+07</td>\n",
       "      <td>21000000</td>\n",
       "    </tr>\n",
       "    <tr>\n",
       "      <th>ETH</th>\n",
       "      <td>Ethash</td>\n",
       "      <td>PoW</td>\n",
       "      <td>1.076842e+08</td>\n",
       "      <td>0</td>\n",
       "    </tr>\n",
       "  </tbody>\n",
       "</table>\n",
       "</div>"
      ],
      "text/plain": [
       "     Algorithm ProofType  TotalCoinsMined TotalCoinSupply\n",
       "42      Scrypt   PoW/PoS     4.199995e+01              42\n",
       "404     Scrypt   PoW/PoS     1.055185e+09       532000000\n",
       "1337       X13   PoW/PoS     2.927942e+10    314159265359\n",
       "BTC    SHA-256       PoW     1.792718e+07        21000000\n",
       "ETH     Ethash       PoW     1.076842e+08               0"
      ]
     },
     "execution_count": 129,
     "metadata": {},
     "output_type": "execute_result"
    }
   ],
   "source": [
    "# Drop the 'CoinName' column since it's not going to be used on the clustering algorithm\n",
    "crypto_df_new = crypto_df_new.drop(columns=['CoinName'])\n",
    "crypto_df_new.head()\n"
   ]
  },
  {
   "cell_type": "code",
   "execution_count": 130,
   "metadata": {},
   "outputs": [
    {
     "data": {
      "text/html": [
       "<div>\n",
       "<style scoped>\n",
       "    .dataframe tbody tr th:only-of-type {\n",
       "        vertical-align: middle;\n",
       "    }\n",
       "\n",
       "    .dataframe tbody tr th {\n",
       "        vertical-align: top;\n",
       "    }\n",
       "\n",
       "    .dataframe thead th {\n",
       "        text-align: right;\n",
       "    }\n",
       "</style>\n",
       "<table border=\"1\" class=\"dataframe\">\n",
       "  <thead>\n",
       "    <tr style=\"text-align: right;\">\n",
       "      <th></th>\n",
       "      <th>Algorithm_1GB AES Pattern Search</th>\n",
       "      <th>Algorithm_536</th>\n",
       "      <th>Algorithm_Argon2d</th>\n",
       "      <th>Algorithm_BLAKE256</th>\n",
       "      <th>Algorithm_Blake</th>\n",
       "      <th>Algorithm_Blake2S</th>\n",
       "      <th>Algorithm_Blake2b</th>\n",
       "      <th>Algorithm_C11</th>\n",
       "      <th>Algorithm_Cloverhash</th>\n",
       "      <th>Algorithm_Counterparty</th>\n",
       "      <th>...</th>\n",
       "      <th>ProofType_PoW/PoS</th>\n",
       "      <th>ProofType_PoW/PoS</th>\n",
       "      <th>ProofType_PoW/PoW</th>\n",
       "      <th>ProofType_PoW/nPoS</th>\n",
       "      <th>ProofType_Pos</th>\n",
       "      <th>ProofType_Proof of Authority</th>\n",
       "      <th>ProofType_Proof of Trust</th>\n",
       "      <th>ProofType_TPoS</th>\n",
       "      <th>ProofType_Zero-Knowledge Proof</th>\n",
       "      <th>ProofType_dPoW/PoW</th>\n",
       "    </tr>\n",
       "  </thead>\n",
       "  <tbody>\n",
       "    <tr>\n",
       "      <th>42</th>\n",
       "      <td>0</td>\n",
       "      <td>0</td>\n",
       "      <td>0</td>\n",
       "      <td>0</td>\n",
       "      <td>0</td>\n",
       "      <td>0</td>\n",
       "      <td>0</td>\n",
       "      <td>0</td>\n",
       "      <td>0</td>\n",
       "      <td>0</td>\n",
       "      <td>...</td>\n",
       "      <td>1</td>\n",
       "      <td>0</td>\n",
       "      <td>0</td>\n",
       "      <td>0</td>\n",
       "      <td>0</td>\n",
       "      <td>0</td>\n",
       "      <td>0</td>\n",
       "      <td>0</td>\n",
       "      <td>0</td>\n",
       "      <td>0</td>\n",
       "    </tr>\n",
       "    <tr>\n",
       "      <th>404</th>\n",
       "      <td>0</td>\n",
       "      <td>0</td>\n",
       "      <td>0</td>\n",
       "      <td>0</td>\n",
       "      <td>0</td>\n",
       "      <td>0</td>\n",
       "      <td>0</td>\n",
       "      <td>0</td>\n",
       "      <td>0</td>\n",
       "      <td>0</td>\n",
       "      <td>...</td>\n",
       "      <td>1</td>\n",
       "      <td>0</td>\n",
       "      <td>0</td>\n",
       "      <td>0</td>\n",
       "      <td>0</td>\n",
       "      <td>0</td>\n",
       "      <td>0</td>\n",
       "      <td>0</td>\n",
       "      <td>0</td>\n",
       "      <td>0</td>\n",
       "    </tr>\n",
       "    <tr>\n",
       "      <th>1337</th>\n",
       "      <td>0</td>\n",
       "      <td>0</td>\n",
       "      <td>0</td>\n",
       "      <td>0</td>\n",
       "      <td>0</td>\n",
       "      <td>0</td>\n",
       "      <td>0</td>\n",
       "      <td>0</td>\n",
       "      <td>0</td>\n",
       "      <td>0</td>\n",
       "      <td>...</td>\n",
       "      <td>1</td>\n",
       "      <td>0</td>\n",
       "      <td>0</td>\n",
       "      <td>0</td>\n",
       "      <td>0</td>\n",
       "      <td>0</td>\n",
       "      <td>0</td>\n",
       "      <td>0</td>\n",
       "      <td>0</td>\n",
       "      <td>0</td>\n",
       "    </tr>\n",
       "    <tr>\n",
       "      <th>BTC</th>\n",
       "      <td>0</td>\n",
       "      <td>0</td>\n",
       "      <td>0</td>\n",
       "      <td>0</td>\n",
       "      <td>0</td>\n",
       "      <td>0</td>\n",
       "      <td>0</td>\n",
       "      <td>0</td>\n",
       "      <td>0</td>\n",
       "      <td>0</td>\n",
       "      <td>...</td>\n",
       "      <td>0</td>\n",
       "      <td>0</td>\n",
       "      <td>0</td>\n",
       "      <td>0</td>\n",
       "      <td>0</td>\n",
       "      <td>0</td>\n",
       "      <td>0</td>\n",
       "      <td>0</td>\n",
       "      <td>0</td>\n",
       "      <td>0</td>\n",
       "    </tr>\n",
       "    <tr>\n",
       "      <th>ETH</th>\n",
       "      <td>0</td>\n",
       "      <td>0</td>\n",
       "      <td>0</td>\n",
       "      <td>0</td>\n",
       "      <td>0</td>\n",
       "      <td>0</td>\n",
       "      <td>0</td>\n",
       "      <td>0</td>\n",
       "      <td>0</td>\n",
       "      <td>0</td>\n",
       "      <td>...</td>\n",
       "      <td>0</td>\n",
       "      <td>0</td>\n",
       "      <td>0</td>\n",
       "      <td>0</td>\n",
       "      <td>0</td>\n",
       "      <td>0</td>\n",
       "      <td>0</td>\n",
       "      <td>0</td>\n",
       "      <td>0</td>\n",
       "      <td>0</td>\n",
       "    </tr>\n",
       "  </tbody>\n",
       "</table>\n",
       "<p>5 rows × 98 columns</p>\n",
       "</div>"
      ],
      "text/plain": [
       "      Algorithm_1GB AES Pattern Search  Algorithm_536  Algorithm_Argon2d  \\\n",
       "42                                   0              0                  0   \n",
       "404                                  0              0                  0   \n",
       "1337                                 0              0                  0   \n",
       "BTC                                  0              0                  0   \n",
       "ETH                                  0              0                  0   \n",
       "\n",
       "      Algorithm_BLAKE256  Algorithm_Blake  Algorithm_Blake2S  \\\n",
       "42                     0                0                  0   \n",
       "404                    0                0                  0   \n",
       "1337                   0                0                  0   \n",
       "BTC                    0                0                  0   \n",
       "ETH                    0                0                  0   \n",
       "\n",
       "      Algorithm_Blake2b  Algorithm_C11  Algorithm_Cloverhash  \\\n",
       "42                    0              0                     0   \n",
       "404                   0              0                     0   \n",
       "1337                  0              0                     0   \n",
       "BTC                   0              0                     0   \n",
       "ETH                   0              0                     0   \n",
       "\n",
       "      Algorithm_Counterparty  ...  ProofType_PoW/PoS  ProofType_PoW/PoS   \\\n",
       "42                         0  ...                  1                   0   \n",
       "404                        0  ...                  1                   0   \n",
       "1337                       0  ...                  1                   0   \n",
       "BTC                        0  ...                  0                   0   \n",
       "ETH                        0  ...                  0                   0   \n",
       "\n",
       "      ProofType_PoW/PoW  ProofType_PoW/nPoS  ProofType_Pos  \\\n",
       "42                    0                   0              0   \n",
       "404                   0                   0              0   \n",
       "1337                  0                   0              0   \n",
       "BTC                   0                   0              0   \n",
       "ETH                   0                   0              0   \n",
       "\n",
       "      ProofType_Proof of Authority  ProofType_Proof of Trust  ProofType_TPoS  \\\n",
       "42                               0                         0               0   \n",
       "404                              0                         0               0   \n",
       "1337                             0                         0               0   \n",
       "BTC                              0                         0               0   \n",
       "ETH                              0                         0               0   \n",
       "\n",
       "      ProofType_Zero-Knowledge Proof  ProofType_dPoW/PoW  \n",
       "42                                 0                   0  \n",
       "404                                0                   0  \n",
       "1337                               0                   0  \n",
       "BTC                                0                   0  \n",
       "ETH                                0                   0  \n",
       "\n",
       "[5 rows x 98 columns]"
      ]
     },
     "execution_count": 130,
     "metadata": {},
     "output_type": "execute_result"
    }
   ],
   "source": [
    "# Create dummy variables for text features\n",
    "X = pd.get_dummies(crypto_df_new[['Algorithm', 'ProofType']])\n",
    "X.head()\n"
   ]
  },
  {
   "cell_type": "code",
   "execution_count": 131,
   "metadata": {},
   "outputs": [
    {
     "name": "stdout",
     "output_type": "stream",
     "text": [
      "[[-0.0433555  -0.0433555  -0.0433555  -0.06137164 -0.07523548 -0.0433555\n",
      "  -0.06137164 -0.06137164 -0.0433555  -0.0433555  -0.19226279 -0.06137164\n",
      "  -0.09731237 -0.0433555  -0.11536024 -0.07523548 -0.0433555  -0.0433555\n",
      "  -0.15176505 -0.0433555  -0.13105561 -0.0433555  -0.0433555  -0.08695652\n",
      "  -0.0433555  -0.0433555  -0.0433555  -0.0433555  -0.06137164 -0.0433555\n",
      "  -0.08695652 -0.08695652 -0.08695652 -0.0433555  -0.13105561 -0.13827675\n",
      "  -0.13827675 -0.0433555  -0.06137164 -0.0433555  -0.07523548 -0.1815096\n",
      "  -0.0433555  -0.0433555  -0.0433555  -0.07523548 -0.15811388 -0.3145935\n",
      "  -0.0433555  -0.08695652 -0.07523548 -0.06137164 -0.0433555   1.38873015\n",
      "  -0.0433555  -0.0433555  -0.06137164 -0.0433555  -0.0433555  -0.0433555\n",
      "  -0.0433555  -0.0433555  -0.0433555  -0.0433555  -0.0433555  -0.39836623\n",
      "  -0.0433555  -0.1815096  -0.0433555  -0.08695652 -0.08695652 -0.10670145\n",
      "  -0.0433555  -0.0433555  -0.13105561 -0.0433555  -0.0433555  -0.0433555\n",
      "  -0.0433555  -0.07523548 -0.4386271  -0.0433555  -0.06137164 -0.0433555\n",
      "  -0.0433555  -0.89480483 -0.0433555  -0.0433555   1.42422228 -0.0433555\n",
      "  -0.0433555  -0.0433555  -0.0433555  -0.0433555  -0.0433555  -0.0433555\n",
      "  -0.0433555  -0.0433555 ]\n",
      " [-0.0433555  -0.0433555  -0.0433555  -0.06137164 -0.07523548 -0.0433555\n",
      "  -0.06137164 -0.06137164 -0.0433555  -0.0433555  -0.19226279 -0.06137164\n",
      "  -0.09731237 -0.0433555  -0.11536024 -0.07523548 -0.0433555  -0.0433555\n",
      "  -0.15176505 -0.0433555  -0.13105561 -0.0433555  -0.0433555  -0.08695652\n",
      "  -0.0433555  -0.0433555  -0.0433555  -0.0433555  -0.06137164 -0.0433555\n",
      "  -0.08695652 -0.08695652 -0.08695652 -0.0433555  -0.13105561 -0.13827675\n",
      "  -0.13827675 -0.0433555  -0.06137164 -0.0433555  -0.07523548 -0.1815096\n",
      "  -0.0433555  -0.0433555  -0.0433555  -0.07523548 -0.15811388 -0.3145935\n",
      "  -0.0433555  -0.08695652 -0.07523548 -0.06137164 -0.0433555   1.38873015\n",
      "  -0.0433555  -0.0433555  -0.06137164 -0.0433555  -0.0433555  -0.0433555\n",
      "  -0.0433555  -0.0433555  -0.0433555  -0.0433555  -0.0433555  -0.39836623\n",
      "  -0.0433555  -0.1815096  -0.0433555  -0.08695652 -0.08695652 -0.10670145\n",
      "  -0.0433555  -0.0433555  -0.13105561 -0.0433555  -0.0433555  -0.0433555\n",
      "  -0.0433555  -0.07523548 -0.4386271  -0.0433555  -0.06137164 -0.0433555\n",
      "  -0.0433555  -0.89480483 -0.0433555  -0.0433555   1.42422228 -0.0433555\n",
      "  -0.0433555  -0.0433555  -0.0433555  -0.0433555  -0.0433555  -0.0433555\n",
      "  -0.0433555  -0.0433555 ]\n",
      " [-0.0433555  -0.0433555  -0.0433555  -0.06137164 -0.07523548 -0.0433555\n",
      "  -0.06137164 -0.06137164 -0.0433555  -0.0433555  -0.19226279 -0.06137164\n",
      "  -0.09731237 -0.0433555  -0.11536024 -0.07523548 -0.0433555  -0.0433555\n",
      "  -0.15176505 -0.0433555  -0.13105561 -0.0433555  -0.0433555  -0.08695652\n",
      "  -0.0433555  -0.0433555  -0.0433555  -0.0433555  -0.06137164 -0.0433555\n",
      "  -0.08695652 -0.08695652 -0.08695652 -0.0433555  -0.13105561 -0.13827675\n",
      "  -0.13827675 -0.0433555  -0.06137164 -0.0433555  -0.07523548 -0.1815096\n",
      "  -0.0433555  -0.0433555  -0.0433555  -0.07523548 -0.15811388 -0.3145935\n",
      "  -0.0433555  -0.08695652 -0.07523548 -0.06137164 -0.0433555  -0.7200823\n",
      "  -0.0433555  -0.0433555  -0.06137164 -0.0433555  -0.0433555  -0.0433555\n",
      "  -0.0433555  -0.0433555  -0.0433555  -0.0433555  -0.0433555  -0.39836623\n",
      "  -0.0433555   5.50935034 -0.0433555  -0.08695652 -0.08695652 -0.10670145\n",
      "  -0.0433555  -0.0433555  -0.13105561 -0.0433555  -0.0433555  -0.0433555\n",
      "  -0.0433555  -0.07523548 -0.4386271  -0.0433555  -0.06137164 -0.0433555\n",
      "  -0.0433555  -0.89480483 -0.0433555  -0.0433555   1.42422228 -0.0433555\n",
      "  -0.0433555  -0.0433555  -0.0433555  -0.0433555  -0.0433555  -0.0433555\n",
      "  -0.0433555  -0.0433555 ]\n",
      " [-0.0433555  -0.0433555  -0.0433555  -0.06137164 -0.07523548 -0.0433555\n",
      "  -0.06137164 -0.06137164 -0.0433555  -0.0433555  -0.19226279 -0.06137164\n",
      "  -0.09731237 -0.0433555  -0.11536024 -0.07523548 -0.0433555  -0.0433555\n",
      "  -0.15176505 -0.0433555  -0.13105561 -0.0433555  -0.0433555  -0.08695652\n",
      "  -0.0433555  -0.0433555  -0.0433555  -0.0433555  -0.06137164 -0.0433555\n",
      "  -0.08695652 -0.08695652 -0.08695652 -0.0433555  -0.13105561 -0.13827675\n",
      "  -0.13827675 -0.0433555  -0.06137164 -0.0433555  -0.07523548 -0.1815096\n",
      "  -0.0433555  -0.0433555  -0.0433555  -0.07523548 -0.15811388  3.17870519\n",
      "  -0.0433555  -0.08695652 -0.07523548 -0.06137164 -0.0433555  -0.7200823\n",
      "  -0.0433555  -0.0433555  -0.06137164 -0.0433555  -0.0433555  -0.0433555\n",
      "  -0.0433555  -0.0433555  -0.0433555  -0.0433555  -0.0433555  -0.39836623\n",
      "  -0.0433555  -0.1815096  -0.0433555  -0.08695652 -0.08695652 -0.10670145\n",
      "  -0.0433555  -0.0433555  -0.13105561 -0.0433555  -0.0433555  -0.0433555\n",
      "  -0.0433555  -0.07523548 -0.4386271  -0.0433555  -0.06137164 -0.0433555\n",
      "  -0.0433555   1.11756214 -0.0433555  -0.0433555  -0.70213759 -0.0433555\n",
      "  -0.0433555  -0.0433555  -0.0433555  -0.0433555  -0.0433555  -0.0433555\n",
      "  -0.0433555  -0.0433555 ]\n",
      " [-0.0433555  -0.0433555  -0.0433555  -0.06137164 -0.07523548 -0.0433555\n",
      "  -0.06137164 -0.06137164 -0.0433555  -0.0433555  -0.19226279 -0.06137164\n",
      "  -0.09731237 -0.0433555  -0.11536024 -0.07523548 -0.0433555  -0.0433555\n",
      "  -0.15176505 -0.0433555   7.63034876 -0.0433555  -0.0433555  -0.08695652\n",
      "  -0.0433555  -0.0433555  -0.0433555  -0.0433555  -0.06137164 -0.0433555\n",
      "  -0.08695652 -0.08695652 -0.08695652 -0.0433555  -0.13105561 -0.13827675\n",
      "  -0.13827675 -0.0433555  -0.06137164 -0.0433555  -0.07523548 -0.1815096\n",
      "  -0.0433555  -0.0433555  -0.0433555  -0.07523548 -0.15811388 -0.3145935\n",
      "  -0.0433555  -0.08695652 -0.07523548 -0.06137164 -0.0433555  -0.7200823\n",
      "  -0.0433555  -0.0433555  -0.06137164 -0.0433555  -0.0433555  -0.0433555\n",
      "  -0.0433555  -0.0433555  -0.0433555  -0.0433555  -0.0433555  -0.39836623\n",
      "  -0.0433555  -0.1815096  -0.0433555  -0.08695652 -0.08695652 -0.10670145\n",
      "  -0.0433555  -0.0433555  -0.13105561 -0.0433555  -0.0433555  -0.0433555\n",
      "  -0.0433555  -0.07523548 -0.4386271  -0.0433555  -0.06137164 -0.0433555\n",
      "  -0.0433555   1.11756214 -0.0433555  -0.0433555  -0.70213759 -0.0433555\n",
      "  -0.0433555  -0.0433555  -0.0433555  -0.0433555  -0.0433555  -0.0433555\n",
      "  -0.0433555  -0.0433555 ]]\n"
     ]
    }
   ],
   "source": [
    "# Standardize data\n",
    "crypto_scaled = StandardScaler().fit_transform(X)\n",
    "print(crypto_scaled[0:5])"
   ]
  },
  {
   "cell_type": "markdown",
   "metadata": {},
   "source": [
    "### Reducing Dimensions Using PCA"
   ]
  },
  {
   "cell_type": "code",
   "execution_count": 132,
   "metadata": {},
   "outputs": [
    {
     "name": "stdout",
     "output_type": "stream",
     "text": [
      "[[-0.0433555 -0.0433555 -0.0433555 ... -0.0433555 -0.0433555 -0.0433555]\n",
      " [-0.0433555 -0.0433555 -0.0433555 ... -0.0433555 -0.0433555 -0.0433555]\n",
      " [-0.0433555 -0.0433555 -0.0433555 ... -0.0433555 -0.0433555 -0.0433555]\n",
      " ...\n",
      " [-0.0433555 -0.0433555 -0.0433555 ... -0.0433555 -0.0433555 -0.0433555]\n",
      " [-0.0433555 -0.0433555 -0.0433555 ... -0.0433555 -0.0433555 -0.0433555]\n",
      " [-0.0433555 -0.0433555 -0.0433555 ... -0.0433555 -0.0433555 -0.0433555]]\n"
     ]
    }
   ],
   "source": [
    "# Initialize PCA model\n",
    "pca = PCA(n_components=3)\n",
    "print(crypto_scaled[0:20])\n",
    "\n",
    "# Use PCA to reduce dimensions to 3 principal components\n",
    "crypto_pca = pca.fit_transform(crypto_scaled)\n"
   ]
  },
  {
   "cell_type": "code",
   "execution_count": 133,
   "metadata": {},
   "outputs": [
    {
     "data": {
      "text/html": [
       "<div>\n",
       "<style scoped>\n",
       "    .dataframe tbody tr th:only-of-type {\n",
       "        vertical-align: middle;\n",
       "    }\n",
       "\n",
       "    .dataframe tbody tr th {\n",
       "        vertical-align: top;\n",
       "    }\n",
       "\n",
       "    .dataframe thead th {\n",
       "        text-align: right;\n",
       "    }\n",
       "</style>\n",
       "<table border=\"1\" class=\"dataframe\">\n",
       "  <thead>\n",
       "    <tr style=\"text-align: right;\">\n",
       "      <th></th>\n",
       "      <th>PC 1</th>\n",
       "      <th>PC 2</th>\n",
       "      <th>PC 3</th>\n",
       "    </tr>\n",
       "  </thead>\n",
       "  <tbody>\n",
       "    <tr>\n",
       "      <th>42</th>\n",
       "      <td>1.014099</td>\n",
       "      <td>-0.708930</td>\n",
       "      <td>-0.002485</td>\n",
       "    </tr>\n",
       "    <tr>\n",
       "      <th>404</th>\n",
       "      <td>1.014099</td>\n",
       "      <td>-0.708930</td>\n",
       "      <td>-0.002485</td>\n",
       "    </tr>\n",
       "    <tr>\n",
       "      <th>1337</th>\n",
       "      <td>1.770482</td>\n",
       "      <td>-0.781781</td>\n",
       "      <td>-0.000258</td>\n",
       "    </tr>\n",
       "    <tr>\n",
       "      <th>BTC</th>\n",
       "      <td>-1.249896</td>\n",
       "      <td>0.245768</td>\n",
       "      <td>0.013076</td>\n",
       "    </tr>\n",
       "    <tr>\n",
       "      <th>ETH</th>\n",
       "      <td>-1.963110</td>\n",
       "      <td>0.452870</td>\n",
       "      <td>-0.013238</td>\n",
       "    </tr>\n",
       "    <tr>\n",
       "      <th>LTC</th>\n",
       "      <td>-1.089237</td>\n",
       "      <td>-0.012295</td>\n",
       "      <td>0.001541</td>\n",
       "    </tr>\n",
       "    <tr>\n",
       "      <th>DASH</th>\n",
       "      <td>1.247148</td>\n",
       "      <td>-0.649922</td>\n",
       "      <td>0.002069</td>\n",
       "    </tr>\n",
       "    <tr>\n",
       "      <th>XMR</th>\n",
       "      <td>-2.184610</td>\n",
       "      <td>0.464764</td>\n",
       "      <td>-0.011659</td>\n",
       "    </tr>\n",
       "    <tr>\n",
       "      <th>ETC</th>\n",
       "      <td>-1.963110</td>\n",
       "      <td>0.452870</td>\n",
       "      <td>-0.013238</td>\n",
       "    </tr>\n",
       "    <tr>\n",
       "      <th>ZEC</th>\n",
       "      <td>-1.860098</td>\n",
       "      <td>0.503701</td>\n",
       "      <td>-0.000357</td>\n",
       "    </tr>\n",
       "  </tbody>\n",
       "</table>\n",
       "</div>"
      ],
      "text/plain": [
       "          PC 1      PC 2      PC 3\n",
       "42    1.014099 -0.708930 -0.002485\n",
       "404   1.014099 -0.708930 -0.002485\n",
       "1337  1.770482 -0.781781 -0.000258\n",
       "BTC  -1.249896  0.245768  0.013076\n",
       "ETH  -1.963110  0.452870 -0.013238\n",
       "LTC  -1.089237 -0.012295  0.001541\n",
       "DASH  1.247148 -0.649922  0.002069\n",
       "XMR  -2.184610  0.464764 -0.011659\n",
       "ETC  -1.963110  0.452870 -0.013238\n",
       "ZEC  -1.860098  0.503701 -0.000357"
      ]
     },
     "execution_count": 133,
     "metadata": {},
     "output_type": "execute_result"
    }
   ],
   "source": [
    "# Create a DataFrame with the principal components data\n",
    "pcs_df = pd.DataFrame(\n",
    "    data=crypto_pca,\n",
    "    columns=[\"PC 1\", \"PC 2\", \"PC 3\"],\n",
    "    index=crypto_df_new.index\n",
    "\n",
    ")\n",
    "pcs_df.head(10)\n"
   ]
  },
  {
   "cell_type": "markdown",
   "metadata": {},
   "source": [
    "### Clustering Crytocurrencies Using K-Means\n",
    "\n",
    "#### Find the Best Value for `k` Using the Elbow Curve"
   ]
  },
  {
   "cell_type": "code",
   "execution_count": 134,
   "metadata": {},
   "outputs": [
    {
     "data": {},
     "metadata": {},
     "output_type": "display_data"
    },
    {
     "data": {
      "application/vnd.holoviews_exec.v0+json": "",
      "text/html": [
       "<div id='3671'>\n",
       "\n",
       "\n",
       "\n",
       "\n",
       "\n",
       "  <div class=\"bk-root\" id=\"01b803cc-dffa-4379-8c01-51cb1c608973\" data-root-id=\"3671\"></div>\n",
       "</div>\n",
       "<script type=\"application/javascript\">(function(root) {\n",
       "  function embed_document(root) {\n",
       "  var docs_json = {\"645df791-c218-4a11-a5f8-feaf16b277f0\":{\"roots\":{\"references\":[{\"attributes\":{\"text\":\"Elbow Curve\",\"text_color\":{\"value\":\"black\"},\"text_font_size\":{\"value\":\"12pt\"}},\"id\":\"3677\",\"type\":\"Title\"},{\"attributes\":{\"axis_label\":\"inertia\",\"bounds\":\"auto\",\"formatter\":{\"id\":\"3720\"},\"major_label_orientation\":\"horizontal\",\"ticker\":{\"id\":\"3690\"}},\"id\":\"3689\",\"type\":\"LinearAxis\"},{\"attributes\":{\"data_source\":{\"id\":\"3706\"},\"glyph\":{\"id\":\"3709\"},\"hover_glyph\":null,\"muted_glyph\":{\"id\":\"3711\"},\"nonselection_glyph\":{\"id\":\"3710\"},\"selection_glyph\":null,\"view\":{\"id\":\"3713\"}},\"id\":\"3712\",\"type\":\"GlyphRenderer\"},{\"attributes\":{},\"id\":\"3720\",\"type\":\"BasicTickFormatter\"},{\"attributes\":{\"margin\":[5,5,5,5],\"name\":\"HSpacer08394\",\"sizing_mode\":\"stretch_width\"},\"id\":\"3728\",\"type\":\"Spacer\"},{\"attributes\":{\"align\":null,\"below\":[{\"id\":\"3685\"}],\"center\":[{\"id\":\"3688\"},{\"id\":\"3692\"}],\"left\":[{\"id\":\"3689\"}],\"margin\":null,\"min_border_bottom\":10,\"min_border_left\":10,\"min_border_right\":10,\"min_border_top\":10,\"plot_height\":300,\"plot_width\":700,\"renderers\":[{\"id\":\"3712\"}],\"sizing_mode\":\"fixed\",\"title\":{\"id\":\"3677\"},\"toolbar\":{\"id\":\"3699\"},\"x_range\":{\"id\":\"3673\"},\"x_scale\":{\"id\":\"3681\"},\"y_range\":{\"id\":\"3674\"},\"y_scale\":{\"id\":\"3683\"}},\"id\":\"3676\",\"subtype\":\"Figure\",\"type\":\"Plot\"},{\"attributes\":{},\"id\":\"3707\",\"type\":\"Selection\"},{\"attributes\":{\"end\":3569.476076442947,\"reset_end\":3569.476076442947,\"reset_start\":-253.23376589783706,\"start\":-253.23376589783706,\"tags\":[[[\"inertia\",\"inertia\",null]]]},\"id\":\"3674\",\"type\":\"Range1d\"},{\"attributes\":{\"callback\":null,\"renderers\":[{\"id\":\"3712\"}],\"tags\":[\"hv_created\"],\"tooltips\":[[\"k\",\"@{k}\"],[\"inertia\",\"@{inertia}\"]]},\"id\":\"3675\",\"type\":\"HoverTool\"},{\"attributes\":{},\"id\":\"3726\",\"type\":\"UnionRenderers\"},{\"attributes\":{},\"id\":\"3681\",\"type\":\"LinearScale\"},{\"attributes\":{\"line_color\":\"#1f77b3\",\"line_width\":2,\"x\":{\"field\":\"k\"},\"y\":{\"field\":\"inertia\"}},\"id\":\"3709\",\"type\":\"Line\"},{\"attributes\":{\"bottom_units\":\"screen\",\"fill_alpha\":0.5,\"fill_color\":\"lightgrey\",\"left_units\":\"screen\",\"level\":\"overlay\",\"line_alpha\":1.0,\"line_color\":\"black\",\"line_dash\":[4,4],\"line_width\":2,\"render_mode\":\"css\",\"right_units\":\"screen\",\"top_units\":\"screen\"},\"id\":\"3698\",\"type\":\"BoxAnnotation\"},{\"attributes\":{},\"id\":\"3694\",\"type\":\"PanTool\"},{\"attributes\":{},\"id\":\"3716\",\"type\":\"BasicTickFormatter\"},{\"attributes\":{},\"id\":\"3690\",\"type\":\"BasicTicker\"},{\"attributes\":{\"children\":[{\"id\":\"3672\"},{\"id\":\"3676\"},{\"id\":\"3728\"}],\"margin\":[0,0,0,0],\"name\":\"Row08389\",\"tags\":[\"embedded\"]},\"id\":\"3671\",\"type\":\"Row\"},{\"attributes\":{\"line_alpha\":0.2,\"line_color\":\"#1f77b3\",\"line_width\":2,\"x\":{\"field\":\"k\"},\"y\":{\"field\":\"inertia\"}},\"id\":\"3711\",\"type\":\"Line\"},{\"attributes\":{\"axis\":{\"id\":\"3685\"},\"grid_line_color\":null,\"ticker\":null},\"id\":\"3688\",\"type\":\"Grid\"},{\"attributes\":{\"source\":{\"id\":\"3706\"}},\"id\":\"3713\",\"type\":\"CDSView\"},{\"attributes\":{\"margin\":[5,5,5,5],\"name\":\"HSpacer08393\",\"sizing_mode\":\"stretch_width\"},\"id\":\"3672\",\"type\":\"Spacer\"},{\"attributes\":{\"ticks\":[1,2,3,4,5,6,7,8,9,10]},\"id\":\"3714\",\"type\":\"FixedTicker\"},{\"attributes\":{\"axis\":{\"id\":\"3689\"},\"dimension\":1,\"grid_line_color\":null,\"ticker\":null},\"id\":\"3692\",\"type\":\"Grid\"},{\"attributes\":{\"data\":{\"inertia\":{\"__ndarray__\":\"4JXrdtVlqUBYKq3m1bqhQHhoY67j8ZRAAzV35jaYe0A1cPyLmKhyQMce5rcWBWxAUiCCxrukY0BqJBtBD8teQPmmK2VVeVZAPvKjJtNUUEA=\",\"dtype\":\"float64\",\"shape\":[10]},\"k\":[1,2,3,4,5,6,7,8,9,10]},\"selected\":{\"id\":\"3707\"},\"selection_policy\":{\"id\":\"3726\"}},\"id\":\"3706\",\"type\":\"ColumnDataSource\"},{\"attributes\":{\"line_alpha\":0.1,\"line_color\":\"#1f77b3\",\"line_width\":2,\"x\":{\"field\":\"k\"},\"y\":{\"field\":\"inertia\"}},\"id\":\"3710\",\"type\":\"Line\"},{\"attributes\":{},\"id\":\"3697\",\"type\":\"ResetTool\"},{\"attributes\":{},\"id\":\"3693\",\"type\":\"SaveTool\"},{\"attributes\":{},\"id\":\"3695\",\"type\":\"WheelZoomTool\"},{\"attributes\":{\"active_drag\":\"auto\",\"active_inspect\":\"auto\",\"active_multi\":null,\"active_scroll\":\"auto\",\"active_tap\":\"auto\",\"tools\":[{\"id\":\"3675\"},{\"id\":\"3693\"},{\"id\":\"3694\"},{\"id\":\"3695\"},{\"id\":\"3696\"},{\"id\":\"3697\"}]},\"id\":\"3699\",\"type\":\"Toolbar\"},{\"attributes\":{\"end\":10.0,\"reset_end\":10.0,\"reset_start\":1.0,\"start\":1.0,\"tags\":[[[\"k\",\"k\",null]]]},\"id\":\"3673\",\"type\":\"Range1d\"},{\"attributes\":{},\"id\":\"3683\",\"type\":\"LinearScale\"},{\"attributes\":{\"overlay\":{\"id\":\"3698\"}},\"id\":\"3696\",\"type\":\"BoxZoomTool\"},{\"attributes\":{\"axis_label\":\"k\",\"bounds\":\"auto\",\"formatter\":{\"id\":\"3716\"},\"major_label_orientation\":\"horizontal\",\"ticker\":{\"id\":\"3714\"}},\"id\":\"3685\",\"type\":\"LinearAxis\"}],\"root_ids\":[\"3671\"]},\"title\":\"Bokeh Application\",\"version\":\"2.0.2\"}};\n",
       "  var render_items = [{\"docid\":\"645df791-c218-4a11-a5f8-feaf16b277f0\",\"root_ids\":[\"3671\"],\"roots\":{\"3671\":\"01b803cc-dffa-4379-8c01-51cb1c608973\"}}];\n",
       "  root.Bokeh.embed.embed_items_notebook(docs_json, render_items);\n",
       "  }\n",
       "if (root.Bokeh !== undefined) {\n",
       "    embed_document(root);\n",
       "  } else {\n",
       "    var attempts = 0;\n",
       "    var timer = setInterval(function(root) {\n",
       "      if (root.Bokeh !== undefined) {\n",
       "        clearInterval(timer);\n",
       "        embed_document(root);\n",
       "      } else if (document.readyState == \"complete\") {\n",
       "        attempts++;\n",
       "        if (attempts > 100) {\n",
       "          clearInterval(timer);\n",
       "          console.log(\"Bokeh: ERROR: Unable to run BokehJS code because BokehJS library is missing\");\n",
       "        }\n",
       "      }\n",
       "    }, 10, root)\n",
       "  }\n",
       "})(window);</script>"
      ],
      "text/plain": [
       ":Curve   [k]   (inertia)"
      ]
     },
     "execution_count": 134,
     "metadata": {
      "application/vnd.holoviews_exec.v0+json": {
       "id": "3671"
      }
     },
     "output_type": "execute_result"
    }
   ],
   "source": [
    "# Finding the best value for k\n",
    "inertia = []\n",
    "k = list(range(1, 11))\n",
    "\n",
    "# Calculate the inertia for the range of k values\n",
    "for i in k:\n",
    "    km = KMeans(n_clusters=i, random_state=0)\n",
    "    km.fit(pcs_df)\n",
    "    inertia.append(km.inertia_)\n",
    "\n",
    "\n",
    "# Create the Elbow Curve using hvPlot\n",
    "elbow_data = {\"k\": k, \"inertia\": inertia}\n",
    "df_elbow = pd.DataFrame(elbow_data)\n",
    "df_elbow.hvplot.line(x=\"k\", y=\"inertia\", xticks=k, title=\"Elbow Curve\")\n"
   ]
  },
  {
   "cell_type": "markdown",
   "metadata": {},
   "source": [
    "Running K-Means with `k=5`"
   ]
  },
  {
   "cell_type": "code",
   "execution_count": 135,
   "metadata": {},
   "outputs": [
    {
     "data": {
      "text/html": [
       "<div>\n",
       "<style scoped>\n",
       "    .dataframe tbody tr th:only-of-type {\n",
       "        vertical-align: middle;\n",
       "    }\n",
       "\n",
       "    .dataframe tbody tr th {\n",
       "        vertical-align: top;\n",
       "    }\n",
       "\n",
       "    .dataframe thead th {\n",
       "        text-align: right;\n",
       "    }\n",
       "</style>\n",
       "<table border=\"1\" class=\"dataframe\">\n",
       "  <thead>\n",
       "    <tr style=\"text-align: right;\">\n",
       "      <th></th>\n",
       "      <th>Algorithm</th>\n",
       "      <th>ProofType</th>\n",
       "      <th>TotalCoinsMined</th>\n",
       "      <th>TotalCoinSupply</th>\n",
       "      <th>PC 1</th>\n",
       "      <th>PC 2</th>\n",
       "      <th>PC 3</th>\n",
       "      <th>CoinName</th>\n",
       "      <th>Class</th>\n",
       "    </tr>\n",
       "  </thead>\n",
       "  <tbody>\n",
       "    <tr>\n",
       "      <th>42</th>\n",
       "      <td>Scrypt</td>\n",
       "      <td>PoW/PoS</td>\n",
       "      <td>4.199995e+01</td>\n",
       "      <td>42</td>\n",
       "      <td>1.014099</td>\n",
       "      <td>-0.708930</td>\n",
       "      <td>-0.002485</td>\n",
       "      <td>42 Coin</td>\n",
       "      <td>1</td>\n",
       "    </tr>\n",
       "    <tr>\n",
       "      <th>404</th>\n",
       "      <td>Scrypt</td>\n",
       "      <td>PoW/PoS</td>\n",
       "      <td>1.055185e+09</td>\n",
       "      <td>532000000</td>\n",
       "      <td>1.014099</td>\n",
       "      <td>-0.708930</td>\n",
       "      <td>-0.002485</td>\n",
       "      <td>404Coin</td>\n",
       "      <td>1</td>\n",
       "    </tr>\n",
       "    <tr>\n",
       "      <th>1337</th>\n",
       "      <td>X13</td>\n",
       "      <td>PoW/PoS</td>\n",
       "      <td>2.927942e+10</td>\n",
       "      <td>314159265359</td>\n",
       "      <td>1.770482</td>\n",
       "      <td>-0.781781</td>\n",
       "      <td>-0.000258</td>\n",
       "      <td>EliteCoin</td>\n",
       "      <td>1</td>\n",
       "    </tr>\n",
       "    <tr>\n",
       "      <th>BTC</th>\n",
       "      <td>SHA-256</td>\n",
       "      <td>PoW</td>\n",
       "      <td>1.792718e+07</td>\n",
       "      <td>21000000</td>\n",
       "      <td>-1.249896</td>\n",
       "      <td>0.245768</td>\n",
       "      <td>0.013076</td>\n",
       "      <td>Bitcoin</td>\n",
       "      <td>0</td>\n",
       "    </tr>\n",
       "    <tr>\n",
       "      <th>ETH</th>\n",
       "      <td>Ethash</td>\n",
       "      <td>PoW</td>\n",
       "      <td>1.076842e+08</td>\n",
       "      <td>0</td>\n",
       "      <td>-1.963110</td>\n",
       "      <td>0.452870</td>\n",
       "      <td>-0.013238</td>\n",
       "      <td>Ethereum</td>\n",
       "      <td>0</td>\n",
       "    </tr>\n",
       "    <tr>\n",
       "      <th>LTC</th>\n",
       "      <td>Scrypt</td>\n",
       "      <td>PoW</td>\n",
       "      <td>6.303924e+07</td>\n",
       "      <td>84000000</td>\n",
       "      <td>-1.089237</td>\n",
       "      <td>-0.012295</td>\n",
       "      <td>0.001541</td>\n",
       "      <td>Litecoin</td>\n",
       "      <td>0</td>\n",
       "    </tr>\n",
       "    <tr>\n",
       "      <th>DASH</th>\n",
       "      <td>X11</td>\n",
       "      <td>PoW/PoS</td>\n",
       "      <td>9.031294e+06</td>\n",
       "      <td>22000000</td>\n",
       "      <td>1.247148</td>\n",
       "      <td>-0.649922</td>\n",
       "      <td>0.002069</td>\n",
       "      <td>Dash</td>\n",
       "      <td>1</td>\n",
       "    </tr>\n",
       "    <tr>\n",
       "      <th>XMR</th>\n",
       "      <td>CryptoNight-V7</td>\n",
       "      <td>PoW</td>\n",
       "      <td>1.720114e+07</td>\n",
       "      <td>0</td>\n",
       "      <td>-2.184610</td>\n",
       "      <td>0.464764</td>\n",
       "      <td>-0.011659</td>\n",
       "      <td>Monero</td>\n",
       "      <td>0</td>\n",
       "    </tr>\n",
       "    <tr>\n",
       "      <th>ETC</th>\n",
       "      <td>Ethash</td>\n",
       "      <td>PoW</td>\n",
       "      <td>1.133597e+08</td>\n",
       "      <td>210000000</td>\n",
       "      <td>-1.963110</td>\n",
       "      <td>0.452870</td>\n",
       "      <td>-0.013238</td>\n",
       "      <td>Ethereum Classic</td>\n",
       "      <td>0</td>\n",
       "    </tr>\n",
       "    <tr>\n",
       "      <th>ZEC</th>\n",
       "      <td>Equihash</td>\n",
       "      <td>PoW</td>\n",
       "      <td>7.383056e+06</td>\n",
       "      <td>21000000</td>\n",
       "      <td>-1.860098</td>\n",
       "      <td>0.503701</td>\n",
       "      <td>-0.000357</td>\n",
       "      <td>ZCash</td>\n",
       "      <td>0</td>\n",
       "    </tr>\n",
       "  </tbody>\n",
       "</table>\n",
       "</div>"
      ],
      "text/plain": [
       "           Algorithm ProofType  TotalCoinsMined TotalCoinSupply      PC 1  \\\n",
       "42            Scrypt   PoW/PoS     4.199995e+01              42  1.014099   \n",
       "404           Scrypt   PoW/PoS     1.055185e+09       532000000  1.014099   \n",
       "1337             X13   PoW/PoS     2.927942e+10    314159265359  1.770482   \n",
       "BTC          SHA-256       PoW     1.792718e+07        21000000 -1.249896   \n",
       "ETH           Ethash       PoW     1.076842e+08               0 -1.963110   \n",
       "LTC           Scrypt       PoW     6.303924e+07        84000000 -1.089237   \n",
       "DASH             X11   PoW/PoS     9.031294e+06        22000000  1.247148   \n",
       "XMR   CryptoNight-V7       PoW     1.720114e+07               0 -2.184610   \n",
       "ETC           Ethash       PoW     1.133597e+08       210000000 -1.963110   \n",
       "ZEC         Equihash       PoW     7.383056e+06        21000000 -1.860098   \n",
       "\n",
       "          PC 2      PC 3          CoinName  Class  \n",
       "42   -0.708930 -0.002485           42 Coin      1  \n",
       "404  -0.708930 -0.002485           404Coin      1  \n",
       "1337 -0.781781 -0.000258         EliteCoin      1  \n",
       "BTC   0.245768  0.013076           Bitcoin      0  \n",
       "ETH   0.452870 -0.013238          Ethereum      0  \n",
       "LTC  -0.012295  0.001541          Litecoin      0  \n",
       "DASH -0.649922  0.002069              Dash      1  \n",
       "XMR   0.464764 -0.011659            Monero      0  \n",
       "ETC   0.452870 -0.013238  Ethereum Classic      0  \n",
       "ZEC   0.503701 -0.000357             ZCash      0  "
      ]
     },
     "execution_count": 135,
     "metadata": {},
     "output_type": "execute_result"
    }
   ],
   "source": [
    "# Initialize the K-Means model\n",
    "model = KMeans(n_clusters=5, random_state=0)\n",
    "\n",
    "# Fit the model\n",
    "model.fit(pcs_df)\n",
    "\n",
    "# Predict clusters\n",
    "predictions = model.predict(pcs_df)\n",
    "\n",
    "# Create a new DataFrame including predicted clusters and cryptocurrencies features\n",
    "clustered_df = pd.DataFrame({\n",
    "    \"Algorithm\": crypto_df_new.Algorithm,\n",
    "    \"ProofType\": crypto_df_new.ProofType,\n",
    "    \"TotalCoinsMined\": crypto_df_new.TotalCoinsMined,\n",
    "    \"TotalCoinSupply\": crypto_df_new.TotalCoinSupply,\n",
    "    \"PC 1\": pcs_df['PC 1'],\n",
    "    \"PC 2\": pcs_df['PC 2'],\n",
    "    \"PC 3\": pcs_df['PC 3'],\n",
    "    \"CoinName\": coins_name.CoinName,\n",
    "    \"Class\": model.labels_,\n",
    "    },index=crypto_df_new.index\n",
    ")\n",
    "clustered_df.head(10)\n"
   ]
  },
  {
   "cell_type": "markdown",
   "metadata": {},
   "source": [
    "### Visualizing Results\n",
    "\n",
    "#### 3D-Scatter with Clusters"
   ]
  },
  {
   "cell_type": "code",
   "execution_count": 136,
   "metadata": {},
   "outputs": [
    {
     "data": {
      "application/vnd.plotly.v1+json": {
       "config": {
        "plotlyServerURL": "https://plot.ly"
       },
       "data": [
        {
         "customdata": [
          [
           "Scrypt"
          ],
          [
           "Scrypt"
          ],
          [
           "X13"
          ],
          [
           "X11"
          ],
          [
           "SHA-512"
          ],
          [
           "SHA-256"
          ],
          [
           "SHA-256"
          ],
          [
           "X15"
          ],
          [
           "Scrypt"
          ],
          [
           "Scrypt"
          ],
          [
           "Scrypt"
          ],
          [
           "Scrypt"
          ],
          [
           "Scrypt"
          ],
          [
           "Scrypt"
          ],
          [
           "Groestl"
          ],
          [
           "PoS"
          ],
          [
           "Scrypt"
          ],
          [
           "Scrypt"
          ],
          [
           "X11"
          ],
          [
           "X11"
          ],
          [
           "SHA3"
          ],
          [
           "Scrypt"
          ],
          [
           "SHA-256"
          ],
          [
           "Scrypt"
          ],
          [
           "X13"
          ],
          [
           "X13"
          ],
          [
           "NeoScrypt"
          ],
          [
           "Scrypt"
          ],
          [
           "Scrypt"
          ],
          [
           "Scrypt"
          ],
          [
           "X11"
          ],
          [
           "X11"
          ],
          [
           "Multiple"
          ],
          [
           "PHI1612"
          ],
          [
           "X11"
          ],
          [
           "Scrypt"
          ],
          [
           "Scrypt"
          ],
          [
           "Scrypt"
          ],
          [
           "X11"
          ],
          [
           "Multiple"
          ],
          [
           "X13"
          ],
          [
           "Scrypt"
          ],
          [
           "Shabal256"
          ],
          [
           "Counterparty"
          ],
          [
           "SHA-256"
          ],
          [
           "Groestl"
          ],
          [
           "Scrypt"
          ],
          [
           "X13"
          ],
          [
           "Scrypt"
          ],
          [
           "Scrypt"
          ],
          [
           "X13"
          ],
          [
           "X11"
          ],
          [
           "Scrypt"
          ],
          [
           "X11"
          ],
          [
           "SHA3"
          ],
          [
           "QUAIT"
          ],
          [
           "X11"
          ],
          [
           "Scrypt"
          ],
          [
           "X13"
          ],
          [
           "SHA-256"
          ],
          [
           "X15"
          ],
          [
           "BLAKE256"
          ],
          [
           "SHA-256"
          ],
          [
           "X11"
          ],
          [
           "SHA-256"
          ],
          [
           "NIST5"
          ],
          [
           "Scrypt"
          ],
          [
           "Scrypt"
          ],
          [
           "X11"
          ],
          [
           "Scrypt"
          ],
          [
           "SHA-256"
          ],
          [
           "Scrypt"
          ],
          [
           "PoS"
          ],
          [
           "X11"
          ],
          [
           "SHA-256"
          ],
          [
           "SHA-256"
          ],
          [
           "NIST5"
          ],
          [
           "X11"
          ],
          [
           "POS 3.0"
          ],
          [
           "Scrypt"
          ],
          [
           "Scrypt"
          ],
          [
           "Scrypt"
          ],
          [
           "X13"
          ],
          [
           "X11"
          ],
          [
           "X11"
          ],
          [
           "Scrypt"
          ],
          [
           "SHA-256"
          ],
          [
           "X11"
          ],
          [
           "Scrypt"
          ],
          [
           "Scrypt"
          ],
          [
           "Scrypt"
          ],
          [
           "Scrypt"
          ],
          [
           "SHA-256D"
          ],
          [
           "PoS"
          ],
          [
           "Scrypt"
          ],
          [
           "X11"
          ],
          [
           "PoS"
          ],
          [
           "X13"
          ],
          [
           "X14"
          ],
          [
           "PoS"
          ],
          [
           "SHA-256D"
          ],
          [
           "DPoS"
          ],
          [
           "X11"
          ],
          [
           "X13"
          ],
          [
           "X11"
          ],
          [
           "PoS"
          ],
          [
           "Scrypt"
          ],
          [
           "Scrypt"
          ],
          [
           "PoS"
          ],
          [
           "X11"
          ],
          [
           "SHA-256"
          ],
          [
           "Scrypt"
          ],
          [
           "X11"
          ],
          [
           "Scrypt"
          ],
          [
           "Scrypt"
          ],
          [
           "X11"
          ],
          [
           "Scrypt"
          ],
          [
           "Scrypt"
          ],
          [
           "Scrypt"
          ],
          [
           "Scrypt"
          ],
          [
           "Quark"
          ],
          [
           "QuBit"
          ],
          [
           "Scrypt"
          ],
          [
           "SHA-256"
          ],
          [
           "X11"
          ],
          [
           "Scrypt"
          ],
          [
           "Scrypt"
          ],
          [
           "Scrypt"
          ],
          [
           "Scrypt"
          ],
          [
           "X13"
          ],
          [
           "Scrypt"
          ],
          [
           "Scrypt"
          ],
          [
           "X11"
          ],
          [
           "Blake2S"
          ],
          [
           "X11"
          ],
          [
           "PoS"
          ],
          [
           "X11"
          ],
          [
           "PoS"
          ],
          [
           "X11"
          ],
          [
           "Scrypt"
          ],
          [
           "Scrypt"
          ],
          [
           "Scrypt"
          ],
          [
           "SHA-256"
          ],
          [
           "X11"
          ],
          [
           "Scrypt"
          ],
          [
           "PoS"
          ],
          [
           "Scrypt"
          ],
          [
           "X15"
          ],
          [
           "SHA-256"
          ],
          [
           "POS 3.0"
          ],
          [
           "536"
          ],
          [
           "NIST5"
          ],
          [
           "NIST5"
          ],
          [
           "Skein"
          ],
          [
           "X13"
          ],
          [
           "Scrypt"
          ],
          [
           "X13"
          ],
          [
           "SkunkHash v2 Raptor"
          ],
          [
           "Skein"
          ],
          [
           "X11"
          ],
          [
           "Scrypt"
          ],
          [
           "PoS"
          ],
          [
           "Scrypt"
          ],
          [
           "Scrypt"
          ],
          [
           "SHA-512"
          ],
          [
           "Ouroboros"
          ],
          [
           "X11"
          ],
          [
           "NeoScrypt"
          ],
          [
           "Scrypt"
          ],
          [
           "Lyra2REv2"
          ],
          [
           "Scrypt"
          ],
          [
           "SHA-256"
          ],
          [
           "NIST5"
          ],
          [
           "PHI1612"
          ],
          [
           "Scrypt"
          ],
          [
           "Quark"
          ],
          [
           "POS 2.0"
          ],
          [
           "Scrypt"
          ],
          [
           "SHA-256"
          ],
          [
           "X11"
          ],
          [
           "DPoS"
          ],
          [
           "NIST5"
          ],
          [
           "X13"
          ],
          [
           "Scrypt"
          ],
          [
           "NIST5"
          ],
          [
           "Quark"
          ],
          [
           "Scrypt"
          ],
          [
           "Scrypt"
          ],
          [
           "X11"
          ],
          [
           "Quark"
          ],
          [
           "Scrypt"
          ],
          [
           "Scrypt"
          ],
          [
           "X11"
          ],
          [
           "POS 3.0"
          ],
          [
           "Scrypt"
          ],
          [
           "Scrypt"
          ],
          [
           "X13"
          ],
          [
           "C11"
          ],
          [
           "X11"
          ],
          [
           "XEVAN"
          ],
          [
           "Scrypt"
          ],
          [
           "VBFT"
          ],
          [
           "NIST5"
          ],
          [
           "Scrypt"
          ],
          [
           "Scrypt"
          ],
          [
           "Scrypt"
          ],
          [
           "Green Protocol"
          ],
          [
           "PoS"
          ],
          [
           "Scrypt"
          ],
          [
           "Semux BFT consensus"
          ],
          [
           "Quark"
          ],
          [
           "PoS"
          ],
          [
           "X16R"
          ],
          [
           "Scrypt"
          ],
          [
           "XEVAN"
          ],
          [
           "Scrypt"
          ],
          [
           "Scrypt"
          ],
          [
           "Scrypt"
          ],
          [
           "SHA-256D"
          ],
          [
           "Scrypt"
          ],
          [
           "X15"
          ],
          [
           "Scrypt"
          ],
          [
           "Quark"
          ],
          [
           "SHA-256"
          ],
          [
           "DPoS"
          ],
          [
           "X16R"
          ],
          [
           "Quark"
          ],
          [
           "Quark"
          ],
          [
           "Scrypt"
          ],
          [
           "Lyra2REv2"
          ],
          [
           "Quark"
          ],
          [
           "Scrypt"
          ],
          [
           "X11"
          ],
          [
           "X11"
          ],
          [
           "Scrypt"
          ],
          [
           "PoS"
          ],
          [
           "Keccak"
          ],
          [
           "X11"
          ],
          [
           "Scrypt"
          ],
          [
           "XEVAN"
          ],
          [
           "XEVAN"
          ],
          [
           "X11"
          ],
          [
           "Quark"
          ],
          [
           "Equihash"
          ],
          [
           "Scrypt"
          ],
          [
           "Quark"
          ],
          [
           "Quark"
          ],
          [
           "Scrypt"
          ],
          [
           "X11"
          ],
          [
           "Scrypt"
          ],
          [
           "XEVAN"
          ],
          [
           "SHA-256D"
          ],
          [
           "X11"
          ],
          [
           "X11"
          ],
          [
           "DPoS"
          ],
          [
           "Scrypt"
          ],
          [
           "X11"
          ],
          [
           "Scrypt"
          ],
          [
           "Scrypt"
          ],
          [
           "SHA-256"
          ],
          [
           "Scrypt"
          ],
          [
           "X11"
          ],
          [
           "Scrypt"
          ],
          [
           "SHA-256"
          ],
          [
           "X11"
          ],
          [
           "Scrypt"
          ],
          [
           "Scrypt"
          ],
          [
           "X11"
          ],
          [
           "Scrypt"
          ],
          [
           "PoS"
          ],
          [
           "X11"
          ],
          [
           "SHA-256"
          ],
          [
           "DPoS"
          ],
          [
           "Scrypt"
          ],
          [
           "Scrypt"
          ],
          [
           "NeoScrypt"
          ],
          [
           "X13"
          ],
          [
           "DPoS"
          ],
          [
           "DPoS"
          ],
          [
           "SHA-256"
          ],
          [
           "PoS"
          ],
          [
           "TRC10"
          ],
          [
           "PoS"
          ],
          [
           "SHA-256"
          ],
          [
           "Scrypt"
          ],
          [
           "Scrypt"
          ]
         ],
         "hovertemplate": "<b>%{hovertext}</b><br><br>Class=%{marker.color}<br>PC 1=%{x}<br>PC 2=%{y}<br>PC 3=%{z}<br>Algorithm=%{customdata[0]}<extra></extra>",
         "hovertext": [
          "42 Coin",
          "404Coin",
          "EliteCoin",
          "Dash",
          "Bitshares",
          "BitcoinDark",
          "PayCoin",
          "KoboCoin",
          "Aurora Coin",
          "BlueCoin",
          "EnergyCoin",
          "BitBar",
          "CryptoBullion",
          "CasinoCoin",
          "Diamond",
          "Exclusive Coin",
          "FlutterCoin",
          "HoboNickels",
          "HyperStake",
          "IOCoin",
          "MaxCoin",
          "MintCoin",
          "MazaCoin",
          "Nautilus Coin",
          "NavCoin",
          "OpalCoin",
          "Orbitcoin",
          "PotCoin",
          "PhoenixCoin",
          "Reddcoin",
          "SuperCoin",
          "SyncCoin",
          "TeslaCoin",
          "TittieCoin",
          "TorCoin",
          "UnitaryStatus Dollar",
          "UltraCoin",
          "VeriCoin",
          "X11 Coin",
          "Crypti",
          "StealthCoin",
          "ZCC Coin",
          "BurstCoin",
          "StorjCoin",
          "Neutron",
          "FairCoin",
          "RubyCoin",
          "Kore",
          "Dnotes",
          "8BIT Coin",
          "Sativa Coin",
          "Ucoin",
          "Vtorrent",
          "IslaCoin",
          "Nexus",
          "Droidz",
          "Squall Coin",
          "Diggits",
          "Paycon",
          "Emercoin",
          "EverGreenCoin",
          "Decred",
          "EDRCoin",
          "Hitcoin",
          "DubaiCoin",
          "PWR Coin",
          "BillaryCoin",
          "GPU Coin",
          "EuropeCoin",
          "ZeitCoin",
          "SwingCoin",
          "SafeExchangeCoin",
          "Nebuchadnezzar",
          "Ratecoin",
          "Revenu",
          "Clockcoin",
          "VIP Tokens",
          "BitSend",
          "Let it Ride",
          "PutinCoin",
          "iBankCoin",
          "Frankywillcoin",
          "MudraCoin",
          "Lutetium Coin",
          "GoldBlocks",
          "CarterCoin",
          "BitTokens",
          "MustangCoin",
          "ZoneCoin",
          "RootCoin",
          "BitCurrency",
          "Swiscoin",
          "BuzzCoin",
          "Opair",
          "PesoBit",
          "Halloween Coin",
          "CoffeeCoin",
          "RoyalCoin",
          "GanjaCoin V2",
          "TeamUP",
          "LanaCoin",
          "ARK",
          "InsaneCoin",
          "EmberCoin",
          "XenixCoin",
          "FreeCoin",
          "PLNCoin",
          "AquariusCoin",
          "Creatio",
          "Eternity",
          "Eurocoin",
          "BitcoinFast",
          "Stakenet",
          "BitConnect Coin",
          "MoneyCoin",
          "Enigma",
          "Russiacoin",
          "PandaCoin",
          "GameUnits",
          "GAKHcoin",
          "Allsafe",
          "LiteCreed",
          "Klingon Empire Darsek",
          "Internet of People",
          "KushCoin",
          "Printerium",
          "Impeach",
          "Zilbercoin",
          "FirstCoin",
          "FindCoin",
          "OpenChat",
          "RenosCoin",
          "VirtacoinPlus",
          "TajCoin",
          "Impact",
          "Atmos",
          "HappyCoin",
          "MacronCoin",
          "Condensate",
          "Independent Money System",
          "ArgusCoin",
          "LomoCoin",
          "ProCurrency",
          "GoldReserve",
          "GrowthCoin",
          "Phreak",
          "Degas Coin",
          "HTML5 Coin",
          "Ultimate Secure Cash",
          "QTUM",
          "Espers",
          "Denarius",
          "Virta Unique Coin",
          "Bitcoin Planet",
          "BritCoin",
          "Linda",
          "DeepOnion",
          "Signatum",
          "Cream",
          "Monoeci",
          "Draftcoin",
          "Stakecoin",
          "CoinonatX",
          "Ethereum Dark",
          "Obsidian",
          "Cardano",
          "Regalcoin",
          "TrezarCoin",
          "TerraNovaCoin",
          "Rupee",
          "WomenCoin",
          "Theresa May Coin",
          "NamoCoin",
          "LUXCoin",
          "Xios",
          "Bitcloud 2.0",
          "KekCoin",
          "BlackholeCoin",
          "Infinity Economics",
          "Magnet",
          "Lamden Tau",
          "Electra",
          "Bitcoin Diamond",
          "Cash & Back Coin",
          "Bulwark",
          "Kalkulus",
          "GermanCoin",
          "LiteCoin Ultra",
          "PhantomX",
          "Digiwage",
          "Trollcoin",
          "Litecoin Plus",
          "Monkey Project",
          "TokenPay",
          "My Big Coin",
          "Unified Society USDEX",
          "Tokyo Coin",
          "Stipend",
          "Pushi",
          "Ellerium",
          "Velox",
          "Ontology",
          "Bitspace",
          "Briacoin",
          "Ignition",
          "MedicCoin",
          "Bitcoin Green",
          "Deviant Coin",
          "Abjcoin",
          "Semux",
          "Carebit",
          "Zealium",
          "Proton",
          "iDealCash",
          "Bitcoin Incognito",
          "HollyWoodCoin",
          "Swisscoin",
          "Xt3ch",
          "TheVig",
          "EmaratCoin",
          "Dekado",
          "Lynx",
          "Poseidon Quark",
          "BitcoinWSpectrum",
          "Muse",
          "Trivechain",
          "Dystem",
          "Giant",
          "Peony Coin",
          "Absolute Coin",
          "Vitae",
          "TPCash",
          "ARENON",
          "EUNO",
          "MMOCoin",
          "Ketan",
          "XDNA",
          "PAXEX",
          "ThunderStake",
          "Bettex coin",
          "BitMoney",
          "Junson Ming Chan Coin",
          "HerbCoin",
          "PirateCash",
          "Oduwa",
          "Galilel",
          "Crypto Sports",
          "Credit",
          "Dash Platinum",
          "Nasdacoin",
          "Beetle Coin",
          "Titan Coin",
          "Award",
          "Insane Coin",
          "ALAX",
          "LiteDoge",
          "TruckCoin",
          "OrangeCoin",
          "BitstarCoin",
          "NeosCoin",
          "HyperCoin",
          "PinkCoin",
          "AudioCoin",
          "IncaKoin",
          "Piggy Coin",
          "Genstake",
          "XiaoMiCoin",
          "CapriCoin",
          " ClubCoin",
          "Radium",
          "Creditbit ",
          "OKCash",
          "Lisk",
          "HiCoin",
          "WhiteCoin",
          "FriendshipCoin",
          "Triangles Coin",
          "EOS",
          "Oxycoin",
          "TigerCash",
          "Particl",
          "BitTorrent",
          "Nxt",
          "ZEPHYR",
          "Gapcoin",
          "BitcoinPlus"
         ],
         "legendgroup": "1",
         "marker": {
          "color": [
           1,
           1,
           1,
           1,
           1,
           1,
           1,
           1,
           1,
           1,
           1,
           1,
           1,
           1,
           1,
           1,
           1,
           1,
           1,
           1,
           1,
           1,
           1,
           1,
           1,
           1,
           1,
           1,
           1,
           1,
           1,
           1,
           1,
           1,
           1,
           1,
           1,
           1,
           1,
           1,
           1,
           1,
           1,
           1,
           1,
           1,
           1,
           1,
           1,
           1,
           1,
           1,
           1,
           1,
           1,
           1,
           1,
           1,
           1,
           1,
           1,
           1,
           1,
           1,
           1,
           1,
           1,
           1,
           1,
           1,
           1,
           1,
           1,
           1,
           1,
           1,
           1,
           1,
           1,
           1,
           1,
           1,
           1,
           1,
           1,
           1,
           1,
           1,
           1,
           1,
           1,
           1,
           1,
           1,
           1,
           1,
           1,
           1,
           1,
           1,
           1,
           1,
           1,
           1,
           1,
           1,
           1,
           1,
           1,
           1,
           1,
           1,
           1,
           1,
           1,
           1,
           1,
           1,
           1,
           1,
           1,
           1,
           1,
           1,
           1,
           1,
           1,
           1,
           1,
           1,
           1,
           1,
           1,
           1,
           1,
           1,
           1,
           1,
           1,
           1,
           1,
           1,
           1,
           1,
           1,
           1,
           1,
           1,
           1,
           1,
           1,
           1,
           1,
           1,
           1,
           1,
           1,
           1,
           1,
           1,
           1,
           1,
           1,
           1,
           1,
           1,
           1,
           1,
           1,
           1,
           1,
           1,
           1,
           1,
           1,
           1,
           1,
           1,
           1,
           1,
           1,
           1,
           1,
           1,
           1,
           1,
           1,
           1,
           1,
           1,
           1,
           1,
           1,
           1,
           1,
           1,
           1,
           1,
           1,
           1,
           1,
           1,
           1,
           1,
           1,
           1,
           1,
           1,
           1,
           1,
           1,
           1,
           1,
           1,
           1,
           1,
           1,
           1,
           1,
           1,
           1,
           1,
           1,
           1,
           1,
           1,
           1,
           1,
           1,
           1,
           1,
           1,
           1,
           1,
           1,
           1,
           1,
           1,
           1,
           1,
           1,
           1,
           1,
           1,
           1,
           1,
           1,
           1,
           1,
           1,
           1,
           1,
           1,
           1,
           1,
           1,
           1,
           1,
           1,
           1,
           1,
           1,
           1,
           1,
           1,
           1,
           1,
           1,
           1,
           1,
           1,
           1,
           1,
           1,
           1,
           1,
           1,
           1,
           1,
           1,
           1,
           1,
           1,
           1,
           1,
           1
          ],
          "coloraxis": "coloraxis",
          "symbol": "circle"
         },
         "mode": "markers",
         "name": "1",
         "scene": "scene",
         "showlegend": true,
         "type": "scatter3d",
         "x": [
          1.0140986118445718,
          1.0140986118445672,
          1.7704822067721258,
          1.2471476778043622,
          0.5761678578449737,
          0.8534402002850829,
          0.5614814164215866,
          1.8868918508917043,
          1.0140986118445672,
          1.0140986118445672,
          1.0140986118445672,
          1.0140986118445672,
          1.0140986118445672,
          0.10264997598286428,
          0.9799346256744735,
          1.4538846603483973,
          0.3482454887479022,
          1.0140986118445672,
          0.9551888939408651,
          1.2471476778043609,
          1.5082110401633955,
          0.722139827981071,
          0.8534402002850828,
          0.722139827981071,
          1.770482206772126,
          1.770482206772126,
          0.4931405993274927,
          1.0140986118445672,
          1.0140986118445672,
          1.0140986118445672,
          0.9551888939408651,
          1.2471476778043609,
          0.031545734164525364,
          1.4247675280093097,
          1.2471476778043609,
          1.0140986118445672,
          1.0140986118445672,
          0.2584830101086023,
          1.2471476778043609,
          0.031545734164525364,
          1.770482206772126,
          1.0140986118445672,
          -0.07303896479977616,
          1.328001309483567,
          0.8534402002850828,
          0.9799346256744735,
          0.722139827981071,
          1.770482206772126,
          0.722139827981071,
          1.0140986118445672,
          1.770482206772126,
          0.9551888939408651,
          1.0140986118445672,
          1.2471476778043609,
          1.0008836099364484,
          1.8856740630102116,
          0.6526664480779876,
          0.722139827981071,
          1.770482206772126,
          0.8534402002850828,
          1.8868918508917043,
          0.9638412365325107,
          0.8534402002850828,
          1.2471476778043609,
          0.8534402002850828,
          1.5077082774061907,
          1.0140986118445672,
          0.722139827981071,
          1.2471476778043609,
          0.722139827981071,
          0.8534402002850828,
          0.10264997598286428,
          1.4538846603483973,
          1.2471476778043609,
          0.8534402002850828,
          0.8534402002850828,
          1.5077082774061907,
          1.2471476778043609,
          1.3597739336695072,
          1.0140986118445672,
          1.0140986118445672,
          1.0140986118445672,
          1.4785234229086295,
          0.9551888939408651,
          1.2471476778043609,
          1.0140986118445672,
          0.8534402002850828,
          1.2471476778043609,
          1.0140986118445672,
          1.0140986118445672,
          0.722139827981071,
          0.2550673315285697,
          1.9239849326358949,
          1.4538846603483973,
          1.0140986118445672,
          1.2471476778043609,
          1.4538846603483973,
          1.4785234229086295,
          1.9907858835453764,
          1.4538846603483973,
          1.9239849326358949,
          2.32354437509892,
          1.2471476778043609,
          1.770482206772126,
          1.2471476778043609,
          1.4538846603483973,
          1.0140986118445672,
          1.0140986118445672,
          1.4538846603483973,
          1.2471476778043609,
          0.8534402002850828,
          1.0140986118445672,
          0.83702807780433,
          1.0140986118445672,
          1.0140986118445672,
          1.2471476778043609,
          1.0140986118445672,
          0.722139827981071,
          1.0140986118445672,
          1.0140986118445672,
          1.2937806582957843,
          0.6230704290496856,
          1.0140986118445672,
          0.8534402002850828,
          1.2471476778043609,
          1.0140986118445672,
          1.0140986118445672,
          0.722139827981071,
          0.2724000097450737,
          1.4785234229086295,
          1.0140986118445672,
          0.722139827981071,
          1.2471476778043609,
          1.8987253548346215,
          1.2471476778043609,
          1.4538846603483973,
          1.2471476778043609,
          1.4538846603483973,
          1.2471476778043609,
          1.0140986118445672,
          1.0140986118445672,
          1.0140986118445672,
          0.5614814164215866,
          1.2471476778043609,
          0.722139827981071,
          1.4538846603483973,
          1.0140986118445672,
          1.8868918508917043,
          0.5614814164215866,
          1.3597739336695072,
          1.7417678654586646,
          1.5077082774061907,
          1.5077082774061907,
          2.0955846891984415,
          1.770482206772126,
          1.0140986118445672,
          1.770482206772126,
          1.316478003860249,
          2.0955846891984415,
          1.2471476778043609,
          0.722139827981071,
          1.4538846603483973,
          1.0140986118445672,
          1.0140986118445672,
          0.5761678578449736,
          1.2738315223497907,
          1.2471476778043609,
          0.4931405993274927,
          1.0140986118445672,
          0.6337488939014293,
          1.0140986118445672,
          0.8534402002850828,
          1.5077082774061907,
          1.7167263118728053,
          1.0140986118445672,
          1.5857394421592803,
          1.2683278229245374,
          1.0140986118445672,
          0.5614814164215866,
          1.2471476778043609,
          2.32354437509892,
          1.5077082774061907,
          1.770482206772126,
          1.0140986118445672,
          1.2157494935426951,
          1.2937806582957843,
          1.0140986118445672,
          1.0140986118445672,
          1.2471476778043609,
          1.2937806582957843,
          1.0140986118445672,
          1.0140986118445672,
          0.9551888939408651,
          1.3597739336695072,
          0.1787045258648399,
          1.0140986118445672,
          1.4785234229086295,
          0.9426954563615397,
          1.2471476778043609,
          1.2238553813697084,
          0.722139827981071,
          1.279192016212236,
          1.5077082774061907,
          1.0140986118445672,
          1.0140986118445672,
          0.722139827981071,
          1.3348689266118245,
          1.4538846603483973,
          1.0140986118445672,
          2.401124405386417,
          1.5857394421592803,
          1.4538846603483973,
          0.6108652538928541,
          1.0140986118445672,
          0.6293741516433364,
          0.722139827981071,
          1.0140986118445672,
          0.722139827981071,
          1.9239849326358949,
          1.0140986118445672,
          1.5949330670282083,
          0.3515167476387925,
          1.2937806582957843,
          0.5614814164215866,
          1.7993898579739505,
          0.9028240377563502,
          1.2937806582957843,
          1.5857394421592803,
          0.722139827981071,
          0.9257076777649257,
          1.2937806582957843,
          1.0140986118445672,
          0.9551888939408651,
          1.2471476778043609,
          0.722139827981071,
          1.4538846603483973,
          1.0534848320180714,
          0.9551888939408651,
          1.0140986118445672,
          0.9318965975062122,
          0.45185260690827667,
          0.9551888939408651,
          1.5857394421592803,
          -0.04872092279978718,
          1.0140986118445672,
          1.5857394421592803,
          1.2937806582957843,
          1.0140986118445672,
          0.9551888939408651,
          1.0140986118445672,
          1.2238553813697084,
          1.9239849326358949,
          1.2471476778043609,
          1.2471476778043609,
          2.32354437509892,
          1.0140986118445672,
          1.2471476778043609,
          1.0140986118445672,
          1.0140986118445672,
          0.5614814164215866,
          1.0140986118445672,
          1.2471476778043609,
          1.0140986118445672,
          0.8534402002850828,
          1.2471476778043609,
          1.0140986118445672,
          1.0140986118445672,
          1.2471476778043609,
          1.0140986118445672,
          1.4538846603483973,
          0.8291529216651291,
          0.8534402002850828,
          2.32354437509892,
          0.722139827981071,
          1.0140986118445672,
          0.4931405993274927,
          1.770482206772126,
          2.32354437509892,
          2.32354437509892,
          0.5614814164215866,
          1.4538846603483973,
          2.4615395607672075,
          1.9378248192125003,
          1.0856359335465544,
          1.0140986118445672,
          0.722139827981071
         ],
         "y": [
          -0.7089301552511664,
          -0.7089301552511722,
          -0.7817811911204359,
          -0.6499219904926141,
          -0.0868847472928525,
          -0.45086736620561124,
          -0.07070585830369469,
          -0.7944258725747799,
          -0.7089301552511662,
          -0.7089301552511662,
          -0.7089301552511662,
          -0.7089301552511662,
          -0.7089301552511662,
          -0.38171649635657184,
          -0.5202865687740876,
          -0.12738867915297253,
          -0.3674755606432194,
          -0.7089301552511662,
          -0.26976048259069957,
          -0.649921990492616,
          -0.8977205969212411,
          -0.3287686473492499,
          -0.4508673662056113,
          -0.3287686473492499,
          -0.78178119112043,
          -0.78178119112043,
          -0.4340837996638824,
          -0.7089301552511662,
          -0.7089301552511662,
          -0.7089301552511662,
          -0.26976048259069957,
          -0.649921990492616,
          0.10928846874735307,
          -0.2551444003346554,
          -0.649921990492616,
          -0.7089301552511662,
          -0.7089301552511662,
          -0.3660623977107895,
          -0.649921990492616,
          0.10928846874735307,
          -0.78178119112043,
          -0.7089301552511662,
          -0.2636983992094251,
          -0.27328459073746103,
          -0.4508673662056113,
          -0.5202865687740876,
          -0.3287686473492499,
          -0.78178119112043,
          -0.3287686473492499,
          -0.7089301552511662,
          -0.78178119112043,
          -0.26976048259069957,
          -0.7089301552511662,
          -0.649921990492616,
          -0.8333932784547666,
          -0.9852994195688487,
          -0.23895892103644378,
          -0.3287686473492499,
          -0.78178119112043,
          -0.4508673662056113,
          -0.7944258725747799,
          -0.5729511082458241,
          -0.4508673662056113,
          -0.649921990492616,
          -0.4508673662056113,
          -0.7054167106147665,
          -0.7089301552511662,
          -0.3287686473492499,
          -0.649921990492616,
          -0.3287686473492499,
          -0.4508673662056113,
          -0.38171649635657184,
          -0.12738867915297253,
          -0.649921990492616,
          -0.4508673662056113,
          -0.4508673662056113,
          -0.7054167106147665,
          -0.649921990492616,
          -0.21479041949806812,
          -0.7089301552511662,
          -0.7089301552511662,
          -0.7089301552511662,
          -0.401619683218513,
          -0.26976048259069957,
          -0.649921990492616,
          -0.7089301552511662,
          -0.4508673662056113,
          -0.649921990492616,
          -0.7089301552511662,
          -0.7089301552511662,
          -0.3287686473492499,
          -0.4034354324270192,
          -0.9020389459810003,
          -0.12738867915297253,
          -0.7089301552511662,
          -0.649921990492616,
          -0.12738867915297253,
          -0.401619683218513,
          -0.991911364790649,
          -0.12738867915297253,
          -0.9020389459810003,
          1.063675560946103,
          -0.649921990492616,
          -0.78178119112043,
          -0.649921990492616,
          -0.12738867915297253,
          -0.7089301552511662,
          -0.7089301552511662,
          -0.12738867915297253,
          -0.649921990492616,
          -0.4508673662056113,
          -0.7089301552511662,
          -0.3426439581047932,
          -0.7089301552511662,
          -0.7089301552511662,
          -0.649921990492616,
          -0.7089301552511662,
          -0.3287686473492499,
          -0.7089301552511662,
          -0.7089301552511662,
          -0.269739516806636,
          -0.4749984404379526,
          -0.7089301552511662,
          -0.4508673662056113,
          -0.649921990492616,
          -0.7089301552511662,
          -0.7089301552511662,
          -0.3287686473492499,
          -0.40038690492506535,
          -0.401619683218513,
          -0.7089301552511662,
          -0.3287686473492499,
          -0.649921990492616,
          -0.8883298609967123,
          -0.649921990492616,
          -0.12738867915297253,
          -0.649921990492616,
          -0.12738867915297253,
          -0.649921990492616,
          -0.7089301552511662,
          -0.7089301552511662,
          -0.7089301552511662,
          -0.07070585830369469,
          -0.649921990492616,
          -0.3287686473492499,
          -0.12738867915297253,
          -0.7089301552511662,
          -0.7944258725747799,
          -0.07070585830369469,
          -0.21479041949806812,
          -0.9205582109192998,
          -0.7054167106147665,
          -0.7054167106147665,
          -0.8770313225877419,
          -0.78178119112043,
          -0.7089301552511662,
          -0.78178119112043,
          -0.17524991758555547,
          -0.8770313225877419,
          -0.649921990492616,
          -0.3287686473492499,
          -0.12738867915297253,
          -0.7089301552511662,
          -0.7089301552511662,
          -0.08688474729285278,
          -0.022828704675190225,
          -0.649921990492616,
          -0.4340837996638824,
          -0.7089301552511662,
          -0.10531105469896293,
          -0.7089301552511662,
          -0.4508673662056113,
          -0.7054167106147665,
          -0.6353059082365718,
          -0.7089301552511662,
          -0.6499010247085527,
          -0.18573400822282843,
          -0.7089301552511662,
          -0.07070585830369469,
          -0.649921990492616,
          1.063675560946103,
          -0.7054167106147665,
          -0.78178119112043,
          -0.7089301552511662,
          -0.32525520271284974,
          -0.269739516806636,
          -0.7089301552511662,
          -0.7089301552511662,
          -0.649921990492616,
          -0.269739516806636,
          -0.7089301552511662,
          -0.7089301552511662,
          -0.26976048259069957,
          -0.21479041949806812,
          -0.4021403000369788,
          -0.7089301552511662,
          -0.401619683218513,
          -0.6206006527486589,
          -0.649921990492616,
          -0.5559131690678002,
          -0.3287686473492499,
          -0.12120996572738017,
          -0.7054167106147665,
          -0.7089301552511662,
          -0.7089301552511662,
          -0.3287686473492499,
          -0.13135556949486116,
          -0.12738867915297253,
          -0.7089301552511662,
          1.1432269719581276,
          -0.6499010247085527,
          -0.12738867915297253,
          -0.07652231236458519,
          -0.7089301552511662,
          -0.14495009961162383,
          -0.3287686473492499,
          -0.7089301552511662,
          -0.3287686473492499,
          -0.9020389459810003,
          -0.7089301552511662,
          -0.4142643646728636,
          -0.3367007954510738,
          -0.269739516806636,
          -0.07070585830369469,
          0.41992286648985216,
          -0.4566838202665019,
          -0.269739516806636,
          -0.6499010247085527,
          -0.3287686473492499,
          -0.4854725626008797,
          -0.269739516806636,
          -0.7089301552511662,
          -0.26976048259069957,
          -0.649921990492616,
          -0.3287686473492499,
          -0.12738867915297253,
          -0.5524045383284828,
          -0.26976048259069957,
          -0.7089301552511662,
          -0.17575166116588348,
          -0.0714455894076004,
          -0.26976048259069957,
          -0.6499010247085527,
          0.18722724406488842,
          -0.7089301552511662,
          -0.6499010247085527,
          -0.269739516806636,
          -0.7089301552511662,
          -0.26976048259069957,
          -0.7089301552511662,
          -0.5559131690678002,
          -0.9020389459810003,
          -0.649921990492616,
          -0.649921990492616,
          1.063675560946103,
          -0.7089301552511662,
          -0.649921990492616,
          -0.7089301552511662,
          -0.7089301552511662,
          -0.07070585830369469,
          -0.7089301552511662,
          -0.649921990492616,
          -0.7089301552511662,
          -0.4508673662056113,
          -0.649921990492616,
          -0.7089301552511662,
          -0.7089301552511662,
          -0.649921990492616,
          -0.7089301552511662,
          -0.12738867915297253,
          -0.23762045869402765,
          -0.4508673662056113,
          1.063675560946103,
          -0.3287686473492499,
          -0.7089301552511662,
          -0.4340837996638824,
          -0.78178119112043,
          1.063675560946103,
          1.063675560946103,
          -0.07070585830369469,
          -0.12738867915297253,
          1.1596939954194616,
          0.02854912936221567,
          0.5730468361525533,
          -0.7089301552511662,
          -0.3287686473492499
         ],
         "z": [
          -0.0024851678780453738,
          -0.0024851678780407976,
          -0.0002575282158813436,
          0.0020688542373770566,
          0.009700250270664373,
          0.009049238307174391,
          0.011360860340335935,
          -0.03298084629579689,
          -0.002485167878043585,
          -0.002485167878043585,
          -0.002485167878043585,
          -0.002485167878043585,
          -0.002485167878043585,
          0.011179747280184801,
          0.03255971477034828,
          -0.0007089644532206373,
          0.07450567468324507,
          -0.002485167878043585,
          0.0043804762705378815,
          0.0020688542373764477,
          0.005964588465716572,
          -0.0001735458448822076,
          0.009049238307174393,
          -0.0001735458448822076,
          -0.00025752821587519937,
          -0.00025752821587519937,
          -0.005093616129985535,
          -0.002485167878043585,
          -0.002485167878043585,
          -0.002485167878043585,
          0.0043804762705378815,
          0.0020688542373764477,
          -0.005345351560491519,
          -0.021761975101390617,
          0.0020688542373764477,
          -0.002485167878043585,
          -0.002485167878043585,
          -0.02356500193542085,
          0.0020688542373764477,
          -0.005345351560491519,
          -0.00025752821587519937,
          -0.002485167878043585,
          0.02728574214400216,
          0.06848968026508132,
          0.009049238307174393,
          0.03255971477034828,
          -0.0001735458448822076,
          -0.00025752821587519937,
          -0.0001735458448822076,
          -0.002485167878043585,
          -0.00025752821587519937,
          0.0043804762705378815,
          -0.002485167878043585,
          0.0020688542373764477,
          0.023574477520823874,
          -0.11114383999416205,
          0.03292409831792885,
          -0.0001735458448822076,
          -0.00025752821587519937,
          0.009049238307174393,
          -0.03298084629579689,
          -0.08777381302183497,
          0.009049238307174393,
          0.0020688542373764477,
          0.009049238307174393,
          -0.0339694879205916,
          -0.002485167878043585,
          -0.0001735458448822076,
          0.0020688542373764477,
          -0.0001735458448822076,
          0.009049238307174393,
          0.011179747280184801,
          -0.0007089644532206373,
          0.0020688542373764477,
          0.009049238307174393,
          0.009049238307174393,
          -0.0339694879205916,
          0.0020688542373764477,
          -0.025802492010725805,
          -0.002485167878043585,
          -0.002485167878043585,
          -0.002485167878043585,
          0.0020540938172865287,
          0.0043804762705378815,
          0.0020688542373764477,
          -0.002485167878043585,
          0.009049238307174393,
          0.0020688542373764477,
          -0.002485167878043585,
          -0.002485167878043585,
          -0.0001735458448822076,
          -0.031348447780442865,
          -0.017848910706017823,
          -0.0007089644532206373,
          -0.002485167878043585,
          0.0020688542373764477,
          -0.0007089644532206373,
          0.0020540938172865287,
          0.07682328877729681,
          -0.0007089644532206373,
          -0.017848910706017823,
          -0.01458417969921389,
          0.0020688542373764477,
          -0.00025752821587519937,
          0.0020688542373764477,
          -0.0007089644532206373,
          -0.002485167878043585,
          -0.002485167878043585,
          -0.0007089644532206373,
          0.0020688542373764477,
          0.009049238307174393,
          -0.002485167878043585,
          -0.023015671315247888,
          -0.002485167878043585,
          -0.002485167878043585,
          0.0020688542373764477,
          -0.002485167878043585,
          -0.0001735458448822076,
          -0.002485167878043585,
          -0.002485167878043585,
          -0.011252121714119358,
          0.03449139809562686,
          -0.002485167878043585,
          0.009049238307174393,
          0.0020688542373764477,
          -0.002485167878043585,
          -0.002485167878043585,
          -0.0001735458448822076,
          0.04727246361475848,
          0.0020540938172865287,
          -0.002485167878043585,
          -0.0001735458448822076,
          0.0020688542373764477,
          -0.017862091019833246,
          0.0020688542373764477,
          -0.0007089644532206373,
          0.0020688542373764477,
          -0.0007089644532206373,
          0.0020688542373764477,
          -0.002485167878043585,
          -0.002485167878043585,
          -0.002485167878043585,
          0.011360860340335935,
          0.0020688542373764477,
          -0.0001735458448822076,
          -0.0007089644532206373,
          -0.002485167878043581,
          -0.03298084629579689,
          0.011360860340335935,
          -0.025802492010725805,
          -0.012952112237593618,
          -0.0339694879205916,
          -0.0339694879205916,
          0.01712976650498611,
          -0.00025752821587519937,
          -0.002485167878043585,
          -0.00025752821587519937,
          0.034225126163136894,
          0.01712976650498611,
          0.0020688542373764477,
          -0.0001735458448822076,
          -0.0007089644532206373,
          -0.002485167878043585,
          -0.002485167878043585,
          0.009700250270664443,
          0.0064762125744874995,
          0.0020688542373764477,
          -0.005093616129985535,
          -0.002485167878043585,
          -0.015351420666923674,
          -0.002485167878043585,
          0.009049238307174393,
          -0.0339694879205916,
          -0.02407359713455183,
          -0.002485167878043585,
          -0.013563743747280678,
          -0.006788999713103271,
          -0.002485167878043585,
          0.011360860340335935,
          0.0020688542373764477,
          -0.01458417969921389,
          -0.0339694879205916,
          -0.00025752821587519937,
          -0.002485167878043585,
          -0.031657865887430234,
          -0.011252121714119358,
          -0.002485167878043585,
          -0.002485167878043585,
          0.0020688542373764477,
          -0.011252121714119358,
          -0.002485167878043585,
          -0.002485167878043585,
          0.0043804762705378815,
          -0.025802492010725805,
          -0.07714199265376494,
          -0.002485167878043585,
          0.0020540938172865287,
          -0.026974613829990758,
          0.0020688542373764477,
          0.007472165388520916,
          -0.0001735458448822076,
          -0.06016941576617802,
          -0.0339694879205916,
          -0.002485167878043585,
          -0.002485167878043585,
          -0.0001735458448822076,
          0.04503743712854871,
          -0.0007089644532206373,
          -0.002485167878043585,
          0.016696744880900484,
          -0.013563743747280678,
          -0.0007089644532206373,
          -0.03830200253932875,
          -0.002485167878043585,
          0.03832740946907538,
          -0.0001735458448822076,
          -0.002485167878043585,
          -0.0001735458448822076,
          -0.017848910706017823,
          -0.002485167878043585,
          -0.030669224262635277,
          0.03963250004881423,
          -0.011252121714119358,
          0.011360860340335935,
          -0.01013943586244672,
          -0.04061362457249048,
          -0.011252121714119358,
          -0.013563743747280678,
          -0.0001735458448822076,
          -0.01766304270008534,
          -0.011252121714119358,
          -0.002485167878043585,
          0.0043804762705378815,
          0.0020688542373764477,
          -0.0001735458448822076,
          -0.0007089644532206373,
          -0.004810965421359759,
          0.0043804762705378815,
          -0.002485167878043585,
          0.009783787421682236,
          0.02190854659296091,
          0.0043804762705378815,
          -0.013563743747280678,
          -0.0020724118622314977,
          -0.002485167878043585,
          -0.013563743747280678,
          -0.011252121714119358,
          -0.002485167878043585,
          0.0043804762705378815,
          -0.002485167878043585,
          0.007472165388520916,
          -0.017848910706017823,
          0.0020688542373764477,
          0.0020688542373764477,
          -0.01458417969921389,
          -0.002485167878043585,
          0.0020688542373764477,
          -0.002485167878043585,
          -0.002485167878043585,
          0.011360860340335935,
          -0.002485167878043585,
          0.0020688542373764477,
          -0.002485167878043585,
          0.009049238307174393,
          0.0020688542373764477,
          -0.002485167878043585,
          -0.002485167878043585,
          0.0020688542373764477,
          -0.002485167878043585,
          -0.0007089644532206373,
          0.09007138589793906,
          0.009049238307174393,
          -0.01458417969921389,
          -0.0001735458448822076,
          -0.002485167878043585,
          -0.005093616129985535,
          -0.00025752821587519937,
          -0.01458417969921389,
          -0.01458417969921389,
          0.011360860340335935,
          -0.0007089644532206373,
          -0.02390099548358414,
          -0.0023471224462652948,
          0.006916116503565425,
          -0.002485167878043585,
          -0.0001735458448822076
         ]
        },
        {
         "customdata": [
          [
           "SHA-256"
          ],
          [
           "Ethash"
          ],
          [
           "Scrypt"
          ],
          [
           "CryptoNight-V7"
          ],
          [
           "Ethash"
          ],
          [
           "Equihash"
          ],
          [
           "Multiple"
          ],
          [
           "Scrypt"
          ],
          [
           "X11"
          ],
          [
           "Scrypt"
          ],
          [
           "Multiple"
          ],
          [
           "Scrypt"
          ],
          [
           "SHA-256"
          ],
          [
           "Scrypt"
          ],
          [
           "Scrypt"
          ],
          [
           "Quark"
          ],
          [
           "Groestl"
          ],
          [
           "Scrypt"
          ],
          [
           "Scrypt"
          ],
          [
           "Scrypt"
          ],
          [
           "X11"
          ],
          [
           "Multiple"
          ],
          [
           "SHA-256"
          ],
          [
           "Scrypt"
          ],
          [
           "Scrypt"
          ],
          [
           "Scrypt"
          ],
          [
           "Scrypt"
          ],
          [
           "Scrypt"
          ],
          [
           "NeoScrypt"
          ],
          [
           "Scrypt"
          ],
          [
           "Scrypt"
          ],
          [
           "Scrypt"
          ],
          [
           "Scrypt"
          ],
          [
           "SHA-256"
          ],
          [
           "Scrypt"
          ],
          [
           "Scrypt"
          ],
          [
           "Scrypt"
          ],
          [
           "Scrypt"
          ],
          [
           "HybridScryptHash256"
          ],
          [
           "Scrypt"
          ],
          [
           "Scrypt"
          ],
          [
           "SHA-256"
          ],
          [
           "Scrypt"
          ],
          [
           "Scrypt"
          ],
          [
           "Scrypt"
          ],
          [
           "Scrypt"
          ],
          [
           "SHA-256"
          ],
          [
           "SHA-256"
          ],
          [
           "SHA-256"
          ],
          [
           "SHA-256"
          ],
          [
           "SHA-256"
          ],
          [
           "X11"
          ],
          [
           "Scrypt"
          ],
          [
           "Lyra2REv2"
          ],
          [
           "Scrypt"
          ],
          [
           "SHA-256"
          ],
          [
           "CryptoNight"
          ],
          [
           "CryptoNight"
          ],
          [
           "Scrypt"
          ],
          [
           "Scrypt"
          ],
          [
           "Scrypt"
          ],
          [
           "Scrypt"
          ],
          [
           "Scrypt"
          ],
          [
           "Scrypt"
          ],
          [
           "Stanford Folding"
          ],
          [
           "Multiple"
          ],
          [
           "QuBit"
          ],
          [
           "Scrypt"
          ],
          [
           "Scrypt"
          ],
          [
           "M7 POW"
          ],
          [
           "Scrypt"
          ],
          [
           "SHA-256"
          ],
          [
           "Scrypt"
          ],
          [
           "X11"
          ],
          [
           "Lyra2RE"
          ],
          [
           "SHA-256"
          ],
          [
           "X11"
          ],
          [
           "Scrypt"
          ],
          [
           "Scrypt"
          ],
          [
           "Ethash"
          ],
          [
           "Blake2b"
          ],
          [
           "X11"
          ],
          [
           "SHA-256"
          ],
          [
           "Scrypt"
          ],
          [
           "1GB AES Pattern Search"
          ],
          [
           "Scrypt"
          ],
          [
           "SHA-256"
          ],
          [
           "X11"
          ],
          [
           "Dagger"
          ],
          [
           "Scrypt"
          ],
          [
           "X11GOST"
          ],
          [
           "Scrypt"
          ],
          [
           "X11"
          ],
          [
           "Scrypt"
          ],
          [
           "X11"
          ],
          [
           "Equihash"
          ],
          [
           "CryptoNight"
          ],
          [
           "SHA-256"
          ],
          [
           "Multiple"
          ],
          [
           "Scrypt"
          ],
          [
           "SHA-256"
          ],
          [
           "Scrypt"
          ],
          [
           "Lyra2Z"
          ],
          [
           "Ethash"
          ],
          [
           "Equihash"
          ],
          [
           "Scrypt"
          ],
          [
           "X11"
          ],
          [
           "X11"
          ],
          [
           "CryptoNight"
          ],
          [
           "Scrypt"
          ],
          [
           "CryptoNight"
          ],
          [
           "Lyra2RE"
          ],
          [
           "X11"
          ],
          [
           "CryptoNight-V7"
          ],
          [
           "Scrypt"
          ],
          [
           "X11"
          ],
          [
           "Equihash"
          ],
          [
           "Scrypt"
          ],
          [
           "Lyra2RE"
          ],
          [
           "Dagger-Hashimoto"
          ],
          [
           "Scrypt"
          ],
          [
           "NIST5"
          ],
          [
           "Scrypt"
          ],
          [
           "SHA-256"
          ],
          [
           "Scrypt"
          ],
          [
           "CryptoNight-V7"
          ],
          [
           "Argon2d"
          ],
          [
           "Blake2b"
          ],
          [
           "Cloverhash"
          ],
          [
           "CryptoNight"
          ],
          [
           "X11"
          ],
          [
           "Scrypt"
          ],
          [
           "Scrypt"
          ],
          [
           "X11"
          ],
          [
           "X11"
          ],
          [
           "CryptoNight"
          ],
          [
           "Time Travel"
          ],
          [
           "Scrypt"
          ],
          [
           "Keccak"
          ],
          [
           "X11"
          ],
          [
           "SHA-256"
          ],
          [
           "Scrypt"
          ],
          [
           "Scrypt"
          ],
          [
           "Scrypt"
          ],
          [
           "Scrypt"
          ],
          [
           "Scrypt"
          ],
          [
           "Scrypt"
          ],
          [
           "CryptoNight"
          ],
          [
           "Equihash"
          ],
          [
           "X11"
          ],
          [
           "NeoScrypt"
          ],
          [
           "Equihash"
          ],
          [
           "Dagger"
          ],
          [
           "Scrypt"
          ],
          [
           "X11"
          ],
          [
           "NeoScrypt"
          ],
          [
           "Ethash"
          ],
          [
           "NeoScrypt"
          ],
          [
           "Multiple"
          ],
          [
           "CryptoNight"
          ],
          [
           "CryptoNight"
          ],
          [
           "Ethash"
          ],
          [
           "X11"
          ],
          [
           "CryptoNight-V7"
          ],
          [
           "Scrypt"
          ],
          [
           "BLAKE256"
          ],
          [
           "X11"
          ],
          [
           "NeoScrypt"
          ],
          [
           "NeoScrypt"
          ],
          [
           "Scrypt"
          ],
          [
           "X11"
          ],
          [
           "SHA-256"
          ],
          [
           "C11"
          ],
          [
           "Ethash"
          ],
          [
           "CryptoNight"
          ],
          [
           "SkunkHash"
          ],
          [
           "CryptoNight"
          ],
          [
           "Scrypt"
          ],
          [
           "Dagger"
          ],
          [
           "Lyra2REv2"
          ],
          [
           "Scrypt"
          ],
          [
           "Scrypt"
          ],
          [
           "X11"
          ],
          [
           "Ethash"
          ],
          [
           "CryptoNight"
          ],
          [
           "Scrypt"
          ],
          [
           "IMesh"
          ],
          [
           "Equihash"
          ],
          [
           "Lyra2Z"
          ],
          [
           "X11"
          ],
          [
           "CryptoNight"
          ],
          [
           "NIST5"
          ],
          [
           "Lyra2RE"
          ],
          [
           "Tribus"
          ],
          [
           "Lyra2Z"
          ],
          [
           "CryptoNight"
          ],
          [
           "CryptoNight Heavy"
          ],
          [
           "CryptoNight"
          ],
          [
           "Jump Consistent Hash"
          ],
          [
           "CryptoNight"
          ],
          [
           "X16R"
          ],
          [
           "HMQ1725"
          ],
          [
           "X11"
          ],
          [
           "Scrypt"
          ],
          [
           "CryptoNight-V7"
          ],
          [
           "Cryptonight-GPU"
          ],
          [
           "XEVAN"
          ],
          [
           "CryptoNight Heavy"
          ],
          [
           "SHA-256"
          ],
          [
           "X11"
          ],
          [
           "SHA-512"
          ],
          [
           "X16R"
          ],
          [
           "Equihash"
          ],
          [
           "Lyra2Z"
          ],
          [
           "SHA-256"
          ],
          [
           "CryptoNight"
          ],
          [
           "Blake"
          ],
          [
           "Blake"
          ],
          [
           "Exosis"
          ],
          [
           "Scrypt"
          ],
          [
           "Equihash"
          ],
          [
           "Equihash"
          ],
          [
           "QuBit"
          ],
          [
           "SHA-256"
          ],
          [
           "X13"
          ],
          [
           "SHA-256"
          ],
          [
           "Scrypt"
          ],
          [
           "NeoScrypt"
          ],
          [
           "Blake"
          ],
          [
           "Scrypt"
          ],
          [
           "SHA-256"
          ],
          [
           "Scrypt"
          ],
          [
           "Groestl"
          ],
          [
           "Scrypt"
          ],
          [
           "Scrypt"
          ],
          [
           "Multiple"
          ],
          [
           "Equihash+Scrypt"
          ],
          [
           "Ethash"
          ],
          [
           "CryptoNight"
          ],
          [
           "Equihash"
          ]
         ],
         "hovertemplate": "<b>%{hovertext}</b><br><br>Class=%{marker.color}<br>PC 1=%{x}<br>PC 2=%{y}<br>PC 3=%{z}<br>Algorithm=%{customdata[0]}<extra></extra>",
         "hovertext": [
          "Bitcoin",
          "Ethereum",
          "Litecoin",
          "Monero",
          "Ethereum Classic",
          "ZCash",
          "DigiByte",
          "ProsperCoin",
          "Spreadcoin",
          "Argentum",
          "MyriadCoin",
          "MoonCoin",
          "ZetaCoin",
          "SexCoin",
          "Quatloo",
          "QuarkCoin",
          "Riecoin",
          "Digitalcoin ",
          "Catcoin",
          "CannaCoin",
          "CryptCoin",
          "Verge",
          "DevCoin",
          "EarthCoin",
          "E-Gulden",
          "Einsteinium",
          "Emerald",
          "Franko",
          "FeatherCoin",
          "GrandCoin",
          "GlobalCoin",
          "GoldCoin",
          "Infinite Coin",
          "IXcoin",
          "KrugerCoin",
          "LuckyCoin",
          "Litebar ",
          "MegaCoin",
          "MediterraneanCoin",
          "MinCoin",
          "NobleCoin",
          "Namecoin",
          "NyanCoin",
          "RonPaulCoin",
          "StableCoin",
          "SmartCoin",
          "SysCoin",
          "TigerCoin",
          "TerraCoin",
          "UnbreakableCoin",
          "Unobtanium",
          "UroCoin",
          "ViaCoin",
          "Vertcoin",
          "WorldCoin",
          "JouleCoin",
          "ByteCoin",
          "DigitalNote ",
          "MonaCoin",
          "Gulden",
          "PesetaCoin",
          "Wild Beast Coin",
          "Flo",
          "ArtByte",
          "Folding Coin",
          "Unitus",
          "CypherPunkCoin",
          "OmniCron",
          "GreenCoin",
          "Cryptonite",
          "MasterCoin",
          "SoonCoin",
          "1Credit",
          "MarsCoin ",
          "Crypto",
          "Anarchists Prime",
          "BowsCoin",
          "Song Coin",
          "BitZeny",
          "Expanse",
          "Siacoin",
          "MindCoin",
          "I0coin",
          "Revolution VR",
          "HOdlcoin",
          "Gamecredits",
          "CarpeDiemCoin",
          "Adzcoin",
          "SoilCoin",
          "YoCoin",
          "SibCoin",
          "Francs",
          "BolivarCoin",
          "Omni",
          "PizzaCoin",
          "Komodo",
          "Karbo",
          "ZayedCoin",
          "Circuits of Value",
          "DopeCoin",
          "DollarCoin",
          "Shilling",
          "ZCoin",
          "Elementrem",
          "ZClassic",
          "KiloCoin",
          "ArtexCoin",
          "Kurrent",
          "Cannabis Industry Coin",
          "OsmiumCoin",
          "Bikercoins",
          "HexxCoin",
          "PacCoin",
          "Citadel",
          "BeaverCoin",
          "VaultCoin",
          "Zero",
          "Canada eCoin",
          "Zoin",
          "DubaiCoin",
          "EB3coin",
          "Coinonat",
          "BenjiRolls",
          "ILCoin",
          "EquiTrader",
          "Quantum Resistant Ledger",
          "Dynamic",
          "Nano",
          "ChanCoin",
          "Dinastycoin",
          "DigitalPrice",
          "Unify",
          "SocialCoin",
          "ArcticCoin",
          "DAS",
          "LeviarCoin",
          "Bitcore",
          "gCn Coin",
          "SmartCash",
          "Onix",
          "Bitcoin Cash",
          "Sojourn Coin",
          "NewYorkCoin",
          "FrazCoin",
          "Kronecoin",
          "AdCoin",
          "Linx",
          "Sumokoin",
          "BitcoinZ",
          "Elements",
          "VIVO Coin",
          "Bitcoin Gold",
          "Pirl",
          "eBoost",
          "Pura",
          "Innova",
          "Ellaism",
          "GoByte",
          "SHIELD",
          "UltraNote",
          "BitCoal",
          "DaxxCoin",
          "AC3",
          "Lethean",
          "PopularCoin",
          "Photon",
          "Sucre",
          "SparksPay",
          "GunCoin",
          "IrishCoin",
          "Pioneer Coin",
          "UnitedBitcoin",
          "Interzone",
          "1717 Masonic Commemorative Token",
          "TurtleCoin",
          "MUNcoin",
          "Niobio Cash",
          "ShareChain",
          "Travelflex",
          "KREDS",
          "BitFlip",
          "LottoCoin",
          "Crypto Improvement Fund",
          "Callisto Network",
          "BitTube",
          "Poseidon",
          "Aidos Kuneen",
          "Bitrolium",
          "Alpenschillling",
          "FuturoCoin",
          "Monero Classic",
          "Jumpcoin",
          "Infinex",
          "KEYCO",
          "GINcoin",
          "PlatinCoin",
          "Loki",
          "Newton Coin",
          "MassGrid",
          "PluraCoin",
          "Motion",
          "PlusOneCoin",
          "Axe",
          "HexCoin",
          "Webchain",
          "Ryo",
          "Urals Coin",
          "Qwertycoin",
          "Project Pai",
          "Azart",
          "Kcash",
          "Xchange",
          "CrypticCoin",
          "Actinium",
          "Bitcoin SV",
          "FREDEnergy",
          "Universal Molecule",
          "Lithium",
          "Exosis",
          "Block-Logic",
          "Beam",
          "Bithereum",
          "SLICE",
          "BLAST",
          "Bitcoin Rhodium",
          "GlobalToken",
          "SolarCoin",
          "UFO Coin",
          "BlakeCoin",
          "Crypto Escudo",
          "Crown Coin",
          "SmileyCoin",
          "Groestlcoin",
          "Bata",
          "Pakcoin",
          "JoinCoin",
          "Vollar",
          "Reality Clash",
          "Beldex",
          "Horizen"
         ],
         "legendgroup": "0",
         "marker": {
          "color": [
           0,
           0,
           0,
           0,
           0,
           0,
           0,
           0,
           0,
           0,
           0,
           0,
           0,
           0,
           0,
           0,
           0,
           0,
           0,
           0,
           0,
           0,
           0,
           0,
           0,
           0,
           0,
           0,
           0,
           0,
           0,
           0,
           0,
           0,
           0,
           0,
           0,
           0,
           0,
           0,
           0,
           0,
           0,
           0,
           0,
           0,
           0,
           0,
           0,
           0,
           0,
           0,
           0,
           0,
           0,
           0,
           0,
           0,
           0,
           0,
           0,
           0,
           0,
           0,
           0,
           0,
           0,
           0,
           0,
           0,
           0,
           0,
           0,
           0,
           0,
           0,
           0,
           0,
           0,
           0,
           0,
           0,
           0,
           0,
           0,
           0,
           0,
           0,
           0,
           0,
           0,
           0,
           0,
           0,
           0,
           0,
           0,
           0,
           0,
           0,
           0,
           0,
           0,
           0,
           0,
           0,
           0,
           0,
           0,
           0,
           0,
           0,
           0,
           0,
           0,
           0,
           0,
           0,
           0,
           0,
           0,
           0,
           0,
           0,
           0,
           0,
           0,
           0,
           0,
           0,
           0,
           0,
           0,
           0,
           0,
           0,
           0,
           0,
           0,
           0,
           0,
           0,
           0,
           0,
           0,
           0,
           0,
           0,
           0,
           0,
           0,
           0,
           0,
           0,
           0,
           0,
           0,
           0,
           0,
           0,
           0,
           0,
           0,
           0,
           0,
           0,
           0,
           0,
           0,
           0,
           0,
           0,
           0,
           0,
           0,
           0,
           0,
           0,
           0,
           0,
           0,
           0,
           0,
           0,
           0,
           0,
           0,
           0,
           0,
           0,
           0,
           0,
           0,
           0,
           0,
           0,
           0,
           0,
           0,
           0,
           0,
           0,
           0,
           0,
           0,
           0,
           0,
           0,
           0,
           0,
           0,
           0,
           0,
           0,
           0,
           0,
           0,
           0,
           0,
           0,
           0,
           0,
           0,
           0,
           0,
           0,
           0,
           0,
           0,
           0,
           0,
           0,
           0,
           0,
           0,
           0,
           0,
           0,
           0,
           0
          ],
          "coloraxis": "coloraxis",
          "symbol": "diamond"
         },
         "mode": "markers",
         "name": "0",
         "scene": "scene",
         "showlegend": true,
         "type": "scatter3d",
         "x": [
          -1.2498955220402972,
          -1.9631103024968803,
          -1.0892371104808098,
          -2.184610017072522,
          -1.9631103024968828,
          -1.860097861261667,
          -1.7798312042973534,
          -1.089237110480808,
          -0.8561880445210142,
          -1.089237110480808,
          -1.7798312042973536,
          -1.089237110480808,
          -1.249895522040293,
          -1.089237110480808,
          -1.089237110480808,
          -0.5175962801660954,
          -1.1234010966509016,
          -1.089237110480808,
          -1.089237110480808,
          -1.089237110480808,
          -0.8561880445210142,
          -1.7798312042973536,
          -1.249895522040293,
          -1.089237110480808,
          -1.089237110480808,
          -1.089237110480808,
          -1.089237110480808,
          -1.089237110480808,
          -1.610195122997883,
          -1.089237110480808,
          -1.089237110480808,
          -1.089237110480808,
          -1.089237110480808,
          -1.249895522040293,
          -1.089237110480808,
          -1.089237110480808,
          -1.089237110480808,
          -1.089237110480808,
          -2.2114488875633875,
          -1.089237110480808,
          -1.089237110480808,
          -1.249895522040293,
          -1.089237110480808,
          -1.089237110480808,
          -1.089237110480808,
          -1.089237110480808,
          -1.249895522040293,
          -1.249895522040293,
          -1.249895522040293,
          -1.249895522040293,
          -1.249895522040293,
          -0.8561880445210142,
          -1.089237110480808,
          -1.17762804456045,
          -1.089237110480808,
          -1.249895522040293,
          -2.2137532640675186,
          -2.2137532640675186,
          -1.089237110480808,
          -1.089237110480808,
          -1.089237110480808,
          -1.089237110480808,
          -1.089237110480808,
          -1.089237110480808,
          -2.0202201554858195,
          -1.7798312042973536,
          -1.48026529327569,
          -1.089237110480808,
          -1.089237110480808,
          -2.068218437291675,
          -1.089237110480808,
          -1.249895522040293,
          -1.089237110480808,
          -0.8561880445210142,
          -2.1770676549718937,
          -1.249895522040293,
          -0.8561880445210142,
          -1.089237110480808,
          -1.089237110480808,
          -1.9631103024968823,
          -2.132215238484672,
          -0.8561880445210142,
          -1.249895522040293,
          -1.089237110480808,
          -2.1600488003365754,
          -1.089237110480808,
          -1.249895522040293,
          -0.8561880445210142,
          -2.1305767325169302,
          -1.089237110480808,
          -2.104070982421433,
          -1.089237110480808,
          -0.8561880445210142,
          -1.089237110480808,
          -0.8561880445210142,
          -0.880874614882037,
          -2.2137532640675186,
          -1.249895522040293,
          -1.7798312042973536,
          -1.089237110480808,
          -1.249895522040293,
          -1.089237110480808,
          -2.1514530729662424,
          -1.9631103024968823,
          -1.860097861261667,
          -1.089237110480808,
          -0.8561880445210142,
          -0.8561880445210142,
          -2.2137532640675186,
          -1.089237110480808,
          -2.2137532640675186,
          -2.1770676549718937,
          -0.8561880445210142,
          -2.1846100170725196,
          -1.089237110480808,
          -0.8561880445210142,
          -1.860097861261667,
          -1.089237110480808,
          -2.1770676549718937,
          -2.1041681407430115,
          -1.089237110480808,
          -0.5956274449191843,
          -1.089237110480808,
          -1.249895522040293,
          -1.089237110480808,
          -2.1846100170725196,
          -2.1957809073135954,
          -2.132215238484672,
          -2.175705747825732,
          -2.2137532640675186,
          -0.8561880445210142,
          -1.089237110480808,
          -1.089237110480808,
          -0.8561880445210142,
          -0.8561880445210142,
          -2.2137532640675186,
          -2.176540302029195,
          -1.089237110480808,
          -1.0498508903073038,
          -0.8561880445210142,
          -1.249895522040293,
          -1.089237110480808,
          -1.089237110480808,
          -1.089237110480808,
          -1.089237110480808,
          -1.089237110480808,
          -1.089237110480808,
          -2.2137532640675186,
          -1.860097861261667,
          -0.8561880445210142,
          -1.610195122997883,
          -1.860097861261667,
          -2.1305767325169302,
          -1.089237110480808,
          -0.8561880445210142,
          -1.610195122997883,
          -1.9631103024968823,
          -1.610195122997883,
          -1.7798312042973536,
          -2.2137532640675186,
          -2.2137532640675186,
          -1.9631103024968823,
          -0.8561880445210142,
          -2.1846100170725196,
          -1.089237110480808,
          -1.1394944857928644,
          -0.8561880445210142,
          -1.610195122997883,
          -1.610195122997883,
          -1.089237110480808,
          -0.8561880445210142,
          -1.249895522040293,
          -1.160640265963836,
          -0.15173336403500298,
          -2.2137532640675186,
          -2.103429946089629,
          -2.2137532640675186,
          -1.089237110480808,
          -2.1305767325169302,
          -1.17762804456045,
          -1.089237110480808,
          -1.089237110480808,
          -0.8561880445210142,
          -1.9631103024968823,
          -2.2137532640675186,
          -1.089237110480808,
          -2.3022453237505056,
          -1.860097861261667,
          -2.1514530729662424,
          -0.8561880445210142,
          -2.2137532640675186,
          -0.5956274449191843,
          -2.1770676549718937,
          -2.1514493469841462,
          -2.1514530729662424,
          -2.2137532640675186,
          -2.1350436787238976,
          -2.2137532640675186,
          -2.125924367412545,
          -2.2137532640675186,
          -1.2005116845690256,
          -2.150713795734966,
          -0.8561880445210142,
          -1.089237110480808,
          -2.1846100170725196,
          -2.1856632831802814,
          -0.8794803409556671,
          -2.1350436787238976,
          -1.249895522040293,
          -0.8561880445210142,
          -0.6505399670433968,
          -1.2005116845690256,
          -1.860097861261667,
          -2.1514530729662424,
          -1.249895522040293,
          -2.2137532640675186,
          -2.0963551571650823,
          -2.0963551571650823,
          -2.1293821050204107,
          -1.089237110480808,
          -1.860097861261667,
          -1.860097861261667,
          -1.48026529327569,
          -1.249895522040293,
          -0.3328535155532496,
          -1.249895522040293,
          -1.089237110480808,
          -1.610195122997883,
          -2.0963551571650823,
          -1.089237110480808,
          -1.249895522040293,
          -1.089237110480808,
          -1.1234010966509016,
          -1.089237110480808,
          -1.089237110480808,
          -1.7798312042973536,
          -2.362662380910041,
          -1.9631103024968823,
          -2.2137532640675186,
          -1.860097861261667
         ],
         "y": [
          0.24576792160388433,
          0.4528699145003247,
          -0.012294867441664813,
          0.4647644887651707,
          0.45286991450032466,
          0.5037010239724808,
          0.4257622486549457,
          -0.01229486744165743,
          0.04671329731689293,
          -0.01229486744165743,
          0.4257622486549456,
          -0.01229486744165743,
          0.24576792160389777,
          -0.01229486744165743,
          -0.01229486744165743,
          0.046734263100955846,
          0.1763487190354213,
          -0.01229486744165743,
          -0.01229486744165743,
          -0.01229486744165743,
          0.04671329731689293,
          0.4257622486549456,
          0.24576792160389777,
          -0.01229486744165743,
          -0.01229486744165743,
          -0.01229486744165743,
          -0.01229486744165743,
          -0.01229486744165743,
          0.26255148814562657,
          -0.01229486744165743,
          -0.01229486744165743,
          -0.01229486744165743,
          -0.01229486744165743,
          0.24576792160389777,
          -0.01229486744165743,
          -0.01229486744165743,
          -0.01229486744165743,
          -0.01229486744165743,
          0.4903039757289083,
          -0.01229486744165743,
          -0.01229486744165743,
          0.24576792160389777,
          -0.01229486744165743,
          -0.01229486744165743,
          -0.01229486744165743,
          -0.01229486744165743,
          0.24576792160389777,
          0.24576792160389777,
          0.24576792160389777,
          0.24576792160389777,
          0.24576792160389777,
          0.04671329731689293,
          -0.01229486744165743,
          0.2111627252086292,
          -0.01229486744165743,
          0.24576792160389777,
          0.51439772078468,
          0.51439772078468,
          -0.01229486744165743,
          -0.01229486744165743,
          -0.01229486744165743,
          -0.01229486744165743,
          -0.01229486744165743,
          -0.01229486744165743,
          0.5516759871847656,
          0.4257622486549456,
          0.22163684737155645,
          -0.01229486744165743,
          -0.01229486744165743,
          0.45781073934182176,
          -0.01229486744165743,
          0.24576792160389777,
          -0.01229486744165743,
          0.04671329731689293,
          0.4691790347719106,
          0.24576792160389777,
          0.04671329731689293,
          -0.01229486744165743,
          -0.01229486744165743,
          0.45286991450032354,
          0.4858776556132251,
          0.04671329731689293,
          0.24576792160389777,
          -0.01229486744165743,
          0.4663755163687923,
          -0.01229486744165743,
          0.24576792160389777,
          0.04671329731689293,
          0.49670229434483615,
          -0.01229486744165743,
          0.5488003043542967,
          -0.01229486744165743,
          0.04671329731689293,
          -0.01229486744165743,
          0.04671329731689293,
          0.6623534685329798,
          0.51439772078468,
          0.24576792160389777,
          0.4257622486549456,
          -0.01229486744165743,
          0.24576792160389777,
          -0.01229486744165743,
          0.5604260620779631,
          0.45286991450032354,
          0.5037010239724806,
          -0.01229486744165743,
          0.04671329731689293,
          0.04671329731689293,
          0.51439772078468,
          -0.01229486744165743,
          0.51439772078468,
          0.4691790347719106,
          0.04671329731689293,
          0.4647644887651728,
          -0.01229486744165743,
          0.04671329731689293,
          0.5037010239724806,
          -0.01229486744165743,
          0.4691790347719106,
          0.4962503149949865,
          -0.01229486744165743,
          -0.00878142280525759,
          -0.01229486744165743,
          0.24576792160389777,
          -0.01229486744165743,
          0.4647644887651728,
          0.5530605945925268,
          0.4858776556132251,
          0.341982765517881,
          0.51439772078468,
          0.04671329731689293,
          -0.01229486744165743,
          -0.01229486744165743,
          0.04671329731689293,
          0.04671329731689293,
          0.51439772078468,
          0.5295127041042613,
          -0.01229486744165743,
          0.1442307494810259,
          0.04671329731689293,
          0.24576792160389777,
          -0.01229486744165743,
          -0.01229486744165743,
          -0.01229486744165743,
          -0.01229486744165743,
          -0.01229486744165743,
          -0.01229486744165743,
          0.51439772078468,
          0.5037010239724806,
          0.04671329731689293,
          0.26255148814562657,
          0.5037010239724806,
          0.49670229434483615,
          -0.01229486744165743,
          0.04671329731689293,
          0.26255148814562657,
          0.45286991450032354,
          0.26255148814562657,
          0.4257622486549456,
          0.51439772078468,
          0.51439772078468,
          0.45286991450032354,
          0.04671329731689293,
          0.4647644887651728,
          -0.01229486744165743,
          0.12368417956368472,
          0.04671329731689293,
          0.26255148814562657,
          0.26255148814562657,
          -0.01229486744165743,
          0.04671329731689293,
          0.24576792160389777,
          0.0760346350608502,
          0.1363961345927308,
          0.51439772078468,
          0.452608196879722,
          0.51439772078468,
          -0.01229486744165743,
          0.49670229434483615,
          0.2111627252086292,
          -0.01229486744165743,
          -0.01229486744165743,
          0.04671329731689293,
          0.45286991450032354,
          0.51439772078468,
          -0.01229486744165743,
          0.4464927824652459,
          0.5037010239724806,
          0.5604260620779631,
          0.04671329731689293,
          0.51439772078468,
          -0.00878142280525759,
          0.4691790347719106,
          0.5633515478609395,
          0.5604260620779631,
          0.51439772078468,
          0.48460486587001533,
          0.51439772078468,
          0.527226008346734,
          0.51439772078468,
          0.23995146754300709,
          0.5045922545901549,
          0.04671329731689293,
          -0.01229486744165743,
          0.4647644887651728,
          0.4046210666988372,
          0.14072211874170862,
          0.48460486587001533,
          0.24576792160389777,
          0.04671329731689293,
          0.07302733177467624,
          0.23995146754300709,
          0.5037010239724806,
          0.5604260620779631,
          0.24576792160389777,
          0.51439772078468,
          0.5215000097885701,
          0.5215000097885701,
          0.45213964748030244,
          -0.01229486744165743,
          0.5037010239724806,
          0.5037010239724806,
          0.22163684737155645,
          0.24576792160389777,
          -0.08514590331092099,
          0.24576792160389777,
          -0.01229486744165743,
          0.26255148814562657,
          0.5215000097885701,
          -0.01229486744165743,
          0.24576792160389777,
          -0.01229486744165743,
          0.1763487190354213,
          -0.01229486744165743,
          -0.01229486744165743,
          0.4257622486549456,
          0.44997030088913015,
          0.45286991450032354,
          0.51439772078468,
          0.5037010239724806
         ],
         "z": [
          0.01307581957372365,
          -0.01323752364741619,
          0.0015414133885091313,
          -0.011659137432434612,
          -0.013237523647417797,
          -0.00035745262883392814,
          -0.0036303923270936686,
          0.0015414133885155567,
          0.006095435503935642,
          0.0015414133885155567,
          -0.00363039232709369,
          0.0015414133885155567,
          0.013075819573733691,
          0.0015414133885155567,
          0.0015414133885155567,
          -0.009537162480721385,
          0.03658629603690738,
          0.0015414133885155567,
          0.0015414133885155567,
          0.0015414133885155567,
          0.006095435503935642,
          -0.00363039232709369,
          0.013075819573733691,
          0.0015414133885155567,
          0.0015414133885155567,
          0.0015414133885155567,
          0.0015414133885155567,
          0.0015414133885155567,
          -0.0010670348634261707,
          0.0015414133885155567,
          0.0015414133885155567,
          0.0015414133885155567,
          0.0015414133885155567,
          0.013075819573733691,
          0.0015414133885155567,
          0.0015414133885155567,
          0.0015414133885155567,
          0.0015414133885155567,
          0.019026645653930474,
          0.0015414133885155567,
          0.0015414133885155567,
          0.013075819573733691,
          0.0015414133885155567,
          0.0015414133885155567,
          0.0015414133885155567,
          0.0015414133885155567,
          0.013075819573733691,
          0.013075819573733691,
          0.013075819573733691,
          0.013075819573733691,
          0.013075819573733691,
          0.006095435503935642,
          0.0015414133885155567,
          -0.013636461433526254,
          0.0015414133885155567,
          0.013075819573733691,
          0.008107060377090275,
          0.008107060377090275,
          0.0015414133885155567,
          0.0015414133885155567,
          0.0015414133885155567,
          0.0015414133885155567,
          0.0015414133885155567,
          0.0015414133885155567,
          0.0662449840746367,
          -0.00363039232709369,
          0.0385179793621861,
          0.0015414133885155567,
          0.0015414133885155567,
          -0.060233487560027374,
          0.0015414133885155567,
          0.013075819573733691,
          0.0015414133885155567,
          0.006095435503935642,
          0.013055070480724315,
          0.013075819573733691,
          0.006095435503935642,
          0.0015414133885155567,
          0.0015414133885155567,
          -0.013237523647417641,
          -0.04679942533803547,
          0.006095435503935642,
          0.013075819573733691,
          0.0015414133885155567,
          -0.030604744890280238,
          0.0015414133885155567,
          0.013075819573733691,
          0.006095435503935642,
          -0.012778685623912005,
          0.0015414133885155567,
          -0.05805233228679761,
          0.0015414133885155567,
          0.006095435503935642,
          0.0015414133885155567,
          0.006095435503935642,
          -0.01373441657207432,
          0.008107060377090275,
          0.013075819573733691,
          -0.00363039232709369,
          0.0015414133885155567,
          0.013075819573733691,
          0.0015414133885155567,
          0.00997237356199308,
          -0.013237523647417641,
          -0.00035745262883365823,
          0.0015414133885155567,
          0.006095435503935642,
          0.006095435503935642,
          0.008107060377090275,
          0.0015414133885155567,
          0.008107060377090275,
          0.013055070480724315,
          0.006095435503935642,
          -0.011659137432436822,
          0.0015414133885155567,
          0.006095435503935642,
          -0.00035745262883365823,
          0.0015414133885155567,
          0.013055070480724315,
          0.040436423813203476,
          0.0015414133885155567,
          -0.029942906654032604,
          0.0015414133885155567,
          0.013075819573733691,
          0.0015414133885155567,
          -0.011659137432436822,
          0.0612229781652993,
          -0.04679942533803547,
          0.045548801514969386,
          0.008107060377090275,
          0.006095435503935642,
          0.0015414133885155567,
          0.0015414133885155567,
          0.006095435503935642,
          0.006095435503935642,
          0.008107060377090275,
          0.04821929330036579,
          0.0015414133885155567,
          -0.0007843841548006724,
          0.006095435503935642,
          0.013075819573733691,
          0.0015414133885155567,
          0.0015414133885155567,
          0.0015414133885155567,
          0.0015414133885155567,
          0.0015414133885155567,
          0.0015414133885155567,
          0.008107060377090275,
          -0.00035745262883365823,
          0.006095435503935642,
          -0.0010670348634261707,
          -0.00035745262883365823,
          -0.012778685623912005,
          0.0015414133885155567,
          0.006095435503935642,
          -0.0010670348634261707,
          -0.013237523647417641,
          -0.0010670348634261707,
          -0.00363039232709369,
          0.008107060377090275,
          0.008107060377090275,
          -0.013237523647417641,
          0.006095435503935642,
          -0.011659137432436822,
          0.0015414133885155567,
          -0.08374723175527593,
          0.006095435503935642,
          -0.0010670348634261707,
          -0.0010670348634261707,
          0.0015414133885155567,
          0.006095435503935642,
          0.013075819573733691,
          -0.02294803256343153,
          -0.014952482880815462,
          0.008107060377090275,
          -0.027959937500408732,
          0.008107060377090275,
          0.0015414133885155567,
          -0.012778685623912005,
          -0.013636461433526254,
          0.0015414133885155567,
          0.0015414133885155567,
          0.006095435503935642,
          -0.013237523647417641,
          0.008107060377090275,
          0.0015414133885155567,
          -0.006785587839861572,
          -0.00035745262883365823,
          0.00997237356199308,
          0.006095435503935642,
          0.008107060377090275,
          -0.029942906654032604,
          0.013055070480724315,
          0.0397940589594025,
          0.00997237356199308,
          0.008107060377090275,
          -0.031539499990476866,
          0.008107060377090275,
          -0.0002594146655104673,
          0.008107060377090275,
          -0.0365870433059311,
          -0.10895816052509494,
          0.006095435503935642,
          0.0015414133885155567,
          -0.011659137432436822,
          -0.023030594073845917,
          0.011498746655080088,
          -0.031539499990476866,
          0.013075819573733691,
          0.006095435503935642,
          0.028995762714217607,
          -0.0365870433059311,
          -0.00035745262883365823,
          0.00997237356199308,
          0.013075819573733691,
          0.008107060377090275,
          0.007145696045135479,
          0.007145696045135479,
          -0.09306786435818859,
          0.0015414133885155567,
          -0.00035745262883365823,
          -0.00035745262883365823,
          0.0385179793621861,
          0.013075819573733691,
          0.003769053050684093,
          0.013075819573733691,
          0.0015414133885155567,
          -0.0010670348634261707,
          0.007145696045135479,
          0.0015414133885155567,
          0.013075819573733691,
          0.0015414133885155567,
          0.03658629603690738,
          0.0015414133885155567,
          0.0015414133885155567,
          -0.00363039232709369,
          0.0038153870360093755,
          -0.013237523647417641,
          0.008107060377090275,
          -0.00035745262883365823
         ]
        },
        {
         "customdata": [
          [
           "VeChainThor Authority"
          ],
          [
           "Proof-of-Authority"
          ],
          [
           "SHA3-256"
          ],
          [
           "Leased POS"
          ]
         ],
         "hovertemplate": "<b>%{hovertext}</b><br><br>Class=%{marker.color}<br>PC 1=%{x}<br>PC 2=%{y}<br>PC 3=%{z}<br>Algorithm=%{customdata[0]}<extra></extra>",
         "hovertext": [
          "Vechain",
          "Poa Network",
          "Fiii",
          "Waves"
         ],
         "legendgroup": "3",
         "marker": {
          "color": [
           3,
           3,
           3,
           3
          ],
          "coloraxis": "coloraxis",
          "symbol": "square"
         },
         "mode": "markers",
         "name": "3",
         "scene": "scene",
         "showlegend": true,
         "type": "scatter3d",
         "x": [
          2.992252516054936,
          0.8037080787047108,
          -1.0931432807771047,
          -0.9328597225162986
         ],
         "y": [
          12.68294648711203,
          10.104096179214343,
          10.443352118530568,
          8.515169927873242
         ],
         "z": [
          -3.0020732566530994,
          -7.447364852653597,
          -8.967972955719997,
          -2.0132601189486334
         ]
        },
        {
         "customdata": [
          [
           "Proof-of-BibleHash"
          ]
         ],
         "hovertemplate": "<b>%{hovertext}</b><br><br>Class=%{marker.color}<br>PC 1=%{x}<br>PC 2=%{y}<br>PC 3=%{z}<br>Algorithm=%{customdata[0]}<extra></extra>",
         "hovertext": [
          "BiblePay"
         ],
         "legendgroup": "4",
         "marker": {
          "color": [
           4
          ],
          "coloraxis": "coloraxis",
          "symbol": "x"
         },
         "mode": "markers",
         "name": "4",
         "scene": "scene",
         "showlegend": true,
         "type": "scatter3d",
         "x": [
          9.347890190501978
         ],
         "y": [
          14.836953485873119
         ],
         "z": [
          -14.304683428714386
         ]
        },
        {
         "customdata": [
          [
           "SHA-256 + Hive"
          ],
          [
           "ECC 256K1"
          ]
         ],
         "hovertemplate": "<b>%{hovertext}</b><br><br>Class=%{marker.color}<br>PC 1=%{x}<br>PC 2=%{y}<br>PC 3=%{z}<br>Algorithm=%{customdata[0]}<extra></extra>",
         "hovertext": [
          "LitecoinCash",
          "Acute Angle Cloud"
         ],
         "legendgroup": "2",
         "marker": {
          "color": [
           2,
           2
          ],
          "coloraxis": "coloraxis",
          "symbol": "cross"
         },
         "mode": "markers",
         "name": "2",
         "scene": "scene",
         "showlegend": true,
         "type": "scatter3d",
         "x": [
          4.97448878777603,
          1.6414442160021985
         ],
         "y": [
          12.578331364986878,
          11.248908497277233
         ],
         "z": [
          23.80355989188902,
          12.146806999241905
         ]
        }
       ],
       "layout": {
        "autosize": true,
        "coloraxis": {
         "colorbar": {
          "title": {
           "text": "Class"
          }
         },
         "colorscale": [
          [
           0,
           "#0d0887"
          ],
          [
           0.1111111111111111,
           "#46039f"
          ],
          [
           0.2222222222222222,
           "#7201a8"
          ],
          [
           0.3333333333333333,
           "#9c179e"
          ],
          [
           0.4444444444444444,
           "#bd3786"
          ],
          [
           0.5555555555555556,
           "#d8576b"
          ],
          [
           0.6666666666666666,
           "#ed7953"
          ],
          [
           0.7777777777777778,
           "#fb9f3a"
          ],
          [
           0.8888888888888888,
           "#fdca26"
          ],
          [
           1,
           "#f0f921"
          ]
         ]
        },
        "legend": {
         "title": {
          "text": "Class"
         },
         "tracegroupgap": 0,
         "x": 0,
         "y": 1
        },
        "margin": {
         "t": 60
        },
        "scene": {
         "aspectmode": "auto",
         "aspectratio": {
          "x": 0.6103262161708897,
          "y": 0.8249628812708661,
          "z": 1.9861112282235396
         },
         "domain": {
          "x": [
           0,
           1
          ],
          "y": [
           0,
           1
          ]
         },
         "xaxis": {
          "title": {
           "text": "PC 1"
          },
          "type": "linear"
         },
         "yaxis": {
          "title": {
           "text": "PC 2"
          },
          "type": "linear"
         },
         "zaxis": {
          "title": {
           "text": "PC 3"
          },
          "type": "linear"
         }
        },
        "template": {
         "data": {
          "bar": [
           {
            "error_x": {
             "color": "#2a3f5f"
            },
            "error_y": {
             "color": "#2a3f5f"
            },
            "marker": {
             "line": {
              "color": "#E5ECF6",
              "width": 0.5
             }
            },
            "type": "bar"
           }
          ],
          "barpolar": [
           {
            "marker": {
             "line": {
              "color": "#E5ECF6",
              "width": 0.5
             }
            },
            "type": "barpolar"
           }
          ],
          "carpet": [
           {
            "aaxis": {
             "endlinecolor": "#2a3f5f",
             "gridcolor": "white",
             "linecolor": "white",
             "minorgridcolor": "white",
             "startlinecolor": "#2a3f5f"
            },
            "baxis": {
             "endlinecolor": "#2a3f5f",
             "gridcolor": "white",
             "linecolor": "white",
             "minorgridcolor": "white",
             "startlinecolor": "#2a3f5f"
            },
            "type": "carpet"
           }
          ],
          "choropleth": [
           {
            "colorbar": {
             "outlinewidth": 0,
             "ticks": ""
            },
            "type": "choropleth"
           }
          ],
          "contour": [
           {
            "colorbar": {
             "outlinewidth": 0,
             "ticks": ""
            },
            "colorscale": [
             [
              0,
              "#0d0887"
             ],
             [
              0.1111111111111111,
              "#46039f"
             ],
             [
              0.2222222222222222,
              "#7201a8"
             ],
             [
              0.3333333333333333,
              "#9c179e"
             ],
             [
              0.4444444444444444,
              "#bd3786"
             ],
             [
              0.5555555555555556,
              "#d8576b"
             ],
             [
              0.6666666666666666,
              "#ed7953"
             ],
             [
              0.7777777777777778,
              "#fb9f3a"
             ],
             [
              0.8888888888888888,
              "#fdca26"
             ],
             [
              1,
              "#f0f921"
             ]
            ],
            "type": "contour"
           }
          ],
          "contourcarpet": [
           {
            "colorbar": {
             "outlinewidth": 0,
             "ticks": ""
            },
            "type": "contourcarpet"
           }
          ],
          "heatmap": [
           {
            "colorbar": {
             "outlinewidth": 0,
             "ticks": ""
            },
            "colorscale": [
             [
              0,
              "#0d0887"
             ],
             [
              0.1111111111111111,
              "#46039f"
             ],
             [
              0.2222222222222222,
              "#7201a8"
             ],
             [
              0.3333333333333333,
              "#9c179e"
             ],
             [
              0.4444444444444444,
              "#bd3786"
             ],
             [
              0.5555555555555556,
              "#d8576b"
             ],
             [
              0.6666666666666666,
              "#ed7953"
             ],
             [
              0.7777777777777778,
              "#fb9f3a"
             ],
             [
              0.8888888888888888,
              "#fdca26"
             ],
             [
              1,
              "#f0f921"
             ]
            ],
            "type": "heatmap"
           }
          ],
          "heatmapgl": [
           {
            "colorbar": {
             "outlinewidth": 0,
             "ticks": ""
            },
            "colorscale": [
             [
              0,
              "#0d0887"
             ],
             [
              0.1111111111111111,
              "#46039f"
             ],
             [
              0.2222222222222222,
              "#7201a8"
             ],
             [
              0.3333333333333333,
              "#9c179e"
             ],
             [
              0.4444444444444444,
              "#bd3786"
             ],
             [
              0.5555555555555556,
              "#d8576b"
             ],
             [
              0.6666666666666666,
              "#ed7953"
             ],
             [
              0.7777777777777778,
              "#fb9f3a"
             ],
             [
              0.8888888888888888,
              "#fdca26"
             ],
             [
              1,
              "#f0f921"
             ]
            ],
            "type": "heatmapgl"
           }
          ],
          "histogram": [
           {
            "marker": {
             "colorbar": {
              "outlinewidth": 0,
              "ticks": ""
             }
            },
            "type": "histogram"
           }
          ],
          "histogram2d": [
           {
            "colorbar": {
             "outlinewidth": 0,
             "ticks": ""
            },
            "colorscale": [
             [
              0,
              "#0d0887"
             ],
             [
              0.1111111111111111,
              "#46039f"
             ],
             [
              0.2222222222222222,
              "#7201a8"
             ],
             [
              0.3333333333333333,
              "#9c179e"
             ],
             [
              0.4444444444444444,
              "#bd3786"
             ],
             [
              0.5555555555555556,
              "#d8576b"
             ],
             [
              0.6666666666666666,
              "#ed7953"
             ],
             [
              0.7777777777777778,
              "#fb9f3a"
             ],
             [
              0.8888888888888888,
              "#fdca26"
             ],
             [
              1,
              "#f0f921"
             ]
            ],
            "type": "histogram2d"
           }
          ],
          "histogram2dcontour": [
           {
            "colorbar": {
             "outlinewidth": 0,
             "ticks": ""
            },
            "colorscale": [
             [
              0,
              "#0d0887"
             ],
             [
              0.1111111111111111,
              "#46039f"
             ],
             [
              0.2222222222222222,
              "#7201a8"
             ],
             [
              0.3333333333333333,
              "#9c179e"
             ],
             [
              0.4444444444444444,
              "#bd3786"
             ],
             [
              0.5555555555555556,
              "#d8576b"
             ],
             [
              0.6666666666666666,
              "#ed7953"
             ],
             [
              0.7777777777777778,
              "#fb9f3a"
             ],
             [
              0.8888888888888888,
              "#fdca26"
             ],
             [
              1,
              "#f0f921"
             ]
            ],
            "type": "histogram2dcontour"
           }
          ],
          "mesh3d": [
           {
            "colorbar": {
             "outlinewidth": 0,
             "ticks": ""
            },
            "type": "mesh3d"
           }
          ],
          "parcoords": [
           {
            "line": {
             "colorbar": {
              "outlinewidth": 0,
              "ticks": ""
             }
            },
            "type": "parcoords"
           }
          ],
          "pie": [
           {
            "automargin": true,
            "type": "pie"
           }
          ],
          "scatter": [
           {
            "marker": {
             "colorbar": {
              "outlinewidth": 0,
              "ticks": ""
             }
            },
            "type": "scatter"
           }
          ],
          "scatter3d": [
           {
            "line": {
             "colorbar": {
              "outlinewidth": 0,
              "ticks": ""
             }
            },
            "marker": {
             "colorbar": {
              "outlinewidth": 0,
              "ticks": ""
             }
            },
            "type": "scatter3d"
           }
          ],
          "scattercarpet": [
           {
            "marker": {
             "colorbar": {
              "outlinewidth": 0,
              "ticks": ""
             }
            },
            "type": "scattercarpet"
           }
          ],
          "scattergeo": [
           {
            "marker": {
             "colorbar": {
              "outlinewidth": 0,
              "ticks": ""
             }
            },
            "type": "scattergeo"
           }
          ],
          "scattergl": [
           {
            "marker": {
             "colorbar": {
              "outlinewidth": 0,
              "ticks": ""
             }
            },
            "type": "scattergl"
           }
          ],
          "scattermapbox": [
           {
            "marker": {
             "colorbar": {
              "outlinewidth": 0,
              "ticks": ""
             }
            },
            "type": "scattermapbox"
           }
          ],
          "scatterpolar": [
           {
            "marker": {
             "colorbar": {
              "outlinewidth": 0,
              "ticks": ""
             }
            },
            "type": "scatterpolar"
           }
          ],
          "scatterpolargl": [
           {
            "marker": {
             "colorbar": {
              "outlinewidth": 0,
              "ticks": ""
             }
            },
            "type": "scatterpolargl"
           }
          ],
          "scatterternary": [
           {
            "marker": {
             "colorbar": {
              "outlinewidth": 0,
              "ticks": ""
             }
            },
            "type": "scatterternary"
           }
          ],
          "surface": [
           {
            "colorbar": {
             "outlinewidth": 0,
             "ticks": ""
            },
            "colorscale": [
             [
              0,
              "#0d0887"
             ],
             [
              0.1111111111111111,
              "#46039f"
             ],
             [
              0.2222222222222222,
              "#7201a8"
             ],
             [
              0.3333333333333333,
              "#9c179e"
             ],
             [
              0.4444444444444444,
              "#bd3786"
             ],
             [
              0.5555555555555556,
              "#d8576b"
             ],
             [
              0.6666666666666666,
              "#ed7953"
             ],
             [
              0.7777777777777778,
              "#fb9f3a"
             ],
             [
              0.8888888888888888,
              "#fdca26"
             ],
             [
              1,
              "#f0f921"
             ]
            ],
            "type": "surface"
           }
          ],
          "table": [
           {
            "cells": {
             "fill": {
              "color": "#EBF0F8"
             },
             "line": {
              "color": "white"
             }
            },
            "header": {
             "fill": {
              "color": "#C8D4E3"
             },
             "line": {
              "color": "white"
             }
            },
            "type": "table"
           }
          ]
         },
         "layout": {
          "annotationdefaults": {
           "arrowcolor": "#2a3f5f",
           "arrowhead": 0,
           "arrowwidth": 1
          },
          "coloraxis": {
           "colorbar": {
            "outlinewidth": 0,
            "ticks": ""
           }
          },
          "colorscale": {
           "diverging": [
            [
             0,
             "#8e0152"
            ],
            [
             0.1,
             "#c51b7d"
            ],
            [
             0.2,
             "#de77ae"
            ],
            [
             0.3,
             "#f1b6da"
            ],
            [
             0.4,
             "#fde0ef"
            ],
            [
             0.5,
             "#f7f7f7"
            ],
            [
             0.6,
             "#e6f5d0"
            ],
            [
             0.7,
             "#b8e186"
            ],
            [
             0.8,
             "#7fbc41"
            ],
            [
             0.9,
             "#4d9221"
            ],
            [
             1,
             "#276419"
            ]
           ],
           "sequential": [
            [
             0,
             "#0d0887"
            ],
            [
             0.1111111111111111,
             "#46039f"
            ],
            [
             0.2222222222222222,
             "#7201a8"
            ],
            [
             0.3333333333333333,
             "#9c179e"
            ],
            [
             0.4444444444444444,
             "#bd3786"
            ],
            [
             0.5555555555555556,
             "#d8576b"
            ],
            [
             0.6666666666666666,
             "#ed7953"
            ],
            [
             0.7777777777777778,
             "#fb9f3a"
            ],
            [
             0.8888888888888888,
             "#fdca26"
            ],
            [
             1,
             "#f0f921"
            ]
           ],
           "sequentialminus": [
            [
             0,
             "#0d0887"
            ],
            [
             0.1111111111111111,
             "#46039f"
            ],
            [
             0.2222222222222222,
             "#7201a8"
            ],
            [
             0.3333333333333333,
             "#9c179e"
            ],
            [
             0.4444444444444444,
             "#bd3786"
            ],
            [
             0.5555555555555556,
             "#d8576b"
            ],
            [
             0.6666666666666666,
             "#ed7953"
            ],
            [
             0.7777777777777778,
             "#fb9f3a"
            ],
            [
             0.8888888888888888,
             "#fdca26"
            ],
            [
             1,
             "#f0f921"
            ]
           ]
          },
          "colorway": [
           "#636efa",
           "#EF553B",
           "#00cc96",
           "#ab63fa",
           "#FFA15A",
           "#19d3f3",
           "#FF6692",
           "#B6E880",
           "#FF97FF",
           "#FECB52"
          ],
          "font": {
           "color": "#2a3f5f"
          },
          "geo": {
           "bgcolor": "white",
           "lakecolor": "white",
           "landcolor": "#E5ECF6",
           "showlakes": true,
           "showland": true,
           "subunitcolor": "white"
          },
          "hoverlabel": {
           "align": "left"
          },
          "hovermode": "closest",
          "mapbox": {
           "style": "light"
          },
          "paper_bgcolor": "white",
          "plot_bgcolor": "#E5ECF6",
          "polar": {
           "angularaxis": {
            "gridcolor": "white",
            "linecolor": "white",
            "ticks": ""
           },
           "bgcolor": "#E5ECF6",
           "radialaxis": {
            "gridcolor": "white",
            "linecolor": "white",
            "ticks": ""
           }
          },
          "scene": {
           "xaxis": {
            "backgroundcolor": "#E5ECF6",
            "gridcolor": "white",
            "gridwidth": 2,
            "linecolor": "white",
            "showbackground": true,
            "ticks": "",
            "zerolinecolor": "white"
           },
           "yaxis": {
            "backgroundcolor": "#E5ECF6",
            "gridcolor": "white",
            "gridwidth": 2,
            "linecolor": "white",
            "showbackground": true,
            "ticks": "",
            "zerolinecolor": "white"
           },
           "zaxis": {
            "backgroundcolor": "#E5ECF6",
            "gridcolor": "white",
            "gridwidth": 2,
            "linecolor": "white",
            "showbackground": true,
            "ticks": "",
            "zerolinecolor": "white"
           }
          },
          "shapedefaults": {
           "line": {
            "color": "#2a3f5f"
           }
          },
          "ternary": {
           "aaxis": {
            "gridcolor": "white",
            "linecolor": "white",
            "ticks": ""
           },
           "baxis": {
            "gridcolor": "white",
            "linecolor": "white",
            "ticks": ""
           },
           "bgcolor": "#E5ECF6",
           "caxis": {
            "gridcolor": "white",
            "linecolor": "white",
            "ticks": ""
           }
          },
          "title": {
           "x": 0.05
          },
          "xaxis": {
           "automargin": true,
           "gridcolor": "white",
           "linecolor": "white",
           "ticks": "",
           "title": {
            "standoff": 15
           },
           "zerolinecolor": "white",
           "zerolinewidth": 2
          },
          "yaxis": {
           "automargin": true,
           "gridcolor": "white",
           "linecolor": "white",
           "ticks": "",
           "title": {
            "standoff": 15
           },
           "zerolinecolor": "white",
           "zerolinewidth": 2
          }
         }
        }
       }
      },
      "image/png": "[encoded data removed]",
      "text/html": [
       "<div>                            <div id=\"4392826e-87a8-4aa0-a799-cbd843e5de1b\" class=\"plotly-graph-div\" style=\"height:525px; width:800px;\"></div>            <script type=\"text/javascript\">                require([\"plotly\"], function(Plotly) {                    window.PLOTLYENV=window.PLOTLYENV || {};                                    if (document.getElementById(\"4392826e-87a8-4aa0-a799-cbd843e5de1b\")) {                    Plotly.newPlot(                        \"4392826e-87a8-4aa0-a799-cbd843e5de1b\",                        [{\"customdata\": [[\"Scrypt\"], [\"Scrypt\"], [\"X13\"], [\"X11\"], [\"SHA-512\"], [\"SHA-256\"], [\"SHA-256\"], [\"X15\"], [\"Scrypt\"], [\"Scrypt\"], [\"Scrypt\"], [\"Scrypt\"], [\"Scrypt\"], [\"Scrypt\"], [\"Groestl\"], [\"PoS\"], [\"Scrypt\"], [\"Scrypt\"], [\"X11\"], [\"X11\"], [\"SHA3\"], [\"Scrypt\"], [\"SHA-256\"], [\"Scrypt\"], [\"X13\"], [\"X13\"], [\"NeoScrypt\"], [\"Scrypt\"], [\"Scrypt\"], [\"Scrypt\"], [\"X11\"], [\"X11\"], [\"Multiple\"], [\"PHI1612\"], [\"X11\"], [\"Scrypt\"], [\"Scrypt\"], [\"Scrypt\"], [\"X11\"], [\"Multiple\"], [\"X13\"], [\"Scrypt\"], [\"Shabal256\"], [\"Counterparty\"], [\"SHA-256\"], [\"Groestl\"], [\"Scrypt\"], [\"X13\"], [\"Scrypt\"], [\"Scrypt\"], [\"X13\"], [\"X11\"], [\"Scrypt\"], [\"X11\"], [\"SHA3\"], [\"QUAIT\"], [\"X11\"], [\"Scrypt\"], [\"X13\"], [\"SHA-256\"], [\"X15\"], [\"BLAKE256\"], [\"SHA-256\"], [\"X11\"], [\"SHA-256\"], [\"NIST5\"], [\"Scrypt\"], [\"Scrypt\"], [\"X11\"], [\"Scrypt\"], [\"SHA-256\"], [\"Scrypt\"], [\"PoS\"], [\"X11\"], [\"SHA-256\"], [\"SHA-256\"], [\"NIST5\"], [\"X11\"], [\"POS 3.0\"], [\"Scrypt\"], [\"Scrypt\"], [\"Scrypt\"], [\"X13\"], [\"X11\"], [\"X11\"], [\"Scrypt\"], [\"SHA-256\"], [\"X11\"], [\"Scrypt\"], [\"Scrypt\"], [\"Scrypt\"], [\"Scrypt\"], [\"SHA-256D\"], [\"PoS\"], [\"Scrypt\"], [\"X11\"], [\"PoS\"], [\"X13\"], [\"X14\"], [\"PoS\"], [\"SHA-256D\"], [\"DPoS\"], [\"X11\"], [\"X13\"], [\"X11\"], [\"PoS\"], [\"Scrypt\"], [\"Scrypt\"], [\"PoS\"], [\"X11\"], [\"SHA-256\"], [\"Scrypt\"], [\"X11\"], [\"Scrypt\"], [\"Scrypt\"], [\"X11\"], [\"Scrypt\"], [\"Scrypt\"], [\"Scrypt\"], [\"Scrypt\"], [\"Quark\"], [\"QuBit\"], [\"Scrypt\"], [\"SHA-256\"], [\"X11\"], [\"Scrypt\"], [\"Scrypt\"], [\"Scrypt\"], [\"Scrypt\"], [\"X13\"], [\"Scrypt\"], [\"Scrypt\"], [\"X11\"], [\"Blake2S\"], [\"X11\"], [\"PoS\"], [\"X11\"], [\"PoS\"], [\"X11\"], [\"Scrypt\"], [\"Scrypt\"], [\"Scrypt\"], [\"SHA-256\"], [\"X11\"], [\"Scrypt\"], [\"PoS\"], [\"Scrypt\"], [\"X15\"], [\"SHA-256\"], [\"POS 3.0\"], [\"536\"], [\"NIST5\"], [\"NIST5\"], [\"Skein\"], [\"X13\"], [\"Scrypt\"], [\"X13\"], [\"SkunkHash v2 Raptor\"], [\"Skein\"], [\"X11\"], [\"Scrypt\"], [\"PoS\"], [\"Scrypt\"], [\"Scrypt\"], [\"SHA-512\"], [\"Ouroboros\"], [\"X11\"], [\"NeoScrypt\"], [\"Scrypt\"], [\"Lyra2REv2\"], [\"Scrypt\"], [\"SHA-256\"], [\"NIST5\"], [\"PHI1612\"], [\"Scrypt\"], [\"Quark\"], [\"POS 2.0\"], [\"Scrypt\"], [\"SHA-256\"], [\"X11\"], [\"DPoS\"], [\"NIST5\"], [\"X13\"], [\"Scrypt\"], [\"NIST5\"], [\"Quark\"], [\"Scrypt\"], [\"Scrypt\"], [\"X11\"], [\"Quark\"], [\"Scrypt\"], [\"Scrypt\"], [\"X11\"], [\"POS 3.0\"], [\"Scrypt\"], [\"Scrypt\"], [\"X13\"], [\"C11\"], [\"X11\"], [\"XEVAN\"], [\"Scrypt\"], [\"VBFT\"], [\"NIST5\"], [\"Scrypt\"], [\"Scrypt\"], [\"Scrypt\"], [\"Green Protocol\"], [\"PoS\"], [\"Scrypt\"], [\"Semux BFT consensus\"], [\"Quark\"], [\"PoS\"], [\"X16R\"], [\"Scrypt\"], [\"XEVAN\"], [\"Scrypt\"], [\"Scrypt\"], [\"Scrypt\"], [\"SHA-256D\"], [\"Scrypt\"], [\"X15\"], [\"Scrypt\"], [\"Quark\"], [\"SHA-256\"], [\"DPoS\"], [\"X16R\"], [\"Quark\"], [\"Quark\"], [\"Scrypt\"], [\"Lyra2REv2\"], [\"Quark\"], [\"Scrypt\"], [\"X11\"], [\"X11\"], [\"Scrypt\"], [\"PoS\"], [\"Keccak\"], [\"X11\"], [\"Scrypt\"], [\"XEVAN\"], [\"XEVAN\"], [\"X11\"], [\"Quark\"], [\"Equihash\"], [\"Scrypt\"], [\"Quark\"], [\"Quark\"], [\"Scrypt\"], [\"X11\"], [\"Scrypt\"], [\"XEVAN\"], [\"SHA-256D\"], [\"X11\"], [\"X11\"], [\"DPoS\"], [\"Scrypt\"], [\"X11\"], [\"Scrypt\"], [\"Scrypt\"], [\"SHA-256\"], [\"Scrypt\"], [\"X11\"], [\"Scrypt\"], [\"SHA-256\"], [\"X11\"], [\"Scrypt\"], [\"Scrypt\"], [\"X11\"], [\"Scrypt\"], [\"PoS\"], [\"X11\"], [\"SHA-256\"], [\"DPoS\"], [\"Scrypt\"], [\"Scrypt\"], [\"NeoScrypt\"], [\"X13\"], [\"DPoS\"], [\"DPoS\"], [\"SHA-256\"], [\"PoS\"], [\"TRC10\"], [\"PoS\"], [\"SHA-256\"], [\"Scrypt\"], [\"Scrypt\"]], \"hovertemplate\": \"<b>%{hovertext}</b><br><br>Class=%{marker.color}<br>PC 1=%{x}<br>PC 2=%{y}<br>PC 3=%{z}<br>Algorithm=%{customdata[0]}<extra></extra>\", \"hovertext\": [\"42 Coin\", \"404Coin\", \"EliteCoin\", \"Dash\", \"Bitshares\", \"BitcoinDark\", \"PayCoin\", \"KoboCoin\", \"Aurora Coin\", \"BlueCoin\", \"EnergyCoin\", \"BitBar\", \"CryptoBullion\", \"CasinoCoin\", \"Diamond\", \"Exclusive Coin\", \"FlutterCoin\", \"HoboNickels\", \"HyperStake\", \"IOCoin\", \"MaxCoin\", \"MintCoin\", \"MazaCoin\", \"Nautilus Coin\", \"NavCoin\", \"OpalCoin\", \"Orbitcoin\", \"PotCoin\", \"PhoenixCoin\", \"Reddcoin\", \"SuperCoin\", \"SyncCoin\", \"TeslaCoin\", \"TittieCoin\", \"TorCoin\", \"UnitaryStatus Dollar\", \"UltraCoin\", \"VeriCoin\", \"X11 Coin\", \"Crypti\", \"StealthCoin\", \"ZCC Coin\", \"BurstCoin\", \"StorjCoin\", \"Neutron\", \"FairCoin\", \"RubyCoin\", \"Kore\", \"Dnotes\", \"8BIT Coin\", \"Sativa Coin\", \"Ucoin\", \"Vtorrent\", \"IslaCoin\", \"Nexus\", \"Droidz\", \"Squall Coin\", \"Diggits\", \"Paycon\", \"Emercoin\", \"EverGreenCoin\", \"Decred\", \"EDRCoin\", \"Hitcoin\", \"DubaiCoin\", \"PWR Coin\", \"BillaryCoin\", \"GPU Coin\", \"EuropeCoin\", \"ZeitCoin\", \"SwingCoin\", \"SafeExchangeCoin\", \"Nebuchadnezzar\", \"Ratecoin\", \"Revenu\", \"Clockcoin\", \"VIP Tokens\", \"BitSend\", \"Let it Ride\", \"PutinCoin\", \"iBankCoin\", \"Frankywillcoin\", \"MudraCoin\", \"Lutetium Coin\", \"GoldBlocks\", \"CarterCoin\", \"BitTokens\", \"MustangCoin\", \"ZoneCoin\", \"RootCoin\", \"BitCurrency\", \"Swiscoin\", \"BuzzCoin\", \"Opair\", \"PesoBit\", \"Halloween Coin\", \"CoffeeCoin\", \"RoyalCoin\", \"GanjaCoin V2\", \"TeamUP\", \"LanaCoin\", \"ARK\", \"InsaneCoin\", \"EmberCoin\", \"XenixCoin\", \"FreeCoin\", \"PLNCoin\", \"AquariusCoin\", \"Creatio\", \"Eternity\", \"Eurocoin\", \"BitcoinFast\", \"Stakenet\", \"BitConnect Coin\", \"MoneyCoin\", \"Enigma\", \"Russiacoin\", \"PandaCoin\", \"GameUnits\", \"GAKHcoin\", \"Allsafe\", \"LiteCreed\", \"Klingon Empire Darsek\", \"Internet of People\", \"KushCoin\", \"Printerium\", \"Impeach\", \"Zilbercoin\", \"FirstCoin\", \"FindCoin\", \"OpenChat\", \"RenosCoin\", \"VirtacoinPlus\", \"TajCoin\", \"Impact\", \"Atmos\", \"HappyCoin\", \"MacronCoin\", \"Condensate\", \"Independent Money System\", \"ArgusCoin\", \"LomoCoin\", \"ProCurrency\", \"GoldReserve\", \"GrowthCoin\", \"Phreak\", \"Degas Coin\", \"HTML5 Coin\", \"Ultimate Secure Cash\", \"QTUM\", \"Espers\", \"Denarius\", \"Virta Unique Coin\", \"Bitcoin Planet\", \"BritCoin\", \"Linda\", \"DeepOnion\", \"Signatum\", \"Cream\", \"Monoeci\", \"Draftcoin\", \"Stakecoin\", \"CoinonatX\", \"Ethereum Dark\", \"Obsidian\", \"Cardano\", \"Regalcoin\", \"TrezarCoin\", \"TerraNovaCoin\", \"Rupee\", \"WomenCoin\", \"Theresa May Coin\", \"NamoCoin\", \"LUXCoin\", \"Xios\", \"Bitcloud 2.0\", \"KekCoin\", \"BlackholeCoin\", \"Infinity Economics\", \"Magnet\", \"Lamden Tau\", \"Electra\", \"Bitcoin Diamond\", \"Cash & Back Coin\", \"Bulwark\", \"Kalkulus\", \"GermanCoin\", \"LiteCoin Ultra\", \"PhantomX\", \"Digiwage\", \"Trollcoin\", \"Litecoin Plus\", \"Monkey Project\", \"TokenPay\", \"My Big Coin\", \"Unified Society USDEX\", \"Tokyo Coin\", \"Stipend\", \"Pushi\", \"Ellerium\", \"Velox\", \"Ontology\", \"Bitspace\", \"Briacoin\", \"Ignition\", \"MedicCoin\", \"Bitcoin Green\", \"Deviant Coin\", \"Abjcoin\", \"Semux\", \"Carebit\", \"Zealium\", \"Proton\", \"iDealCash\", \"Bitcoin Incognito\", \"HollyWoodCoin\", \"Swisscoin\", \"Xt3ch\", \"TheVig\", \"EmaratCoin\", \"Dekado\", \"Lynx\", \"Poseidon Quark\", \"BitcoinWSpectrum\", \"Muse\", \"Trivechain\", \"Dystem\", \"Giant\", \"Peony Coin\", \"Absolute Coin\", \"Vitae\", \"TPCash\", \"ARENON\", \"EUNO\", \"MMOCoin\", \"Ketan\", \"XDNA\", \"PAXEX\", \"ThunderStake\", \"Bettex coin\", \"BitMoney\", \"Junson Ming Chan Coin\", \"HerbCoin\", \"PirateCash\", \"Oduwa\", \"Galilel\", \"Crypto Sports\", \"Credit\", \"Dash Platinum\", \"Nasdacoin\", \"Beetle Coin\", \"Titan Coin\", \"Award\", \"Insane Coin\", \"ALAX\", \"LiteDoge\", \"TruckCoin\", \"OrangeCoin\", \"BitstarCoin\", \"NeosCoin\", \"HyperCoin\", \"PinkCoin\", \"AudioCoin\", \"IncaKoin\", \"Piggy Coin\", \"Genstake\", \"XiaoMiCoin\", \"CapriCoin\", \" ClubCoin\", \"Radium\", \"Creditbit \", \"OKCash\", \"Lisk\", \"HiCoin\", \"WhiteCoin\", \"FriendshipCoin\", \"Triangles Coin\", \"EOS\", \"Oxycoin\", \"TigerCash\", \"Particl\", \"BitTorrent\", \"Nxt\", \"ZEPHYR\", \"Gapcoin\", \"BitcoinPlus\"], \"legendgroup\": \"1\", \"marker\": {\"color\": [1, 1, 1, 1, 1, 1, 1, 1, 1, 1, 1, 1, 1, 1, 1, 1, 1, 1, 1, 1, 1, 1, 1, 1, 1, 1, 1, 1, 1, 1, 1, 1, 1, 1, 1, 1, 1, 1, 1, 1, 1, 1, 1, 1, 1, 1, 1, 1, 1, 1, 1, 1, 1, 1, 1, 1, 1, 1, 1, 1, 1, 1, 1, 1, 1, 1, 1, 1, 1, 1, 1, 1, 1, 1, 1, 1, 1, 1, 1, 1, 1, 1, 1, 1, 1, 1, 1, 1, 1, 1, 1, 1, 1, 1, 1, 1, 1, 1, 1, 1, 1, 1, 1, 1, 1, 1, 1, 1, 1, 1, 1, 1, 1, 1, 1, 1, 1, 1, 1, 1, 1, 1, 1, 1, 1, 1, 1, 1, 1, 1, 1, 1, 1, 1, 1, 1, 1, 1, 1, 1, 1, 1, 1, 1, 1, 1, 1, 1, 1, 1, 1, 1, 1, 1, 1, 1, 1, 1, 1, 1, 1, 1, 1, 1, 1, 1, 1, 1, 1, 1, 1, 1, 1, 1, 1, 1, 1, 1, 1, 1, 1, 1, 1, 1, 1, 1, 1, 1, 1, 1, 1, 1, 1, 1, 1, 1, 1, 1, 1, 1, 1, 1, 1, 1, 1, 1, 1, 1, 1, 1, 1, 1, 1, 1, 1, 1, 1, 1, 1, 1, 1, 1, 1, 1, 1, 1, 1, 1, 1, 1, 1, 1, 1, 1, 1, 1, 1, 1, 1, 1, 1, 1, 1, 1, 1, 1, 1, 1, 1, 1, 1, 1, 1, 1, 1, 1, 1, 1, 1, 1, 1, 1, 1, 1, 1, 1, 1, 1, 1, 1, 1, 1, 1, 1, 1, 1, 1, 1, 1, 1, 1, 1, 1, 1, 1, 1], \"coloraxis\": \"coloraxis\", \"symbol\": \"circle\"}, \"mode\": \"markers\", \"name\": \"1\", \"scene\": \"scene\", \"showlegend\": true, \"type\": \"scatter3d\", \"x\": [1.0140986118445718, 1.0140986118445672, 1.7704822067721258, 1.2471476778043622, 0.5761678578449737, 0.8534402002850829, 0.5614814164215866, 1.8868918508917043, 1.0140986118445672, 1.0140986118445672, 1.0140986118445672, 1.0140986118445672, 1.0140986118445672, 0.10264997598286428, 0.9799346256744735, 1.4538846603483973, 0.3482454887479022, 1.0140986118445672, 0.9551888939408651, 1.2471476778043609, 1.5082110401633955, 0.722139827981071, 0.8534402002850828, 0.722139827981071, 1.770482206772126, 1.770482206772126, 0.4931405993274927, 1.0140986118445672, 1.0140986118445672, 1.0140986118445672, 0.9551888939408651, 1.2471476778043609, 0.031545734164525364, 1.4247675280093097, 1.2471476778043609, 1.0140986118445672, 1.0140986118445672, 0.2584830101086023, 1.2471476778043609, 0.031545734164525364, 1.770482206772126, 1.0140986118445672, -0.07303896479977616, 1.328001309483567, 0.8534402002850828, 0.9799346256744735, 0.722139827981071, 1.770482206772126, 0.722139827981071, 1.0140986118445672, 1.770482206772126, 0.9551888939408651, 1.0140986118445672, 1.2471476778043609, 1.0008836099364484, 1.8856740630102116, 0.6526664480779876, 0.722139827981071, 1.770482206772126, 0.8534402002850828, 1.8868918508917043, 0.9638412365325107, 0.8534402002850828, 1.2471476778043609, 0.8534402002850828, 1.5077082774061907, 1.0140986118445672, 0.722139827981071, 1.2471476778043609, 0.722139827981071, 0.8534402002850828, 0.10264997598286428, 1.4538846603483973, 1.2471476778043609, 0.8534402002850828, 0.8534402002850828, 1.5077082774061907, 1.2471476778043609, 1.3597739336695072, 1.0140986118445672, 1.0140986118445672, 1.0140986118445672, 1.4785234229086295, 0.9551888939408651, 1.2471476778043609, 1.0140986118445672, 0.8534402002850828, 1.2471476778043609, 1.0140986118445672, 1.0140986118445672, 0.722139827981071, 0.2550673315285697, 1.9239849326358949, 1.4538846603483973, 1.0140986118445672, 1.2471476778043609, 1.4538846603483973, 1.4785234229086295, 1.9907858835453764, 1.4538846603483973, 1.9239849326358949, 2.32354437509892, 1.2471476778043609, 1.770482206772126, 1.2471476778043609, 1.4538846603483973, 1.0140986118445672, 1.0140986118445672, 1.4538846603483973, 1.2471476778043609, 0.8534402002850828, 1.0140986118445672, 0.83702807780433, 1.0140986118445672, 1.0140986118445672, 1.2471476778043609, 1.0140986118445672, 0.722139827981071, 1.0140986118445672, 1.0140986118445672, 1.2937806582957843, 0.6230704290496856, 1.0140986118445672, 0.8534402002850828, 1.2471476778043609, 1.0140986118445672, 1.0140986118445672, 0.722139827981071, 0.2724000097450737, 1.4785234229086295, 1.0140986118445672, 0.722139827981071, 1.2471476778043609, 1.8987253548346215, 1.2471476778043609, 1.4538846603483973, 1.2471476778043609, 1.4538846603483973, 1.2471476778043609, 1.0140986118445672, 1.0140986118445672, 1.0140986118445672, 0.5614814164215866, 1.2471476778043609, 0.722139827981071, 1.4538846603483973, 1.0140986118445672, 1.8868918508917043, 0.5614814164215866, 1.3597739336695072, 1.7417678654586646, 1.5077082774061907, 1.5077082774061907, 2.0955846891984415, 1.770482206772126, 1.0140986118445672, 1.770482206772126, 1.316478003860249, 2.0955846891984415, 1.2471476778043609, 0.722139827981071, 1.4538846603483973, 1.0140986118445672, 1.0140986118445672, 0.5761678578449736, 1.2738315223497907, 1.2471476778043609, 0.4931405993274927, 1.0140986118445672, 0.6337488939014293, 1.0140986118445672, 0.8534402002850828, 1.5077082774061907, 1.7167263118728053, 1.0140986118445672, 1.5857394421592803, 1.2683278229245374, 1.0140986118445672, 0.5614814164215866, 1.2471476778043609, 2.32354437509892, 1.5077082774061907, 1.770482206772126, 1.0140986118445672, 1.2157494935426951, 1.2937806582957843, 1.0140986118445672, 1.0140986118445672, 1.2471476778043609, 1.2937806582957843, 1.0140986118445672, 1.0140986118445672, 0.9551888939408651, 1.3597739336695072, 0.1787045258648399, 1.0140986118445672, 1.4785234229086295, 0.9426954563615397, 1.2471476778043609, 1.2238553813697084, 0.722139827981071, 1.279192016212236, 1.5077082774061907, 1.0140986118445672, 1.0140986118445672, 0.722139827981071, 1.3348689266118245, 1.4538846603483973, 1.0140986118445672, 2.401124405386417, 1.5857394421592803, 1.4538846603483973, 0.6108652538928541, 1.0140986118445672, 0.6293741516433364, 0.722139827981071, 1.0140986118445672, 0.722139827981071, 1.9239849326358949, 1.0140986118445672, 1.5949330670282083, 0.3515167476387925, 1.2937806582957843, 0.5614814164215866, 1.7993898579739505, 0.9028240377563502, 1.2937806582957843, 1.5857394421592803, 0.722139827981071, 0.9257076777649257, 1.2937806582957843, 1.0140986118445672, 0.9551888939408651, 1.2471476778043609, 0.722139827981071, 1.4538846603483973, 1.0534848320180714, 0.9551888939408651, 1.0140986118445672, 0.9318965975062122, 0.45185260690827667, 0.9551888939408651, 1.5857394421592803, -0.04872092279978718, 1.0140986118445672, 1.5857394421592803, 1.2937806582957843, 1.0140986118445672, 0.9551888939408651, 1.0140986118445672, 1.2238553813697084, 1.9239849326358949, 1.2471476778043609, 1.2471476778043609, 2.32354437509892, 1.0140986118445672, 1.2471476778043609, 1.0140986118445672, 1.0140986118445672, 0.5614814164215866, 1.0140986118445672, 1.2471476778043609, 1.0140986118445672, 0.8534402002850828, 1.2471476778043609, 1.0140986118445672, 1.0140986118445672, 1.2471476778043609, 1.0140986118445672, 1.4538846603483973, 0.8291529216651291, 0.8534402002850828, 2.32354437509892, 0.722139827981071, 1.0140986118445672, 0.4931405993274927, 1.770482206772126, 2.32354437509892, 2.32354437509892, 0.5614814164215866, 1.4538846603483973, 2.4615395607672075, 1.9378248192125003, 1.0856359335465544, 1.0140986118445672, 0.722139827981071], \"y\": [-0.7089301552511664, -0.7089301552511722, -0.7817811911204359, -0.6499219904926141, -0.0868847472928525, -0.45086736620561124, -0.07070585830369469, -0.7944258725747799, -0.7089301552511662, -0.7089301552511662, -0.7089301552511662, -0.7089301552511662, -0.7089301552511662, -0.38171649635657184, -0.5202865687740876, -0.12738867915297253, -0.3674755606432194, -0.7089301552511662, -0.26976048259069957, -0.649921990492616, -0.8977205969212411, -0.3287686473492499, -0.4508673662056113, -0.3287686473492499, -0.78178119112043, -0.78178119112043, -0.4340837996638824, -0.7089301552511662, -0.7089301552511662, -0.7089301552511662, -0.26976048259069957, -0.649921990492616, 0.10928846874735307, -0.2551444003346554, -0.649921990492616, -0.7089301552511662, -0.7089301552511662, -0.3660623977107895, -0.649921990492616, 0.10928846874735307, -0.78178119112043, -0.7089301552511662, -0.2636983992094251, -0.27328459073746103, -0.4508673662056113, -0.5202865687740876, -0.3287686473492499, -0.78178119112043, -0.3287686473492499, -0.7089301552511662, -0.78178119112043, -0.26976048259069957, -0.7089301552511662, -0.649921990492616, -0.8333932784547666, -0.9852994195688487, -0.23895892103644378, -0.3287686473492499, -0.78178119112043, -0.4508673662056113, -0.7944258725747799, -0.5729511082458241, -0.4508673662056113, -0.649921990492616, -0.4508673662056113, -0.7054167106147665, -0.7089301552511662, -0.3287686473492499, -0.649921990492616, -0.3287686473492499, -0.4508673662056113, -0.38171649635657184, -0.12738867915297253, -0.649921990492616, -0.4508673662056113, -0.4508673662056113, -0.7054167106147665, -0.649921990492616, -0.21479041949806812, -0.7089301552511662, -0.7089301552511662, -0.7089301552511662, -0.401619683218513, -0.26976048259069957, -0.649921990492616, -0.7089301552511662, -0.4508673662056113, -0.649921990492616, -0.7089301552511662, -0.7089301552511662, -0.3287686473492499, -0.4034354324270192, -0.9020389459810003, -0.12738867915297253, -0.7089301552511662, -0.649921990492616, -0.12738867915297253, -0.401619683218513, -0.991911364790649, -0.12738867915297253, -0.9020389459810003, 1.063675560946103, -0.649921990492616, -0.78178119112043, -0.649921990492616, -0.12738867915297253, -0.7089301552511662, -0.7089301552511662, -0.12738867915297253, -0.649921990492616, -0.4508673662056113, -0.7089301552511662, -0.3426439581047932, -0.7089301552511662, -0.7089301552511662, -0.649921990492616, -0.7089301552511662, -0.3287686473492499, -0.7089301552511662, -0.7089301552511662, -0.269739516806636, -0.4749984404379526, -0.7089301552511662, -0.4508673662056113, -0.649921990492616, -0.7089301552511662, -0.7089301552511662, -0.3287686473492499, -0.40038690492506535, -0.401619683218513, -0.7089301552511662, -0.3287686473492499, -0.649921990492616, -0.8883298609967123, -0.649921990492616, -0.12738867915297253, -0.649921990492616, -0.12738867915297253, -0.649921990492616, -0.7089301552511662, -0.7089301552511662, -0.7089301552511662, -0.07070585830369469, -0.649921990492616, -0.3287686473492499, -0.12738867915297253, -0.7089301552511662, -0.7944258725747799, -0.07070585830369469, -0.21479041949806812, -0.9205582109192998, -0.7054167106147665, -0.7054167106147665, -0.8770313225877419, -0.78178119112043, -0.7089301552511662, -0.78178119112043, -0.17524991758555547, -0.8770313225877419, -0.649921990492616, -0.3287686473492499, -0.12738867915297253, -0.7089301552511662, -0.7089301552511662, -0.08688474729285278, -0.022828704675190225, -0.649921990492616, -0.4340837996638824, -0.7089301552511662, -0.10531105469896293, -0.7089301552511662, -0.4508673662056113, -0.7054167106147665, -0.6353059082365718, -0.7089301552511662, -0.6499010247085527, -0.18573400822282843, -0.7089301552511662, -0.07070585830369469, -0.649921990492616, 1.063675560946103, -0.7054167106147665, -0.78178119112043, -0.7089301552511662, -0.32525520271284974, -0.269739516806636, -0.7089301552511662, -0.7089301552511662, -0.649921990492616, -0.269739516806636, -0.7089301552511662, -0.7089301552511662, -0.26976048259069957, -0.21479041949806812, -0.4021403000369788, -0.7089301552511662, -0.401619683218513, -0.6206006527486589, -0.649921990492616, -0.5559131690678002, -0.3287686473492499, -0.12120996572738017, -0.7054167106147665, -0.7089301552511662, -0.7089301552511662, -0.3287686473492499, -0.13135556949486116, -0.12738867915297253, -0.7089301552511662, 1.1432269719581276, -0.6499010247085527, -0.12738867915297253, -0.07652231236458519, -0.7089301552511662, -0.14495009961162383, -0.3287686473492499, -0.7089301552511662, -0.3287686473492499, -0.9020389459810003, -0.7089301552511662, -0.4142643646728636, -0.3367007954510738, -0.269739516806636, -0.07070585830369469, 0.41992286648985216, -0.4566838202665019, -0.269739516806636, -0.6499010247085527, -0.3287686473492499, -0.4854725626008797, -0.269739516806636, -0.7089301552511662, -0.26976048259069957, -0.649921990492616, -0.3287686473492499, -0.12738867915297253, -0.5524045383284828, -0.26976048259069957, -0.7089301552511662, -0.17575166116588348, -0.0714455894076004, -0.26976048259069957, -0.6499010247085527, 0.18722724406488842, -0.7089301552511662, -0.6499010247085527, -0.269739516806636, -0.7089301552511662, -0.26976048259069957, -0.7089301552511662, -0.5559131690678002, -0.9020389459810003, -0.649921990492616, -0.649921990492616, 1.063675560946103, -0.7089301552511662, -0.649921990492616, -0.7089301552511662, -0.7089301552511662, -0.07070585830369469, -0.7089301552511662, -0.649921990492616, -0.7089301552511662, -0.4508673662056113, -0.649921990492616, -0.7089301552511662, -0.7089301552511662, -0.649921990492616, -0.7089301552511662, -0.12738867915297253, -0.23762045869402765, -0.4508673662056113, 1.063675560946103, -0.3287686473492499, -0.7089301552511662, -0.4340837996638824, -0.78178119112043, 1.063675560946103, 1.063675560946103, -0.07070585830369469, -0.12738867915297253, 1.1596939954194616, 0.02854912936221567, 0.5730468361525533, -0.7089301552511662, -0.3287686473492499], \"z\": [-0.0024851678780453738, -0.0024851678780407976, -0.0002575282158813436, 0.0020688542373770566, 0.009700250270664373, 0.009049238307174391, 0.011360860340335935, -0.03298084629579689, -0.002485167878043585, -0.002485167878043585, -0.002485167878043585, -0.002485167878043585, -0.002485167878043585, 0.011179747280184801, 0.03255971477034828, -0.0007089644532206373, 0.07450567468324507, -0.002485167878043585, 0.0043804762705378815, 0.0020688542373764477, 0.005964588465716572, -0.0001735458448822076, 0.009049238307174393, -0.0001735458448822076, -0.00025752821587519937, -0.00025752821587519937, -0.005093616129985535, -0.002485167878043585, -0.002485167878043585, -0.002485167878043585, 0.0043804762705378815, 0.0020688542373764477, -0.005345351560491519, -0.021761975101390617, 0.0020688542373764477, -0.002485167878043585, -0.002485167878043585, -0.02356500193542085, 0.0020688542373764477, -0.005345351560491519, -0.00025752821587519937, -0.002485167878043585, 0.02728574214400216, 0.06848968026508132, 0.009049238307174393, 0.03255971477034828, -0.0001735458448822076, -0.00025752821587519937, -0.0001735458448822076, -0.002485167878043585, -0.00025752821587519937, 0.0043804762705378815, -0.002485167878043585, 0.0020688542373764477, 0.023574477520823874, -0.11114383999416205, 0.03292409831792885, -0.0001735458448822076, -0.00025752821587519937, 0.009049238307174393, -0.03298084629579689, -0.08777381302183497, 0.009049238307174393, 0.0020688542373764477, 0.009049238307174393, -0.0339694879205916, -0.002485167878043585, -0.0001735458448822076, 0.0020688542373764477, -0.0001735458448822076, 0.009049238307174393, 0.011179747280184801, -0.0007089644532206373, 0.0020688542373764477, 0.009049238307174393, 0.009049238307174393, -0.0339694879205916, 0.0020688542373764477, -0.025802492010725805, -0.002485167878043585, -0.002485167878043585, -0.002485167878043585, 0.0020540938172865287, 0.0043804762705378815, 0.0020688542373764477, -0.002485167878043585, 0.009049238307174393, 0.0020688542373764477, -0.002485167878043585, -0.002485167878043585, -0.0001735458448822076, -0.031348447780442865, -0.017848910706017823, -0.0007089644532206373, -0.002485167878043585, 0.0020688542373764477, -0.0007089644532206373, 0.0020540938172865287, 0.07682328877729681, -0.0007089644532206373, -0.017848910706017823, -0.01458417969921389, 0.0020688542373764477, -0.00025752821587519937, 0.0020688542373764477, -0.0007089644532206373, -0.002485167878043585, -0.002485167878043585, -0.0007089644532206373, 0.0020688542373764477, 0.009049238307174393, -0.002485167878043585, -0.023015671315247888, -0.002485167878043585, -0.002485167878043585, 0.0020688542373764477, -0.002485167878043585, -0.0001735458448822076, -0.002485167878043585, -0.002485167878043585, -0.011252121714119358, 0.03449139809562686, -0.002485167878043585, 0.009049238307174393, 0.0020688542373764477, -0.002485167878043585, -0.002485167878043585, -0.0001735458448822076, 0.04727246361475848, 0.0020540938172865287, -0.002485167878043585, -0.0001735458448822076, 0.0020688542373764477, -0.017862091019833246, 0.0020688542373764477, -0.0007089644532206373, 0.0020688542373764477, -0.0007089644532206373, 0.0020688542373764477, -0.002485167878043585, -0.002485167878043585, -0.002485167878043585, 0.011360860340335935, 0.0020688542373764477, -0.0001735458448822076, -0.0007089644532206373, -0.002485167878043581, -0.03298084629579689, 0.011360860340335935, -0.025802492010725805, -0.012952112237593618, -0.0339694879205916, -0.0339694879205916, 0.01712976650498611, -0.00025752821587519937, -0.002485167878043585, -0.00025752821587519937, 0.034225126163136894, 0.01712976650498611, 0.0020688542373764477, -0.0001735458448822076, -0.0007089644532206373, -0.002485167878043585, -0.002485167878043585, 0.009700250270664443, 0.0064762125744874995, 0.0020688542373764477, -0.005093616129985535, -0.002485167878043585, -0.015351420666923674, -0.002485167878043585, 0.009049238307174393, -0.0339694879205916, -0.02407359713455183, -0.002485167878043585, -0.013563743747280678, -0.006788999713103271, -0.002485167878043585, 0.011360860340335935, 0.0020688542373764477, -0.01458417969921389, -0.0339694879205916, -0.00025752821587519937, -0.002485167878043585, -0.031657865887430234, -0.011252121714119358, -0.002485167878043585, -0.002485167878043585, 0.0020688542373764477, -0.011252121714119358, -0.002485167878043585, -0.002485167878043585, 0.0043804762705378815, -0.025802492010725805, -0.07714199265376494, -0.002485167878043585, 0.0020540938172865287, -0.026974613829990758, 0.0020688542373764477, 0.007472165388520916, -0.0001735458448822076, -0.06016941576617802, -0.0339694879205916, -0.002485167878043585, -0.002485167878043585, -0.0001735458448822076, 0.04503743712854871, -0.0007089644532206373, -0.002485167878043585, 0.016696744880900484, -0.013563743747280678, -0.0007089644532206373, -0.03830200253932875, -0.002485167878043585, 0.03832740946907538, -0.0001735458448822076, -0.002485167878043585, -0.0001735458448822076, -0.017848910706017823, -0.002485167878043585, -0.030669224262635277, 0.03963250004881423, -0.011252121714119358, 0.011360860340335935, -0.01013943586244672, -0.04061362457249048, -0.011252121714119358, -0.013563743747280678, -0.0001735458448822076, -0.01766304270008534, -0.011252121714119358, -0.002485167878043585, 0.0043804762705378815, 0.0020688542373764477, -0.0001735458448822076, -0.0007089644532206373, -0.004810965421359759, 0.0043804762705378815, -0.002485167878043585, 0.009783787421682236, 0.02190854659296091, 0.0043804762705378815, -0.013563743747280678, -0.0020724118622314977, -0.002485167878043585, -0.013563743747280678, -0.011252121714119358, -0.002485167878043585, 0.0043804762705378815, -0.002485167878043585, 0.007472165388520916, -0.017848910706017823, 0.0020688542373764477, 0.0020688542373764477, -0.01458417969921389, -0.002485167878043585, 0.0020688542373764477, -0.002485167878043585, -0.002485167878043585, 0.011360860340335935, -0.002485167878043585, 0.0020688542373764477, -0.002485167878043585, 0.009049238307174393, 0.0020688542373764477, -0.002485167878043585, -0.002485167878043585, 0.0020688542373764477, -0.002485167878043585, -0.0007089644532206373, 0.09007138589793906, 0.009049238307174393, -0.01458417969921389, -0.0001735458448822076, -0.002485167878043585, -0.005093616129985535, -0.00025752821587519937, -0.01458417969921389, -0.01458417969921389, 0.011360860340335935, -0.0007089644532206373, -0.02390099548358414, -0.0023471224462652948, 0.006916116503565425, -0.002485167878043585, -0.0001735458448822076]}, {\"customdata\": [[\"SHA-256\"], [\"Ethash\"], [\"Scrypt\"], [\"CryptoNight-V7\"], [\"Ethash\"], [\"Equihash\"], [\"Multiple\"], [\"Scrypt\"], [\"X11\"], [\"Scrypt\"], [\"Multiple\"], [\"Scrypt\"], [\"SHA-256\"], [\"Scrypt\"], [\"Scrypt\"], [\"Quark\"], [\"Groestl\"], [\"Scrypt\"], [\"Scrypt\"], [\"Scrypt\"], [\"X11\"], [\"Multiple\"], [\"SHA-256\"], [\"Scrypt\"], [\"Scrypt\"], [\"Scrypt\"], [\"Scrypt\"], [\"Scrypt\"], [\"NeoScrypt\"], [\"Scrypt\"], [\"Scrypt\"], [\"Scrypt\"], [\"Scrypt\"], [\"SHA-256\"], [\"Scrypt\"], [\"Scrypt\"], [\"Scrypt\"], [\"Scrypt\"], [\"HybridScryptHash256\"], [\"Scrypt\"], [\"Scrypt\"], [\"SHA-256\"], [\"Scrypt\"], [\"Scrypt\"], [\"Scrypt\"], [\"Scrypt\"], [\"SHA-256\"], [\"SHA-256\"], [\"SHA-256\"], [\"SHA-256\"], [\"SHA-256\"], [\"X11\"], [\"Scrypt\"], [\"Lyra2REv2\"], [\"Scrypt\"], [\"SHA-256\"], [\"CryptoNight\"], [\"CryptoNight\"], [\"Scrypt\"], [\"Scrypt\"], [\"Scrypt\"], [\"Scrypt\"], [\"Scrypt\"], [\"Scrypt\"], [\"Stanford Folding\"], [\"Multiple\"], [\"QuBit\"], [\"Scrypt\"], [\"Scrypt\"], [\"M7 POW\"], [\"Scrypt\"], [\"SHA-256\"], [\"Scrypt\"], [\"X11\"], [\"Lyra2RE\"], [\"SHA-256\"], [\"X11\"], [\"Scrypt\"], [\"Scrypt\"], [\"Ethash\"], [\"Blake2b\"], [\"X11\"], [\"SHA-256\"], [\"Scrypt\"], [\"1GB AES Pattern Search\"], [\"Scrypt\"], [\"SHA-256\"], [\"X11\"], [\"Dagger\"], [\"Scrypt\"], [\"X11GOST\"], [\"Scrypt\"], [\"X11\"], [\"Scrypt\"], [\"X11\"], [\"Equihash\"], [\"CryptoNight\"], [\"SHA-256\"], [\"Multiple\"], [\"Scrypt\"], [\"SHA-256\"], [\"Scrypt\"], [\"Lyra2Z\"], [\"Ethash\"], [\"Equihash\"], [\"Scrypt\"], [\"X11\"], [\"X11\"], [\"CryptoNight\"], [\"Scrypt\"], [\"CryptoNight\"], [\"Lyra2RE\"], [\"X11\"], [\"CryptoNight-V7\"], [\"Scrypt\"], [\"X11\"], [\"Equihash\"], [\"Scrypt\"], [\"Lyra2RE\"], [\"Dagger-Hashimoto\"], [\"Scrypt\"], [\"NIST5\"], [\"Scrypt\"], [\"SHA-256\"], [\"Scrypt\"], [\"CryptoNight-V7\"], [\"Argon2d\"], [\"Blake2b\"], [\"Cloverhash\"], [\"CryptoNight\"], [\"X11\"], [\"Scrypt\"], [\"Scrypt\"], [\"X11\"], [\"X11\"], [\"CryptoNight\"], [\"Time Travel\"], [\"Scrypt\"], [\"Keccak\"], [\"X11\"], [\"SHA-256\"], [\"Scrypt\"], [\"Scrypt\"], [\"Scrypt\"], [\"Scrypt\"], [\"Scrypt\"], [\"Scrypt\"], [\"CryptoNight\"], [\"Equihash\"], [\"X11\"], [\"NeoScrypt\"], [\"Equihash\"], [\"Dagger\"], [\"Scrypt\"], [\"X11\"], [\"NeoScrypt\"], [\"Ethash\"], [\"NeoScrypt\"], [\"Multiple\"], [\"CryptoNight\"], [\"CryptoNight\"], [\"Ethash\"], [\"X11\"], [\"CryptoNight-V7\"], [\"Scrypt\"], [\"BLAKE256\"], [\"X11\"], [\"NeoScrypt\"], [\"NeoScrypt\"], [\"Scrypt\"], [\"X11\"], [\"SHA-256\"], [\"C11\"], [\"Ethash\"], [\"CryptoNight\"], [\"SkunkHash\"], [\"CryptoNight\"], [\"Scrypt\"], [\"Dagger\"], [\"Lyra2REv2\"], [\"Scrypt\"], [\"Scrypt\"], [\"X11\"], [\"Ethash\"], [\"CryptoNight\"], [\"Scrypt\"], [\"IMesh\"], [\"Equihash\"], [\"Lyra2Z\"], [\"X11\"], [\"CryptoNight\"], [\"NIST5\"], [\"Lyra2RE\"], [\"Tribus\"], [\"Lyra2Z\"], [\"CryptoNight\"], [\"CryptoNight Heavy\"], [\"CryptoNight\"], [\"Jump Consistent Hash\"], [\"CryptoNight\"], [\"X16R\"], [\"HMQ1725\"], [\"X11\"], [\"Scrypt\"], [\"CryptoNight-V7\"], [\"Cryptonight-GPU\"], [\"XEVAN\"], [\"CryptoNight Heavy\"], [\"SHA-256\"], [\"X11\"], [\"SHA-512\"], [\"X16R\"], [\"Equihash\"], [\"Lyra2Z\"], [\"SHA-256\"], [\"CryptoNight\"], [\"Blake\"], [\"Blake\"], [\"Exosis\"], [\"Scrypt\"], [\"Equihash\"], [\"Equihash\"], [\"QuBit\"], [\"SHA-256\"], [\"X13\"], [\"SHA-256\"], [\"Scrypt\"], [\"NeoScrypt\"], [\"Blake\"], [\"Scrypt\"], [\"SHA-256\"], [\"Scrypt\"], [\"Groestl\"], [\"Scrypt\"], [\"Scrypt\"], [\"Multiple\"], [\"Equihash+Scrypt\"], [\"Ethash\"], [\"CryptoNight\"], [\"Equihash\"]], \"hovertemplate\": \"<b>%{hovertext}</b><br><br>Class=%{marker.color}<br>PC 1=%{x}<br>PC 2=%{y}<br>PC 3=%{z}<br>Algorithm=%{customdata[0]}<extra></extra>\", \"hovertext\": [\"Bitcoin\", \"Ethereum\", \"Litecoin\", \"Monero\", \"Ethereum Classic\", \"ZCash\", \"DigiByte\", \"ProsperCoin\", \"Spreadcoin\", \"Argentum\", \"MyriadCoin\", \"MoonCoin\", \"ZetaCoin\", \"SexCoin\", \"Quatloo\", \"QuarkCoin\", \"Riecoin\", \"Digitalcoin \", \"Catcoin\", \"CannaCoin\", \"CryptCoin\", \"Verge\", \"DevCoin\", \"EarthCoin\", \"E-Gulden\", \"Einsteinium\", \"Emerald\", \"Franko\", \"FeatherCoin\", \"GrandCoin\", \"GlobalCoin\", \"GoldCoin\", \"Infinite Coin\", \"IXcoin\", \"KrugerCoin\", \"LuckyCoin\", \"Litebar \", \"MegaCoin\", \"MediterraneanCoin\", \"MinCoin\", \"NobleCoin\", \"Namecoin\", \"NyanCoin\", \"RonPaulCoin\", \"StableCoin\", \"SmartCoin\", \"SysCoin\", \"TigerCoin\", \"TerraCoin\", \"UnbreakableCoin\", \"Unobtanium\", \"UroCoin\", \"ViaCoin\", \"Vertcoin\", \"WorldCoin\", \"JouleCoin\", \"ByteCoin\", \"DigitalNote \", \"MonaCoin\", \"Gulden\", \"PesetaCoin\", \"Wild Beast Coin\", \"Flo\", \"ArtByte\", \"Folding Coin\", \"Unitus\", \"CypherPunkCoin\", \"OmniCron\", \"GreenCoin\", \"Cryptonite\", \"MasterCoin\", \"SoonCoin\", \"1Credit\", \"MarsCoin \", \"Crypto\", \"Anarchists Prime\", \"BowsCoin\", \"Song Coin\", \"BitZeny\", \"Expanse\", \"Siacoin\", \"MindCoin\", \"I0coin\", \"Revolution VR\", \"HOdlcoin\", \"Gamecredits\", \"CarpeDiemCoin\", \"Adzcoin\", \"SoilCoin\", \"YoCoin\", \"SibCoin\", \"Francs\", \"BolivarCoin\", \"Omni\", \"PizzaCoin\", \"Komodo\", \"Karbo\", \"ZayedCoin\", \"Circuits of Value\", \"DopeCoin\", \"DollarCoin\", \"Shilling\", \"ZCoin\", \"Elementrem\", \"ZClassic\", \"KiloCoin\", \"ArtexCoin\", \"Kurrent\", \"Cannabis Industry Coin\", \"OsmiumCoin\", \"Bikercoins\", \"HexxCoin\", \"PacCoin\", \"Citadel\", \"BeaverCoin\", \"VaultCoin\", \"Zero\", \"Canada eCoin\", \"Zoin\", \"DubaiCoin\", \"EB3coin\", \"Coinonat\", \"BenjiRolls\", \"ILCoin\", \"EquiTrader\", \"Quantum Resistant Ledger\", \"Dynamic\", \"Nano\", \"ChanCoin\", \"Dinastycoin\", \"DigitalPrice\", \"Unify\", \"SocialCoin\", \"ArcticCoin\", \"DAS\", \"LeviarCoin\", \"Bitcore\", \"gCn Coin\", \"SmartCash\", \"Onix\", \"Bitcoin Cash\", \"Sojourn Coin\", \"NewYorkCoin\", \"FrazCoin\", \"Kronecoin\", \"AdCoin\", \"Linx\", \"Sumokoin\", \"BitcoinZ\", \"Elements\", \"VIVO Coin\", \"Bitcoin Gold\", \"Pirl\", \"eBoost\", \"Pura\", \"Innova\", \"Ellaism\", \"GoByte\", \"SHIELD\", \"UltraNote\", \"BitCoal\", \"DaxxCoin\", \"AC3\", \"Lethean\", \"PopularCoin\", \"Photon\", \"Sucre\", \"SparksPay\", \"GunCoin\", \"IrishCoin\", \"Pioneer Coin\", \"UnitedBitcoin\", \"Interzone\", \"1717 Masonic Commemorative Token\", \"TurtleCoin\", \"MUNcoin\", \"Niobio Cash\", \"ShareChain\", \"Travelflex\", \"KREDS\", \"BitFlip\", \"LottoCoin\", \"Crypto Improvement Fund\", \"Callisto Network\", \"BitTube\", \"Poseidon\", \"Aidos Kuneen\", \"Bitrolium\", \"Alpenschillling\", \"FuturoCoin\", \"Monero Classic\", \"Jumpcoin\", \"Infinex\", \"KEYCO\", \"GINcoin\", \"PlatinCoin\", \"Loki\", \"Newton Coin\", \"MassGrid\", \"PluraCoin\", \"Motion\", \"PlusOneCoin\", \"Axe\", \"HexCoin\", \"Webchain\", \"Ryo\", \"Urals Coin\", \"Qwertycoin\", \"Project Pai\", \"Azart\", \"Kcash\", \"Xchange\", \"CrypticCoin\", \"Actinium\", \"Bitcoin SV\", \"FREDEnergy\", \"Universal Molecule\", \"Lithium\", \"Exosis\", \"Block-Logic\", \"Beam\", \"Bithereum\", \"SLICE\", \"BLAST\", \"Bitcoin Rhodium\", \"GlobalToken\", \"SolarCoin\", \"UFO Coin\", \"BlakeCoin\", \"Crypto Escudo\", \"Crown Coin\", \"SmileyCoin\", \"Groestlcoin\", \"Bata\", \"Pakcoin\", \"JoinCoin\", \"Vollar\", \"Reality Clash\", \"Beldex\", \"Horizen\"], \"legendgroup\": \"0\", \"marker\": {\"color\": [0, 0, 0, 0, 0, 0, 0, 0, 0, 0, 0, 0, 0, 0, 0, 0, 0, 0, 0, 0, 0, 0, 0, 0, 0, 0, 0, 0, 0, 0, 0, 0, 0, 0, 0, 0, 0, 0, 0, 0, 0, 0, 0, 0, 0, 0, 0, 0, 0, 0, 0, 0, 0, 0, 0, 0, 0, 0, 0, 0, 0, 0, 0, 0, 0, 0, 0, 0, 0, 0, 0, 0, 0, 0, 0, 0, 0, 0, 0, 0, 0, 0, 0, 0, 0, 0, 0, 0, 0, 0, 0, 0, 0, 0, 0, 0, 0, 0, 0, 0, 0, 0, 0, 0, 0, 0, 0, 0, 0, 0, 0, 0, 0, 0, 0, 0, 0, 0, 0, 0, 0, 0, 0, 0, 0, 0, 0, 0, 0, 0, 0, 0, 0, 0, 0, 0, 0, 0, 0, 0, 0, 0, 0, 0, 0, 0, 0, 0, 0, 0, 0, 0, 0, 0, 0, 0, 0, 0, 0, 0, 0, 0, 0, 0, 0, 0, 0, 0, 0, 0, 0, 0, 0, 0, 0, 0, 0, 0, 0, 0, 0, 0, 0, 0, 0, 0, 0, 0, 0, 0, 0, 0, 0, 0, 0, 0, 0, 0, 0, 0, 0, 0, 0, 0, 0, 0, 0, 0, 0, 0, 0, 0, 0, 0, 0, 0, 0, 0, 0, 0, 0, 0, 0, 0, 0, 0, 0, 0, 0, 0, 0, 0, 0, 0, 0, 0, 0, 0, 0, 0], \"coloraxis\": \"coloraxis\", \"symbol\": \"diamond\"}, \"mode\": \"markers\", \"name\": \"0\", \"scene\": \"scene\", \"showlegend\": true, \"type\": \"scatter3d\", \"x\": [-1.2498955220402972, -1.9631103024968803, -1.0892371104808098, -2.184610017072522, -1.9631103024968828, -1.860097861261667, -1.7798312042973534, -1.089237110480808, -0.8561880445210142, -1.089237110480808, -1.7798312042973536, -1.089237110480808, -1.249895522040293, -1.089237110480808, -1.089237110480808, -0.5175962801660954, -1.1234010966509016, -1.089237110480808, -1.089237110480808, -1.089237110480808, -0.8561880445210142, -1.7798312042973536, -1.249895522040293, -1.089237110480808, -1.089237110480808, -1.089237110480808, -1.089237110480808, -1.089237110480808, -1.610195122997883, -1.089237110480808, -1.089237110480808, -1.089237110480808, -1.089237110480808, -1.249895522040293, -1.089237110480808, -1.089237110480808, -1.089237110480808, -1.089237110480808, -2.2114488875633875, -1.089237110480808, -1.089237110480808, -1.249895522040293, -1.089237110480808, -1.089237110480808, -1.089237110480808, -1.089237110480808, -1.249895522040293, -1.249895522040293, -1.249895522040293, -1.249895522040293, -1.249895522040293, -0.8561880445210142, -1.089237110480808, -1.17762804456045, -1.089237110480808, -1.249895522040293, -2.2137532640675186, -2.2137532640675186, -1.089237110480808, -1.089237110480808, -1.089237110480808, -1.089237110480808, -1.089237110480808, -1.089237110480808, -2.0202201554858195, -1.7798312042973536, -1.48026529327569, -1.089237110480808, -1.089237110480808, -2.068218437291675, -1.089237110480808, -1.249895522040293, -1.089237110480808, -0.8561880445210142, -2.1770676549718937, -1.249895522040293, -0.8561880445210142, -1.089237110480808, -1.089237110480808, -1.9631103024968823, -2.132215238484672, -0.8561880445210142, -1.249895522040293, -1.089237110480808, -2.1600488003365754, -1.089237110480808, -1.249895522040293, -0.8561880445210142, -2.1305767325169302, -1.089237110480808, -2.104070982421433, -1.089237110480808, -0.8561880445210142, -1.089237110480808, -0.8561880445210142, -0.880874614882037, -2.2137532640675186, -1.249895522040293, -1.7798312042973536, -1.089237110480808, -1.249895522040293, -1.089237110480808, -2.1514530729662424, -1.9631103024968823, -1.860097861261667, -1.089237110480808, -0.8561880445210142, -0.8561880445210142, -2.2137532640675186, -1.089237110480808, -2.2137532640675186, -2.1770676549718937, -0.8561880445210142, -2.1846100170725196, -1.089237110480808, -0.8561880445210142, -1.860097861261667, -1.089237110480808, -2.1770676549718937, -2.1041681407430115, -1.089237110480808, -0.5956274449191843, -1.089237110480808, -1.249895522040293, -1.089237110480808, -2.1846100170725196, -2.1957809073135954, -2.132215238484672, -2.175705747825732, -2.2137532640675186, -0.8561880445210142, -1.089237110480808, -1.089237110480808, -0.8561880445210142, -0.8561880445210142, -2.2137532640675186, -2.176540302029195, -1.089237110480808, -1.0498508903073038, -0.8561880445210142, -1.249895522040293, -1.089237110480808, -1.089237110480808, -1.089237110480808, -1.089237110480808, -1.089237110480808, -1.089237110480808, -2.2137532640675186, -1.860097861261667, -0.8561880445210142, -1.610195122997883, -1.860097861261667, -2.1305767325169302, -1.089237110480808, -0.8561880445210142, -1.610195122997883, -1.9631103024968823, -1.610195122997883, -1.7798312042973536, -2.2137532640675186, -2.2137532640675186, -1.9631103024968823, -0.8561880445210142, -2.1846100170725196, -1.089237110480808, -1.1394944857928644, -0.8561880445210142, -1.610195122997883, -1.610195122997883, -1.089237110480808, -0.8561880445210142, -1.249895522040293, -1.160640265963836, -0.15173336403500298, -2.2137532640675186, -2.103429946089629, -2.2137532640675186, -1.089237110480808, -2.1305767325169302, -1.17762804456045, -1.089237110480808, -1.089237110480808, -0.8561880445210142, -1.9631103024968823, -2.2137532640675186, -1.089237110480808, -2.3022453237505056, -1.860097861261667, -2.1514530729662424, -0.8561880445210142, -2.2137532640675186, -0.5956274449191843, -2.1770676549718937, -2.1514493469841462, -2.1514530729662424, -2.2137532640675186, -2.1350436787238976, -2.2137532640675186, -2.125924367412545, -2.2137532640675186, -1.2005116845690256, -2.150713795734966, -0.8561880445210142, -1.089237110480808, -2.1846100170725196, -2.1856632831802814, -0.8794803409556671, -2.1350436787238976, -1.249895522040293, -0.8561880445210142, -0.6505399670433968, -1.2005116845690256, -1.860097861261667, -2.1514530729662424, -1.249895522040293, -2.2137532640675186, -2.0963551571650823, -2.0963551571650823, -2.1293821050204107, -1.089237110480808, -1.860097861261667, -1.860097861261667, -1.48026529327569, -1.249895522040293, -0.3328535155532496, -1.249895522040293, -1.089237110480808, -1.610195122997883, -2.0963551571650823, -1.089237110480808, -1.249895522040293, -1.089237110480808, -1.1234010966509016, -1.089237110480808, -1.089237110480808, -1.7798312042973536, -2.362662380910041, -1.9631103024968823, -2.2137532640675186, -1.860097861261667], \"y\": [0.24576792160388433, 0.4528699145003247, -0.012294867441664813, 0.4647644887651707, 0.45286991450032466, 0.5037010239724808, 0.4257622486549457, -0.01229486744165743, 0.04671329731689293, -0.01229486744165743, 0.4257622486549456, -0.01229486744165743, 0.24576792160389777, -0.01229486744165743, -0.01229486744165743, 0.046734263100955846, 0.1763487190354213, -0.01229486744165743, -0.01229486744165743, -0.01229486744165743, 0.04671329731689293, 0.4257622486549456, 0.24576792160389777, -0.01229486744165743, -0.01229486744165743, -0.01229486744165743, -0.01229486744165743, -0.01229486744165743, 0.26255148814562657, -0.01229486744165743, -0.01229486744165743, -0.01229486744165743, -0.01229486744165743, 0.24576792160389777, -0.01229486744165743, -0.01229486744165743, -0.01229486744165743, -0.01229486744165743, 0.4903039757289083, -0.01229486744165743, -0.01229486744165743, 0.24576792160389777, -0.01229486744165743, -0.01229486744165743, -0.01229486744165743, -0.01229486744165743, 0.24576792160389777, 0.24576792160389777, 0.24576792160389777, 0.24576792160389777, 0.24576792160389777, 0.04671329731689293, -0.01229486744165743, 0.2111627252086292, -0.01229486744165743, 0.24576792160389777, 0.51439772078468, 0.51439772078468, -0.01229486744165743, -0.01229486744165743, -0.01229486744165743, -0.01229486744165743, -0.01229486744165743, -0.01229486744165743, 0.5516759871847656, 0.4257622486549456, 0.22163684737155645, -0.01229486744165743, -0.01229486744165743, 0.45781073934182176, -0.01229486744165743, 0.24576792160389777, -0.01229486744165743, 0.04671329731689293, 0.4691790347719106, 0.24576792160389777, 0.04671329731689293, -0.01229486744165743, -0.01229486744165743, 0.45286991450032354, 0.4858776556132251, 0.04671329731689293, 0.24576792160389777, -0.01229486744165743, 0.4663755163687923, -0.01229486744165743, 0.24576792160389777, 0.04671329731689293, 0.49670229434483615, -0.01229486744165743, 0.5488003043542967, -0.01229486744165743, 0.04671329731689293, -0.01229486744165743, 0.04671329731689293, 0.6623534685329798, 0.51439772078468, 0.24576792160389777, 0.4257622486549456, -0.01229486744165743, 0.24576792160389777, -0.01229486744165743, 0.5604260620779631, 0.45286991450032354, 0.5037010239724806, -0.01229486744165743, 0.04671329731689293, 0.04671329731689293, 0.51439772078468, -0.01229486744165743, 0.51439772078468, 0.4691790347719106, 0.04671329731689293, 0.4647644887651728, -0.01229486744165743, 0.04671329731689293, 0.5037010239724806, -0.01229486744165743, 0.4691790347719106, 0.4962503149949865, -0.01229486744165743, -0.00878142280525759, -0.01229486744165743, 0.24576792160389777, -0.01229486744165743, 0.4647644887651728, 0.5530605945925268, 0.4858776556132251, 0.341982765517881, 0.51439772078468, 0.04671329731689293, -0.01229486744165743, -0.01229486744165743, 0.04671329731689293, 0.04671329731689293, 0.51439772078468, 0.5295127041042613, -0.01229486744165743, 0.1442307494810259, 0.04671329731689293, 0.24576792160389777, -0.01229486744165743, -0.01229486744165743, -0.01229486744165743, -0.01229486744165743, -0.01229486744165743, -0.01229486744165743, 0.51439772078468, 0.5037010239724806, 0.04671329731689293, 0.26255148814562657, 0.5037010239724806, 0.49670229434483615, -0.01229486744165743, 0.04671329731689293, 0.26255148814562657, 0.45286991450032354, 0.26255148814562657, 0.4257622486549456, 0.51439772078468, 0.51439772078468, 0.45286991450032354, 0.04671329731689293, 0.4647644887651728, -0.01229486744165743, 0.12368417956368472, 0.04671329731689293, 0.26255148814562657, 0.26255148814562657, -0.01229486744165743, 0.04671329731689293, 0.24576792160389777, 0.0760346350608502, 0.1363961345927308, 0.51439772078468, 0.452608196879722, 0.51439772078468, -0.01229486744165743, 0.49670229434483615, 0.2111627252086292, -0.01229486744165743, -0.01229486744165743, 0.04671329731689293, 0.45286991450032354, 0.51439772078468, -0.01229486744165743, 0.4464927824652459, 0.5037010239724806, 0.5604260620779631, 0.04671329731689293, 0.51439772078468, -0.00878142280525759, 0.4691790347719106, 0.5633515478609395, 0.5604260620779631, 0.51439772078468, 0.48460486587001533, 0.51439772078468, 0.527226008346734, 0.51439772078468, 0.23995146754300709, 0.5045922545901549, 0.04671329731689293, -0.01229486744165743, 0.4647644887651728, 0.4046210666988372, 0.14072211874170862, 0.48460486587001533, 0.24576792160389777, 0.04671329731689293, 0.07302733177467624, 0.23995146754300709, 0.5037010239724806, 0.5604260620779631, 0.24576792160389777, 0.51439772078468, 0.5215000097885701, 0.5215000097885701, 0.45213964748030244, -0.01229486744165743, 0.5037010239724806, 0.5037010239724806, 0.22163684737155645, 0.24576792160389777, -0.08514590331092099, 0.24576792160389777, -0.01229486744165743, 0.26255148814562657, 0.5215000097885701, -0.01229486744165743, 0.24576792160389777, -0.01229486744165743, 0.1763487190354213, -0.01229486744165743, -0.01229486744165743, 0.4257622486549456, 0.44997030088913015, 0.45286991450032354, 0.51439772078468, 0.5037010239724806], \"z\": [0.01307581957372365, -0.01323752364741619, 0.0015414133885091313, -0.011659137432434612, -0.013237523647417797, -0.00035745262883392814, -0.0036303923270936686, 0.0015414133885155567, 0.006095435503935642, 0.0015414133885155567, -0.00363039232709369, 0.0015414133885155567, 0.013075819573733691, 0.0015414133885155567, 0.0015414133885155567, -0.009537162480721385, 0.03658629603690738, 0.0015414133885155567, 0.0015414133885155567, 0.0015414133885155567, 0.006095435503935642, -0.00363039232709369, 0.013075819573733691, 0.0015414133885155567, 0.0015414133885155567, 0.0015414133885155567, 0.0015414133885155567, 0.0015414133885155567, -0.0010670348634261707, 0.0015414133885155567, 0.0015414133885155567, 0.0015414133885155567, 0.0015414133885155567, 0.013075819573733691, 0.0015414133885155567, 0.0015414133885155567, 0.0015414133885155567, 0.0015414133885155567, 0.019026645653930474, 0.0015414133885155567, 0.0015414133885155567, 0.013075819573733691, 0.0015414133885155567, 0.0015414133885155567, 0.0015414133885155567, 0.0015414133885155567, 0.013075819573733691, 0.013075819573733691, 0.013075819573733691, 0.013075819573733691, 0.013075819573733691, 0.006095435503935642, 0.0015414133885155567, -0.013636461433526254, 0.0015414133885155567, 0.013075819573733691, 0.008107060377090275, 0.008107060377090275, 0.0015414133885155567, 0.0015414133885155567, 0.0015414133885155567, 0.0015414133885155567, 0.0015414133885155567, 0.0015414133885155567, 0.0662449840746367, -0.00363039232709369, 0.0385179793621861, 0.0015414133885155567, 0.0015414133885155567, -0.060233487560027374, 0.0015414133885155567, 0.013075819573733691, 0.0015414133885155567, 0.006095435503935642, 0.013055070480724315, 0.013075819573733691, 0.006095435503935642, 0.0015414133885155567, 0.0015414133885155567, -0.013237523647417641, -0.04679942533803547, 0.006095435503935642, 0.013075819573733691, 0.0015414133885155567, -0.030604744890280238, 0.0015414133885155567, 0.013075819573733691, 0.006095435503935642, -0.012778685623912005, 0.0015414133885155567, -0.05805233228679761, 0.0015414133885155567, 0.006095435503935642, 0.0015414133885155567, 0.006095435503935642, -0.01373441657207432, 0.008107060377090275, 0.013075819573733691, -0.00363039232709369, 0.0015414133885155567, 0.013075819573733691, 0.0015414133885155567, 0.00997237356199308, -0.013237523647417641, -0.00035745262883365823, 0.0015414133885155567, 0.006095435503935642, 0.006095435503935642, 0.008107060377090275, 0.0015414133885155567, 0.008107060377090275, 0.013055070480724315, 0.006095435503935642, -0.011659137432436822, 0.0015414133885155567, 0.006095435503935642, -0.00035745262883365823, 0.0015414133885155567, 0.013055070480724315, 0.040436423813203476, 0.0015414133885155567, -0.029942906654032604, 0.0015414133885155567, 0.013075819573733691, 0.0015414133885155567, -0.011659137432436822, 0.0612229781652993, -0.04679942533803547, 0.045548801514969386, 0.008107060377090275, 0.006095435503935642, 0.0015414133885155567, 0.0015414133885155567, 0.006095435503935642, 0.006095435503935642, 0.008107060377090275, 0.04821929330036579, 0.0015414133885155567, -0.0007843841548006724, 0.006095435503935642, 0.013075819573733691, 0.0015414133885155567, 0.0015414133885155567, 0.0015414133885155567, 0.0015414133885155567, 0.0015414133885155567, 0.0015414133885155567, 0.008107060377090275, -0.00035745262883365823, 0.006095435503935642, -0.0010670348634261707, -0.00035745262883365823, -0.012778685623912005, 0.0015414133885155567, 0.006095435503935642, -0.0010670348634261707, -0.013237523647417641, -0.0010670348634261707, -0.00363039232709369, 0.008107060377090275, 0.008107060377090275, -0.013237523647417641, 0.006095435503935642, -0.011659137432436822, 0.0015414133885155567, -0.08374723175527593, 0.006095435503935642, -0.0010670348634261707, -0.0010670348634261707, 0.0015414133885155567, 0.006095435503935642, 0.013075819573733691, -0.02294803256343153, -0.014952482880815462, 0.008107060377090275, -0.027959937500408732, 0.008107060377090275, 0.0015414133885155567, -0.012778685623912005, -0.013636461433526254, 0.0015414133885155567, 0.0015414133885155567, 0.006095435503935642, -0.013237523647417641, 0.008107060377090275, 0.0015414133885155567, -0.006785587839861572, -0.00035745262883365823, 0.00997237356199308, 0.006095435503935642, 0.008107060377090275, -0.029942906654032604, 0.013055070480724315, 0.0397940589594025, 0.00997237356199308, 0.008107060377090275, -0.031539499990476866, 0.008107060377090275, -0.0002594146655104673, 0.008107060377090275, -0.0365870433059311, -0.10895816052509494, 0.006095435503935642, 0.0015414133885155567, -0.011659137432436822, -0.023030594073845917, 0.011498746655080088, -0.031539499990476866, 0.013075819573733691, 0.006095435503935642, 0.028995762714217607, -0.0365870433059311, -0.00035745262883365823, 0.00997237356199308, 0.013075819573733691, 0.008107060377090275, 0.007145696045135479, 0.007145696045135479, -0.09306786435818859, 0.0015414133885155567, -0.00035745262883365823, -0.00035745262883365823, 0.0385179793621861, 0.013075819573733691, 0.003769053050684093, 0.013075819573733691, 0.0015414133885155567, -0.0010670348634261707, 0.007145696045135479, 0.0015414133885155567, 0.013075819573733691, 0.0015414133885155567, 0.03658629603690738, 0.0015414133885155567, 0.0015414133885155567, -0.00363039232709369, 0.0038153870360093755, -0.013237523647417641, 0.008107060377090275, -0.00035745262883365823]}, {\"customdata\": [[\"VeChainThor Authority\"], [\"Proof-of-Authority\"], [\"SHA3-256\"], [\"Leased POS\"]], \"hovertemplate\": \"<b>%{hovertext}</b><br><br>Class=%{marker.color}<br>PC 1=%{x}<br>PC 2=%{y}<br>PC 3=%{z}<br>Algorithm=%{customdata[0]}<extra></extra>\", \"hovertext\": [\"Vechain\", \"Poa Network\", \"Fiii\", \"Waves\"], \"legendgroup\": \"3\", \"marker\": {\"color\": [3, 3, 3, 3], \"coloraxis\": \"coloraxis\", \"symbol\": \"square\"}, \"mode\": \"markers\", \"name\": \"3\", \"scene\": \"scene\", \"showlegend\": true, \"type\": \"scatter3d\", \"x\": [2.992252516054936, 0.8037080787047108, -1.0931432807771047, -0.9328597225162986], \"y\": [12.68294648711203, 10.104096179214343, 10.443352118530568, 8.515169927873242], \"z\": [-3.0020732566530994, -7.447364852653597, -8.967972955719997, -2.0132601189486334]}, {\"customdata\": [[\"Proof-of-BibleHash\"]], \"hovertemplate\": \"<b>%{hovertext}</b><br><br>Class=%{marker.color}<br>PC 1=%{x}<br>PC 2=%{y}<br>PC 3=%{z}<br>Algorithm=%{customdata[0]}<extra></extra>\", \"hovertext\": [\"BiblePay\"], \"legendgroup\": \"4\", \"marker\": {\"color\": [4], \"coloraxis\": \"coloraxis\", \"symbol\": \"x\"}, \"mode\": \"markers\", \"name\": \"4\", \"scene\": \"scene\", \"showlegend\": true, \"type\": \"scatter3d\", \"x\": [9.347890190501978], \"y\": [14.836953485873119], \"z\": [-14.304683428714386]}, {\"customdata\": [[\"SHA-256 + Hive\"], [\"ECC 256K1\"]], \"hovertemplate\": \"<b>%{hovertext}</b><br><br>Class=%{marker.color}<br>PC 1=%{x}<br>PC 2=%{y}<br>PC 3=%{z}<br>Algorithm=%{customdata[0]}<extra></extra>\", \"hovertext\": [\"LitecoinCash\", \"Acute Angle Cloud\"], \"legendgroup\": \"2\", \"marker\": {\"color\": [2, 2], \"coloraxis\": \"coloraxis\", \"symbol\": \"cross\"}, \"mode\": \"markers\", \"name\": \"2\", \"scene\": \"scene\", \"showlegend\": true, \"type\": \"scatter3d\", \"x\": [4.97448878777603, 1.6414442160021985], \"y\": [12.578331364986878, 11.248908497277233], \"z\": [23.80355989188902, 12.146806999241905]}],                        {\"coloraxis\": {\"colorbar\": {\"title\": {\"text\": \"Class\"}}, \"colorscale\": [[0.0, \"#0d0887\"], [0.1111111111111111, \"#46039f\"], [0.2222222222222222, \"#7201a8\"], [0.3333333333333333, \"#9c179e\"], [0.4444444444444444, \"#bd3786\"], [0.5555555555555556, \"#d8576b\"], [0.6666666666666666, \"#ed7953\"], [0.7777777777777778, \"#fb9f3a\"], [0.8888888888888888, \"#fdca26\"], [1.0, \"#f0f921\"]]}, \"legend\": {\"title\": {\"text\": \"Class\"}, \"tracegroupgap\": 0, \"x\": 0, \"y\": 1}, \"margin\": {\"t\": 60}, \"scene\": {\"domain\": {\"x\": [0.0, 1.0], \"y\": [0.0, 1.0]}, \"xaxis\": {\"title\": {\"text\": \"PC 1\"}}, \"yaxis\": {\"title\": {\"text\": \"PC 2\"}}, \"zaxis\": {\"title\": {\"text\": \"PC 3\"}}}, \"template\": {\"data\": {\"bar\": [{\"error_x\": {\"color\": \"#2a3f5f\"}, \"error_y\": {\"color\": \"#2a3f5f\"}, \"marker\": {\"line\": {\"color\": \"#E5ECF6\", \"width\": 0.5}}, \"type\": \"bar\"}], \"barpolar\": [{\"marker\": {\"line\": {\"color\": \"#E5ECF6\", \"width\": 0.5}}, \"type\": \"barpolar\"}], \"carpet\": [{\"aaxis\": {\"endlinecolor\": \"#2a3f5f\", \"gridcolor\": \"white\", \"linecolor\": \"white\", \"minorgridcolor\": \"white\", \"startlinecolor\": \"#2a3f5f\"}, \"baxis\": {\"endlinecolor\": \"#2a3f5f\", \"gridcolor\": \"white\", \"linecolor\": \"white\", \"minorgridcolor\": \"white\", \"startlinecolor\": \"#2a3f5f\"}, \"type\": \"carpet\"}], \"choropleth\": [{\"colorbar\": {\"outlinewidth\": 0, \"ticks\": \"\"}, \"type\": \"choropleth\"}], \"contour\": [{\"colorbar\": {\"outlinewidth\": 0, \"ticks\": \"\"}, \"colorscale\": [[0.0, \"#0d0887\"], [0.1111111111111111, \"#46039f\"], [0.2222222222222222, \"#7201a8\"], [0.3333333333333333, \"#9c179e\"], [0.4444444444444444, \"#bd3786\"], [0.5555555555555556, \"#d8576b\"], [0.6666666666666666, \"#ed7953\"], [0.7777777777777778, \"#fb9f3a\"], [0.8888888888888888, \"#fdca26\"], [1.0, \"#f0f921\"]], \"type\": \"contour\"}], \"contourcarpet\": [{\"colorbar\": {\"outlinewidth\": 0, \"ticks\": \"\"}, \"type\": \"contourcarpet\"}], \"heatmap\": [{\"colorbar\": {\"outlinewidth\": 0, \"ticks\": \"\"}, \"colorscale\": [[0.0, \"#0d0887\"], [0.1111111111111111, \"#46039f\"], [0.2222222222222222, \"#7201a8\"], [0.3333333333333333, \"#9c179e\"], [0.4444444444444444, \"#bd3786\"], [0.5555555555555556, \"#d8576b\"], [0.6666666666666666, \"#ed7953\"], [0.7777777777777778, \"#fb9f3a\"], [0.8888888888888888, \"#fdca26\"], [1.0, \"#f0f921\"]], \"type\": \"heatmap\"}], \"heatmapgl\": [{\"colorbar\": {\"outlinewidth\": 0, \"ticks\": \"\"}, \"colorscale\": [[0.0, \"#0d0887\"], [0.1111111111111111, \"#46039f\"], [0.2222222222222222, \"#7201a8\"], [0.3333333333333333, \"#9c179e\"], [0.4444444444444444, \"#bd3786\"], [0.5555555555555556, \"#d8576b\"], [0.6666666666666666, \"#ed7953\"], [0.7777777777777778, \"#fb9f3a\"], [0.8888888888888888, \"#fdca26\"], [1.0, \"#f0f921\"]], \"type\": \"heatmapgl\"}], \"histogram\": [{\"marker\": {\"colorbar\": {\"outlinewidth\": 0, \"ticks\": \"\"}}, \"type\": \"histogram\"}], \"histogram2d\": [{\"colorbar\": {\"outlinewidth\": 0, \"ticks\": \"\"}, \"colorscale\": [[0.0, \"#0d0887\"], [0.1111111111111111, \"#46039f\"], [0.2222222222222222, \"#7201a8\"], [0.3333333333333333, \"#9c179e\"], [0.4444444444444444, \"#bd3786\"], [0.5555555555555556, \"#d8576b\"], [0.6666666666666666, \"#ed7953\"], [0.7777777777777778, \"#fb9f3a\"], [0.8888888888888888, \"#fdca26\"], [1.0, \"#f0f921\"]], \"type\": \"histogram2d\"}], \"histogram2dcontour\": [{\"colorbar\": {\"outlinewidth\": 0, \"ticks\": \"\"}, \"colorscale\": [[0.0, \"#0d0887\"], [0.1111111111111111, \"#46039f\"], [0.2222222222222222, \"#7201a8\"], [0.3333333333333333, \"#9c179e\"], [0.4444444444444444, \"#bd3786\"], [0.5555555555555556, \"#d8576b\"], [0.6666666666666666, \"#ed7953\"], [0.7777777777777778, \"#fb9f3a\"], [0.8888888888888888, \"#fdca26\"], [1.0, \"#f0f921\"]], \"type\": \"histogram2dcontour\"}], \"mesh3d\": [{\"colorbar\": {\"outlinewidth\": 0, \"ticks\": \"\"}, \"type\": \"mesh3d\"}], \"parcoords\": [{\"line\": {\"colorbar\": {\"outlinewidth\": 0, \"ticks\": \"\"}}, \"type\": \"parcoords\"}], \"pie\": [{\"automargin\": true, \"type\": \"pie\"}], \"scatter\": [{\"marker\": {\"colorbar\": {\"outlinewidth\": 0, \"ticks\": \"\"}}, \"type\": \"scatter\"}], \"scatter3d\": [{\"line\": {\"colorbar\": {\"outlinewidth\": 0, \"ticks\": \"\"}}, \"marker\": {\"colorbar\": {\"outlinewidth\": 0, \"ticks\": \"\"}}, \"type\": \"scatter3d\"}], \"scattercarpet\": [{\"marker\": {\"colorbar\": {\"outlinewidth\": 0, \"ticks\": \"\"}}, \"type\": \"scattercarpet\"}], \"scattergeo\": [{\"marker\": {\"colorbar\": {\"outlinewidth\": 0, \"ticks\": \"\"}}, \"type\": \"scattergeo\"}], \"scattergl\": [{\"marker\": {\"colorbar\": {\"outlinewidth\": 0, \"ticks\": \"\"}}, \"type\": \"scattergl\"}], \"scattermapbox\": [{\"marker\": {\"colorbar\": {\"outlinewidth\": 0, \"ticks\": \"\"}}, \"type\": \"scattermapbox\"}], \"scatterpolar\": [{\"marker\": {\"colorbar\": {\"outlinewidth\": 0, \"ticks\": \"\"}}, \"type\": \"scatterpolar\"}], \"scatterpolargl\": [{\"marker\": {\"colorbar\": {\"outlinewidth\": 0, \"ticks\": \"\"}}, \"type\": \"scatterpolargl\"}], \"scatterternary\": [{\"marker\": {\"colorbar\": {\"outlinewidth\": 0, \"ticks\": \"\"}}, \"type\": \"scatterternary\"}], \"surface\": [{\"colorbar\": {\"outlinewidth\": 0, \"ticks\": \"\"}, \"colorscale\": [[0.0, \"#0d0887\"], [0.1111111111111111, \"#46039f\"], [0.2222222222222222, \"#7201a8\"], [0.3333333333333333, \"#9c179e\"], [0.4444444444444444, \"#bd3786\"], [0.5555555555555556, \"#d8576b\"], [0.6666666666666666, \"#ed7953\"], [0.7777777777777778, \"#fb9f3a\"], [0.8888888888888888, \"#fdca26\"], [1.0, \"#f0f921\"]], \"type\": \"surface\"}], \"table\": [{\"cells\": {\"fill\": {\"color\": \"#EBF0F8\"}, \"line\": {\"color\": \"white\"}}, \"header\": {\"fill\": {\"color\": \"#C8D4E3\"}, \"line\": {\"color\": \"white\"}}, \"type\": \"table\"}]}, \"layout\": {\"annotationdefaults\": {\"arrowcolor\": \"#2a3f5f\", \"arrowhead\": 0, \"arrowwidth\": 1}, \"coloraxis\": {\"colorbar\": {\"outlinewidth\": 0, \"ticks\": \"\"}}, \"colorscale\": {\"diverging\": [[0, \"#8e0152\"], [0.1, \"#c51b7d\"], [0.2, \"#de77ae\"], [0.3, \"#f1b6da\"], [0.4, \"#fde0ef\"], [0.5, \"#f7f7f7\"], [0.6, \"#e6f5d0\"], [0.7, \"#b8e186\"], [0.8, \"#7fbc41\"], [0.9, \"#4d9221\"], [1, \"#276419\"]], \"sequential\": [[0.0, \"#0d0887\"], [0.1111111111111111, \"#46039f\"], [0.2222222222222222, \"#7201a8\"], [0.3333333333333333, \"#9c179e\"], [0.4444444444444444, \"#bd3786\"], [0.5555555555555556, \"#d8576b\"], [0.6666666666666666, \"#ed7953\"], [0.7777777777777778, \"#fb9f3a\"], [0.8888888888888888, \"#fdca26\"], [1.0, \"#f0f921\"]], \"sequentialminus\": [[0.0, \"#0d0887\"], [0.1111111111111111, \"#46039f\"], [0.2222222222222222, \"#7201a8\"], [0.3333333333333333, \"#9c179e\"], [0.4444444444444444, \"#bd3786\"], [0.5555555555555556, \"#d8576b\"], [0.6666666666666666, \"#ed7953\"], [0.7777777777777778, \"#fb9f3a\"], [0.8888888888888888, \"#fdca26\"], [1.0, \"#f0f921\"]]}, \"colorway\": [\"#636efa\", \"#EF553B\", \"#00cc96\", \"#ab63fa\", \"#FFA15A\", \"#19d3f3\", \"#FF6692\", \"#B6E880\", \"#FF97FF\", \"#FECB52\"], \"font\": {\"color\": \"#2a3f5f\"}, \"geo\": {\"bgcolor\": \"white\", \"lakecolor\": \"white\", \"landcolor\": \"#E5ECF6\", \"showlakes\": true, \"showland\": true, \"subunitcolor\": \"white\"}, \"hoverlabel\": {\"align\": \"left\"}, \"hovermode\": \"closest\", \"mapbox\": {\"style\": \"light\"}, \"paper_bgcolor\": \"white\", \"plot_bgcolor\": \"#E5ECF6\", \"polar\": {\"angularaxis\": {\"gridcolor\": \"white\", \"linecolor\": \"white\", \"ticks\": \"\"}, \"bgcolor\": \"#E5ECF6\", \"radialaxis\": {\"gridcolor\": \"white\", \"linecolor\": \"white\", \"ticks\": \"\"}}, \"scene\": {\"xaxis\": {\"backgroundcolor\": \"#E5ECF6\", \"gridcolor\": \"white\", \"gridwidth\": 2, \"linecolor\": \"white\", \"showbackground\": true, \"ticks\": \"\", \"zerolinecolor\": \"white\"}, \"yaxis\": {\"backgroundcolor\": \"#E5ECF6\", \"gridcolor\": \"white\", \"gridwidth\": 2, \"linecolor\": \"white\", \"showbackground\": true, \"ticks\": \"\", \"zerolinecolor\": \"white\"}, \"zaxis\": {\"backgroundcolor\": \"#E5ECF6\", \"gridcolor\": \"white\", \"gridwidth\": 2, \"linecolor\": \"white\", \"showbackground\": true, \"ticks\": \"\", \"zerolinecolor\": \"white\"}}, \"shapedefaults\": {\"line\": {\"color\": \"#2a3f5f\"}}, \"ternary\": {\"aaxis\": {\"gridcolor\": \"white\", \"linecolor\": \"white\", \"ticks\": \"\"}, \"baxis\": {\"gridcolor\": \"white\", \"linecolor\": \"white\", \"ticks\": \"\"}, \"bgcolor\": \"#E5ECF6\", \"caxis\": {\"gridcolor\": \"white\", \"linecolor\": \"white\", \"ticks\": \"\"}}, \"title\": {\"x\": 0.05}, \"xaxis\": {\"automargin\": true, \"gridcolor\": \"white\", \"linecolor\": \"white\", \"ticks\": \"\", \"title\": {\"standoff\": 15}, \"zerolinecolor\": \"white\", \"zerolinewidth\": 2}, \"yaxis\": {\"automargin\": true, \"gridcolor\": \"white\", \"linecolor\": \"white\", \"ticks\": \"\", \"title\": {\"standoff\": 15}, \"zerolinecolor\": \"white\", \"zerolinewidth\": 2}}}, \"width\": 800},                        {\"responsive\": true}                    ).then(function(){\n",
       "                            \n",
       "var gd = document.getElementById('4392826e-87a8-4aa0-a799-cbd843e5de1b');\n",
       "var x = new MutationObserver(function (mutations, observer) {{\n",
       "        var display = window.getComputedStyle(gd).display;\n",
       "        if (!display || display === 'none') {{\n",
       "            console.log([gd, 'removed!']);\n",
       "            Plotly.purge(gd);\n",
       "            observer.disconnect();\n",
       "        }}\n",
       "}});\n",
       "\n",
       "// Listen for the removal of the full notebook cells\n",
       "var notebookContainer = gd.closest('#notebook-container');\n",
       "if (notebookContainer) {{\n",
       "    x.observe(notebookContainer, {childList: true});\n",
       "}}\n",
       "\n",
       "// Listen for the clearing of the current output cell\n",
       "var outputEl = gd.closest('.output');\n",
       "if (outputEl) {{\n",
       "    x.observe(outputEl, {childList: true});\n",
       "}}\n",
       "\n",
       "                        })                };                });            </script>        </div>"
      ]
     },
     "metadata": {},
     "output_type": "display_data"
    }
   ],
   "source": [
    "# Create a 3D-Scatter with the PCA data and the clusters\n",
    "fig = px.scatter_3d(\n",
    "    clustered_df,\n",
    "    x=\"PC 1\",\n",
    "    y=\"PC 2\",\n",
    "    z=\"PC 3\",\n",
    "    hover_name=\"CoinName\",\n",
    "    hover_data=[\"Algorithm\"],\n",
    "    color=\"Class\",\n",
    "    symbol=\"Class\",\n",
    "    width=800,\n",
    ")\n",
    "fig.update_layout(legend=dict(x=0, y=1))\n",
    "fig.show()\n"
   ]
  },
  {
   "cell_type": "markdown",
   "metadata": {},
   "source": [
    "#### Table of Tradable Cryptocurrencies"
   ]
  },
  {
   "cell_type": "code",
   "execution_count": 137,
   "metadata": {},
   "outputs": [
    {
     "data": {},
     "metadata": {},
     "output_type": "display_data"
    },
    {
     "data": {
      "application/vnd.holoviews_exec.v0+json": "",
      "text/html": [
       "<div id='3765'>\n",
       "\n",
       "\n",
       "\n",
       "\n",
       "\n",
       "  <div class=\"bk-root\" id=\"69f83ddd-717f-4d35-a582-f7fadc753266\" data-root-id=\"3765\"></div>\n",
       "</div>\n",
       "<script type=\"application/javascript\">(function(root) {\n",
       "  function embed_document(root) {\n",
       "  var docs_json = {\"436d3367-0662-4658-bd71-b939f76a5b50\":{\"roots\":{\"references\":[{\"attributes\":{\"source\":{\"id\":\"3767\"}},\"id\":\"3800\",\"type\":\"CDSView\"},{\"attributes\":{\"editor\":{\"id\":\"3770\"},\"field\":\"CoinName\",\"formatter\":{\"id\":\"3769\"},\"title\":\"CoinName\"},\"id\":\"3771\",\"type\":\"TableColumn\"},{\"attributes\":{\"editor\":{\"id\":\"3790\"},\"field\":\"TotalCoinsMined\",\"formatter\":{\"id\":\"3789\"},\"title\":\"TotalCoinsMined\"},\"id\":\"3791\",\"type\":\"TableColumn\"},{\"attributes\":{\"editor\":{\"id\":\"3795\"},\"field\":\"Class\",\"formatter\":{\"id\":\"3794\"},\"title\":\"Class\"},\"id\":\"3796\",\"type\":\"TableColumn\"},{\"attributes\":{\"data\":{\"Algorithm\":[\"Scrypt\",\"Scrypt\",\"X13\",\"SHA-256\",\"Ethash\",\"Scrypt\",\"X11\",\"CryptoNight-V7\",\"Ethash\",\"Equihash\",\"SHA-512\",\"Multiple\",\"SHA-256\",\"SHA-256\",\"Scrypt\",\"X15\",\"X11\",\"Scrypt\",\"Scrypt\",\"Scrypt\",\"Multiple\",\"Scrypt\",\"SHA-256\",\"Scrypt\",\"Scrypt\",\"Scrypt\",\"Quark\",\"Groestl\",\"Scrypt\",\"Scrypt\",\"Scrypt\",\"Scrypt\",\"Scrypt\",\"X11\",\"Scrypt\",\"Groestl\",\"Multiple\",\"SHA-256\",\"Scrypt\",\"Scrypt\",\"Scrypt\",\"Scrypt\",\"PoS\",\"Scrypt\",\"Scrypt\",\"NeoScrypt\",\"Scrypt\",\"Scrypt\",\"Scrypt\",\"Scrypt\",\"X11\",\"Scrypt\",\"X11\",\"SHA-256\",\"Scrypt\",\"Scrypt\",\"Scrypt\",\"SHA3\",\"Scrypt\",\"HybridScryptHash256\",\"Scrypt\",\"Scrypt\",\"SHA-256\",\"Scrypt\",\"X13\",\"Scrypt\",\"SHA-256\",\"Scrypt\",\"X13\",\"NeoScrypt\",\"Scrypt\",\"Scrypt\",\"Scrypt\",\"Scrypt\",\"Scrypt\",\"Scrypt\",\"X11\",\"X11\",\"SHA-256\",\"Multiple\",\"SHA-256\",\"PHI1612\",\"X11\",\"SHA-256\",\"SHA-256\",\"SHA-256\",\"X11\",\"Scrypt\",\"Scrypt\",\"Scrypt\",\"Scrypt\",\"Lyra2REv2\",\"Scrypt\",\"X11\",\"Multiple\",\"SHA-256\",\"X13\",\"Scrypt\",\"CryptoNight\",\"CryptoNight\",\"Shabal256\",\"Counterparty\",\"Scrypt\",\"SHA-256\",\"Groestl\",\"Scrypt\",\"Scrypt\",\"Scrypt\",\"X13\",\"Scrypt\",\"Scrypt\",\"Scrypt\",\"Scrypt\",\"X13\",\"Scrypt\",\"Stanford Folding\",\"X11\",\"Multiple\",\"QuBit\",\"Scrypt\",\"Scrypt\",\"Scrypt\",\"M7 POW\",\"Scrypt\",\"SHA-256\",\"Scrypt\",\"X11\",\"SHA3\",\"X11\",\"Lyra2RE\",\"SHA-256\",\"QUAIT\",\"X11\",\"X11\",\"Scrypt\",\"Scrypt\",\"Scrypt\",\"Ethash\",\"X13\",\"Blake2b\",\"SHA-256\",\"X15\",\"X11\",\"SHA-256\",\"BLAKE256\",\"Scrypt\",\"1GB AES Pattern Search\",\"SHA-256\",\"X11\",\"Scrypt\",\"SHA-256\",\"SHA-256\",\"NIST5\",\"Scrypt\",\"Scrypt\",\"X11\",\"Dagger\",\"Scrypt\",\"X11GOST\",\"X11\",\"Scrypt\",\"SHA-256\",\"Scrypt\",\"PoS\",\"Scrypt\",\"X11\",\"X11\",\"SHA-256\",\"SHA-256\",\"NIST5\",\"X11\",\"Scrypt\",\"POS 3.0\",\"Scrypt\",\"Scrypt\",\"Scrypt\",\"X13\",\"X11\",\"X11\",\"Equihash\",\"X11\",\"Scrypt\",\"CryptoNight\",\"SHA-256\",\"SHA-256\",\"X11\",\"Scrypt\",\"Multiple\",\"Scrypt\",\"Scrypt\",\"Scrypt\",\"SHA-256\",\"Scrypt\",\"Scrypt\",\"SHA-256D\",\"PoS\",\"Scrypt\",\"X11\",\"Lyra2Z\",\"PoS\",\"X13\",\"X14\",\"PoS\",\"SHA-256D\",\"Ethash\",\"Equihash\",\"DPoS\",\"X11\",\"Scrypt\",\"X11\",\"X13\",\"X11\",\"PoS\",\"Scrypt\",\"Scrypt\",\"X11\",\"PoS\",\"X11\",\"SHA-256\",\"Scrypt\",\"X11\",\"Scrypt\",\"Scrypt\",\"X11\",\"CryptoNight\",\"Scrypt\",\"Scrypt\",\"Scrypt\",\"Scrypt\",\"Quark\",\"QuBit\",\"Scrypt\",\"CryptoNight\",\"Lyra2RE\",\"Scrypt\",\"SHA-256\",\"X11\",\"Scrypt\",\"X11\",\"Scrypt\",\"CryptoNight-V7\",\"Scrypt\",\"Scrypt\",\"Scrypt\",\"X13\",\"X11\",\"Equihash\",\"Scrypt\",\"Scrypt\",\"Lyra2RE\",\"Scrypt\",\"Dagger-Hashimoto\",\"X11\",\"Blake2S\",\"X11\",\"Scrypt\",\"PoS\",\"X11\",\"NIST5\",\"PoS\",\"X11\",\"Scrypt\",\"Scrypt\",\"Scrypt\",\"SHA-256\",\"X11\",\"Scrypt\",\"Scrypt\",\"SHA-256\",\"PoS\",\"Scrypt\",\"X15\",\"SHA-256\",\"Scrypt\",\"POS 3.0\",\"CryptoNight-V7\",\"536\",\"Argon2d\",\"Blake2b\",\"Cloverhash\",\"CryptoNight\",\"NIST5\",\"X11\",\"NIST5\",\"Skein\",\"Scrypt\",\"X13\",\"Scrypt\",\"X11\",\"X11\",\"Scrypt\",\"CryptoNight\",\"X13\",\"Time Travel\",\"Scrypt\",\"Keccak\",\"SkunkHash v2 Raptor\",\"X11\",\"Skein\",\"SHA-256\",\"X11\",\"Scrypt\",\"VeChainThor Authority\",\"Scrypt\",\"PoS\",\"Scrypt\",\"Scrypt\",\"Scrypt\",\"Scrypt\",\"Scrypt\",\"Scrypt\",\"Scrypt\",\"CryptoNight\",\"SHA-512\",\"Ouroboros\",\"X11\",\"Equihash\",\"NeoScrypt\",\"X11\",\"Scrypt\",\"NeoScrypt\",\"Lyra2REv2\",\"Equihash\",\"Scrypt\",\"SHA-256\",\"NIST5\",\"PHI1612\",\"Dagger\",\"Scrypt\",\"Quark\",\"Scrypt\",\"POS 2.0\",\"Scrypt\",\"SHA-256\",\"X11\",\"NeoScrypt\",\"Ethash\",\"NeoScrypt\",\"X11\",\"DPoS\",\"NIST5\",\"X13\",\"Multiple\",\"Scrypt\",\"CryptoNight\",\"CryptoNight\",\"Ethash\",\"NIST5\",\"Quark\",\"X11\",\"CryptoNight-V7\",\"Scrypt\",\"Scrypt\",\"Scrypt\",\"X11\",\"BLAKE256\",\"X11\",\"NeoScrypt\",\"Quark\",\"NeoScrypt\",\"Scrypt\",\"Scrypt\",\"Scrypt\",\"X11\",\"X11\",\"SHA-256\",\"C11\",\"POS 3.0\",\"Ethash\",\"Scrypt\",\"CryptoNight\",\"SkunkHash\",\"Scrypt\",\"CryptoNight\",\"Scrypt\",\"Dagger\",\"Lyra2REv2\",\"X13\",\"Proof-of-BibleHash\",\"SHA-256 + Hive\",\"Scrypt\",\"Scrypt\",\"X11\",\"C11\",\"Proof-of-Authority\",\"X11\",\"XEVAN\",\"Scrypt\",\"VBFT\",\"Ethash\",\"CryptoNight\",\"Scrypt\",\"IMesh\",\"NIST5\",\"Scrypt\",\"Scrypt\",\"Equihash\",\"Scrypt\",\"Lyra2Z\",\"Green Protocol\",\"PoS\",\"Scrypt\",\"Semux BFT consensus\",\"X11\",\"Quark\",\"PoS\",\"CryptoNight\",\"X16R\",\"Scrypt\",\"NIST5\",\"Lyra2RE\",\"XEVAN\",\"Tribus\",\"Scrypt\",\"Lyra2Z\",\"CryptoNight\",\"CryptoNight Heavy\",\"CryptoNight\",\"Scrypt\",\"Scrypt\",\"Jump Consistent Hash\",\"SHA-256D\",\"CryptoNight\",\"Scrypt\",\"X15\",\"Scrypt\",\"Quark\",\"SHA-256\",\"DPoS\",\"X16R\",\"HMQ1725\",\"X11\",\"X16R\",\"Quark\",\"Quark\",\"Scrypt\",\"Lyra2REv2\",\"Quark\",\"Scrypt\",\"Scrypt\",\"CryptoNight-V7\",\"Cryptonight-GPU\",\"XEVAN\",\"CryptoNight Heavy\",\"X11\",\"X11\",\"Scrypt\",\"PoS\",\"SHA-256\",\"Keccak\",\"X11\",\"X11\",\"Scrypt\",\"SHA-512\",\"X16R\",\"ECC 256K1\",\"Equihash\",\"XEVAN\",\"Lyra2Z\",\"SHA-256\",\"XEVAN\",\"X11\",\"CryptoNight\",\"Quark\",\"Blake\",\"Blake\",\"Equihash\",\"Exosis\",\"Scrypt\",\"Scrypt\",\"Equihash\",\"Quark\",\"Equihash\",\"Quark\",\"Scrypt\",\"QuBit\",\"X11\",\"Scrypt\",\"XEVAN\",\"SHA-256D\",\"X11\",\"SHA-256\",\"X13\",\"SHA-256\",\"X11\",\"DPoS\",\"Scrypt\",\"Scrypt\",\"X11\",\"NeoScrypt\",\"Scrypt\",\"Blake\",\"Scrypt\",\"SHA-256\",\"Scrypt\",\"X11\",\"Scrypt\",\"Scrypt\",\"SHA-256\",\"X11\",\"SHA-256\",\"Scrypt\",\"Scrypt\",\"Scrypt\",\"Groestl\",\"X11\",\"Scrypt\",\"PoS\",\"Scrypt\",\"Scrypt\",\"X11\",\"SHA-256\",\"DPoS\",\"Scrypt\",\"Scrypt\",\"NeoScrypt\",\"SHA3-256\",\"Multiple\",\"X13\",\"Equihash+Scrypt\",\"DPoS\",\"Ethash\",\"DPoS\",\"SHA-256\",\"Leased POS\",\"PoS\",\"TRC10\",\"PoS\",\"SHA-256\",\"Scrypt\",\"CryptoNight\",\"Equihash\",\"Scrypt\"],\"Class\":{\"__ndarray__\":\"AQAAAAEAAAABAAAAAAAAAAAAAAAAAAAAAQAAAAAAAAAAAAAAAAAAAAEAAAAAAAAAAQAAAAEAAAAAAAAAAQAAAAAAAAAAAAAAAQAAAAEAAAAAAAAAAAAAAAAAAAAAAAAAAAAAAAEAAAAAAAAAAAAAAAAAAAABAAAAAAAAAAEAAAAAAAAAAAAAAAEAAAABAAAAAAAAAAAAAAAAAAAAAAAAAAAAAAAAAAAAAQAAAAEAAAAAAAAAAAAAAAAAAAAAAAAAAAAAAAEAAAABAAAAAAAAAAEAAAAAAAAAAAAAAAAAAAAAAAAAAQAAAAAAAAAAAAAAAQAAAAAAAAABAAAAAQAAAAEAAAAAAAAAAAAAAAAAAAABAAAAAQAAAAEAAAABAAAAAQAAAAAAAAAAAAAAAAAAAAEAAAABAAAAAAAAAAEAAAAAAAAAAQAAAAEAAAAAAAAAAAAAAAAAAAAAAAAAAQAAAAEAAAAAAAAAAQAAAAAAAAAAAAAAAQAAAAEAAAAAAAAAAQAAAAEAAAAAAAAAAAAAAAEAAAABAAAAAAAAAAEAAAABAAAAAAAAAAEAAAAAAAAAAQAAAAAAAAABAAAAAAAAAAEAAAABAAAAAAAAAAAAAAABAAAAAAAAAAAAAAAAAAAAAQAAAAAAAAAAAAAAAAAAAAAAAAAAAAAAAQAAAAEAAAAAAAAAAAAAAAAAAAABAAAAAAAAAAEAAAAAAAAAAAAAAAEAAAAAAAAAAQAAAAAAAAABAAAAAQAAAAAAAAAAAAAAAQAAAAAAAAAAAAAAAQAAAAEAAAAAAAAAAQAAAAAAAAABAAAAAQAAAAEAAAAAAAAAAAAAAAAAAAAAAAAAAQAAAAEAAAABAAAAAQAAAAEAAAAAAAAAAAAAAAEAAAABAAAAAQAAAAEAAAABAAAAAAAAAAEAAAABAAAAAQAAAAEAAAABAAAAAAAAAAEAAAAAAAAAAQAAAAEAAAAAAAAAAQAAAAAAAAABAAAAAQAAAAAAAAABAAAAAAAAAAEAAAAAAAAAAQAAAAAAAAABAAAAAQAAAAEAAAABAAAAAAAAAAEAAAABAAAAAQAAAAEAAAABAAAAAAAAAAAAAAABAAAAAQAAAAAAAAAAAAAAAQAAAAEAAAABAAAAAQAAAAEAAAAAAAAAAQAAAAEAAAABAAAAAQAAAAEAAAABAAAAAQAAAAEAAAAAAAAAAQAAAAEAAAABAAAAAQAAAAEAAAABAAAAAAAAAAAAAAAAAAAAAQAAAAEAAAABAAAAAQAAAAAAAAABAAAAAAAAAAEAAAABAAAAAAAAAAEAAAAAAAAAAAAAAAEAAAAAAAAAAAAAAAEAAAAAAAAAAQAAAAEAAAABAAAAAAAAAAEAAAABAAAAAAAAAAEAAAABAAAAAQAAAAEAAAABAAAAAQAAAAEAAAAAAAAAAQAAAAAAAAABAAAAAQAAAAEAAAABAAAAAAAAAAEAAAAAAAAAAQAAAAAAAAAAAAAAAAAAAAAAAAABAAAAAAAAAAEAAAABAAAAAAAAAAEAAAAAAAAAAAAAAAAAAAABAAAAAAAAAAEAAAAAAAAAAAAAAAAAAAABAAAAAAAAAAEAAAAAAAAAAQAAAAEAAAADAAAAAAAAAAEAAAAAAAAAAAAAAAAAAAAAAAAAAAAAAAEAAAABAAAAAAAAAAEAAAABAAAAAQAAAAAAAAABAAAAAAAAAAEAAAAAAAAAAQAAAAAAAAABAAAAAQAAAAEAAAABAAAAAAAAAAEAAAABAAAAAAAAAAEAAAABAAAAAQAAAAAAAAAAAAAAAAAAAAAAAAABAAAAAQAAAAEAAAABAAAAAAAAAAEAAAAAAAAAAAAAAAAAAAABAAAAAQAAAAAAAAAAAAAAAQAAAAEAAAAAAAAAAQAAAAAAAAAAAAAAAAAAAAEAAAAAAAAAAAAAAAEAAAABAAAAAQAAAAAAAAAAAAAAAAAAAAEAAAAAAAAAAQAAAAAAAAAAAAAAAQAAAAAAAAAAAAAAAAAAAAAAAAABAAAABAAAAAIAAAAAAAAAAAAAAAAAAAABAAAAAwAAAAEAAAABAAAAAQAAAAEAAAAAAAAAAAAAAAAAAAAAAAAAAQAAAAEAAAABAAAAAAAAAAEAAAAAAAAAAQAAAAEAAAABAAAAAQAAAAAAAAABAAAAAQAAAAAAAAABAAAAAQAAAAAAAAAAAAAAAQAAAAAAAAABAAAAAAAAAAAAAAAAAAAAAAAAAAEAAAABAAAAAAAAAAEAAAAAAAAAAQAAAAEAAAABAAAAAQAAAAEAAAABAAAAAAAAAAAAAAAAAAAAAQAAAAEAAAABAAAAAQAAAAEAAAABAAAAAAAAAAEAAAAAAAAAAAAAAAAAAAAAAAAAAQAAAAEAAAABAAAAAQAAAAAAAAABAAAAAQAAAAAAAAABAAAAAAAAAAAAAAACAAAAAAAAAAEAAAAAAAAAAAAAAAEAAAABAAAAAAAAAAEAAAAAAAAAAAAAAAEAAAAAAAAAAAAAAAEAAAAAAAAAAQAAAAAAAAABAAAAAQAAAAAAAAABAAAAAQAAAAEAAAABAAAAAQAAAAAAAAAAAAAAAAAAAAEAAAABAAAAAQAAAAAAAAABAAAAAAAAAAEAAAAAAAAAAQAAAAEAAAABAAAAAQAAAAAAAAABAAAAAQAAAAEAAAAAAAAAAQAAAAAAAAABAAAAAAAAAAEAAAABAAAAAQAAAAAAAAAAAAAAAQAAAAEAAAABAAAAAQAAAAEAAAABAAAAAwAAAAAAAAABAAAAAAAAAAEAAAAAAAAAAQAAAAEAAAADAAAAAQAAAAEAAAABAAAAAQAAAAEAAAAAAAAAAAAAAAEAAAA=\",\"dtype\":\"int32\",\"shape\":[533]},\"CoinName\":[\"42 Coin\",\"404Coin\",\"EliteCoin\",\"Bitcoin\",\"Ethereum\",\"Litecoin\",\"Dash\",\"Monero\",\"Ethereum Classic\",\"ZCash\",\"Bitshares\",\"DigiByte\",\"BitcoinDark\",\"PayCoin\",\"ProsperCoin\",\"KoboCoin\",\"Spreadcoin\",\"Argentum\",\"Aurora Coin\",\"BlueCoin\",\"MyriadCoin\",\"MoonCoin\",\"ZetaCoin\",\"SexCoin\",\"Quatloo\",\"EnergyCoin\",\"QuarkCoin\",\"Riecoin\",\"Digitalcoin \",\"BitBar\",\"Catcoin\",\"CryptoBullion\",\"CannaCoin\",\"CryptCoin\",\"CasinoCoin\",\"Diamond\",\"Verge\",\"DevCoin\",\"EarthCoin\",\"E-Gulden\",\"Einsteinium\",\"Emerald\",\"Exclusive Coin\",\"FlutterCoin\",\"Franko\",\"FeatherCoin\",\"GrandCoin\",\"GlobalCoin\",\"GoldCoin\",\"HoboNickels\",\"HyperStake\",\"Infinite Coin\",\"IOCoin\",\"IXcoin\",\"KrugerCoin\",\"LuckyCoin\",\"Litebar \",\"MaxCoin\",\"MegaCoin\",\"MediterraneanCoin\",\"MintCoin\",\"MinCoin\",\"MazaCoin\",\"Nautilus Coin\",\"NavCoin\",\"NobleCoin\",\"Namecoin\",\"NyanCoin\",\"OpalCoin\",\"Orbitcoin\",\"PotCoin\",\"PhoenixCoin\",\"Reddcoin\",\"RonPaulCoin\",\"StableCoin\",\"SmartCoin\",\"SuperCoin\",\"SyncCoin\",\"SysCoin\",\"TeslaCoin\",\"TigerCoin\",\"TittieCoin\",\"TorCoin\",\"TerraCoin\",\"UnbreakableCoin\",\"Unobtanium\",\"UroCoin\",\"UnitaryStatus Dollar\",\"UltraCoin\",\"ViaCoin\",\"VeriCoin\",\"Vertcoin\",\"WorldCoin\",\"X11 Coin\",\"Crypti\",\"JouleCoin\",\"StealthCoin\",\"ZCC Coin\",\"ByteCoin\",\"DigitalNote \",\"BurstCoin\",\"StorjCoin\",\"MonaCoin\",\"Neutron\",\"FairCoin\",\"Gulden\",\"RubyCoin\",\"PesetaCoin\",\"Kore\",\"Wild Beast Coin\",\"Dnotes\",\"Flo\",\"8BIT Coin\",\"Sativa Coin\",\"ArtByte\",\"Folding Coin\",\"Ucoin\",\"Unitus\",\"CypherPunkCoin\",\"OmniCron\",\"Vtorrent\",\"GreenCoin\",\"Cryptonite\",\"MasterCoin\",\"SoonCoin\",\"1Credit\",\"IslaCoin\",\"Nexus\",\"MarsCoin \",\"Crypto\",\"Anarchists Prime\",\"Droidz\",\"BowsCoin\",\"Squall Coin\",\"Song Coin\",\"BitZeny\",\"Diggits\",\"Expanse\",\"Paycon\",\"Siacoin\",\"Emercoin\",\"EverGreenCoin\",\"MindCoin\",\"I0coin\",\"Decred\",\"Revolution VR\",\"HOdlcoin\",\"EDRCoin\",\"Hitcoin\",\"Gamecredits\",\"DubaiCoin\",\"CarpeDiemCoin\",\"PWR Coin\",\"BillaryCoin\",\"GPU Coin\",\"Adzcoin\",\"SoilCoin\",\"YoCoin\",\"SibCoin\",\"EuropeCoin\",\"ZeitCoin\",\"SwingCoin\",\"SafeExchangeCoin\",\"Nebuchadnezzar\",\"Francs\",\"BolivarCoin\",\"Ratecoin\",\"Revenu\",\"Clockcoin\",\"VIP Tokens\",\"BitSend\",\"Omni\",\"Let it Ride\",\"PutinCoin\",\"iBankCoin\",\"Frankywillcoin\",\"MudraCoin\",\"PizzaCoin\",\"Lutetium Coin\",\"Komodo\",\"GoldBlocks\",\"CarterCoin\",\"Karbo\",\"BitTokens\",\"ZayedCoin\",\"MustangCoin\",\"ZoneCoin\",\"Circuits of Value\",\"RootCoin\",\"DopeCoin\",\"BitCurrency\",\"DollarCoin\",\"Swiscoin\",\"Shilling\",\"BuzzCoin\",\"Opair\",\"PesoBit\",\"Halloween Coin\",\"ZCoin\",\"CoffeeCoin\",\"RoyalCoin\",\"GanjaCoin V2\",\"TeamUP\",\"LanaCoin\",\"Elementrem\",\"ZClassic\",\"ARK\",\"InsaneCoin\",\"KiloCoin\",\"ArtexCoin\",\"EmberCoin\",\"XenixCoin\",\"FreeCoin\",\"PLNCoin\",\"AquariusCoin\",\"Kurrent\",\"Creatio\",\"Eternity\",\"Eurocoin\",\"BitcoinFast\",\"Stakenet\",\"BitConnect Coin\",\"MoneyCoin\",\"Enigma\",\"Cannabis Industry Coin\",\"Russiacoin\",\"PandaCoin\",\"GameUnits\",\"GAKHcoin\",\"Allsafe\",\"LiteCreed\",\"OsmiumCoin\",\"Bikercoins\",\"HexxCoin\",\"Klingon Empire Darsek\",\"Internet of People\",\"KushCoin\",\"Printerium\",\"PacCoin\",\"Impeach\",\"Citadel\",\"Zilbercoin\",\"FirstCoin\",\"BeaverCoin\",\"FindCoin\",\"VaultCoin\",\"Zero\",\"OpenChat\",\"Canada eCoin\",\"Zoin\",\"RenosCoin\",\"DubaiCoin\",\"VirtacoinPlus\",\"TajCoin\",\"Impact\",\"EB3coin\",\"Atmos\",\"HappyCoin\",\"Coinonat\",\"MacronCoin\",\"Condensate\",\"Independent Money System\",\"ArgusCoin\",\"LomoCoin\",\"ProCurrency\",\"GoldReserve\",\"BenjiRolls\",\"GrowthCoin\",\"ILCoin\",\"Phreak\",\"Degas Coin\",\"HTML5 Coin\",\"Ultimate Secure Cash\",\"EquiTrader\",\"QTUM\",\"Quantum Resistant Ledger\",\"Espers\",\"Dynamic\",\"Nano\",\"ChanCoin\",\"Dinastycoin\",\"Denarius\",\"DigitalPrice\",\"Virta Unique Coin\",\"Bitcoin Planet\",\"Unify\",\"BritCoin\",\"SocialCoin\",\"ArcticCoin\",\"DAS\",\"Linda\",\"LeviarCoin\",\"DeepOnion\",\"Bitcore\",\"gCn Coin\",\"SmartCash\",\"Signatum\",\"Onix\",\"Cream\",\"Bitcoin Cash\",\"Monoeci\",\"Draftcoin\",\"Vechain\",\"Sojourn Coin\",\"Stakecoin\",\"NewYorkCoin\",\"FrazCoin\",\"Kronecoin\",\"AdCoin\",\"Linx\",\"CoinonatX\",\"Ethereum Dark\",\"Sumokoin\",\"Obsidian\",\"Cardano\",\"Regalcoin\",\"BitcoinZ\",\"TrezarCoin\",\"Elements\",\"TerraNovaCoin\",\"VIVO Coin\",\"Rupee\",\"Bitcoin Gold\",\"WomenCoin\",\"Theresa May Coin\",\"NamoCoin\",\"LUXCoin\",\"Pirl\",\"Xios\",\"Bitcloud 2.0\",\"eBoost\",\"KekCoin\",\"BlackholeCoin\",\"Infinity Economics\",\"Pura\",\"Innova\",\"Ellaism\",\"GoByte\",\"Magnet\",\"Lamden Tau\",\"Electra\",\"Bitcoin Diamond\",\"SHIELD\",\"Cash & Back Coin\",\"UltraNote\",\"BitCoal\",\"DaxxCoin\",\"Bulwark\",\"Kalkulus\",\"AC3\",\"Lethean\",\"GermanCoin\",\"LiteCoin Ultra\",\"PopularCoin\",\"PhantomX\",\"Photon\",\"Sucre\",\"SparksPay\",\"Digiwage\",\"GunCoin\",\"IrishCoin\",\"Trollcoin\",\"Litecoin Plus\",\"Monkey Project\",\"Pioneer Coin\",\"UnitedBitcoin\",\"Interzone\",\"TokenPay\",\"1717 Masonic Commemorative Token\",\"My Big Coin\",\"TurtleCoin\",\"MUNcoin\",\"Unified Society USDEX\",\"Niobio Cash\",\"ShareChain\",\"Travelflex\",\"KREDS\",\"Tokyo Coin\",\"BiblePay\",\"LitecoinCash\",\"BitFlip\",\"LottoCoin\",\"Crypto Improvement Fund\",\"Stipend\",\"Poa Network\",\"Pushi\",\"Ellerium\",\"Velox\",\"Ontology\",\"Callisto Network\",\"BitTube\",\"Poseidon\",\"Aidos Kuneen\",\"Bitspace\",\"Briacoin\",\"Ignition\",\"Bitrolium\",\"MedicCoin\",\"Alpenschillling\",\"Bitcoin Green\",\"Deviant Coin\",\"Abjcoin\",\"Semux\",\"FuturoCoin\",\"Carebit\",\"Zealium\",\"Monero Classic\",\"Proton\",\"iDealCash\",\"Jumpcoin\",\"Infinex\",\"Bitcoin Incognito\",\"KEYCO\",\"HollyWoodCoin\",\"GINcoin\",\"PlatinCoin\",\"Loki\",\"Newton Coin\",\"Swisscoin\",\"Xt3ch\",\"MassGrid\",\"TheVig\",\"PluraCoin\",\"EmaratCoin\",\"Dekado\",\"Lynx\",\"Poseidon Quark\",\"BitcoinWSpectrum\",\"Muse\",\"Motion\",\"PlusOneCoin\",\"Axe\",\"Trivechain\",\"Dystem\",\"Giant\",\"Peony Coin\",\"Absolute Coin\",\"Vitae\",\"HexCoin\",\"TPCash\",\"Webchain\",\"Ryo\",\"Urals Coin\",\"Qwertycoin\",\"ARENON\",\"EUNO\",\"MMOCoin\",\"Ketan\",\"Project Pai\",\"XDNA\",\"PAXEX\",\"Azart\",\"ThunderStake\",\"Kcash\",\"Xchange\",\"Acute Angle Cloud\",\"CrypticCoin\",\"Bettex coin\",\"Actinium\",\"Bitcoin SV\",\"BitMoney\",\"Junson Ming Chan Coin\",\"FREDEnergy\",\"HerbCoin\",\"Universal Molecule\",\"Lithium\",\"PirateCash\",\"Exosis\",\"Block-Logic\",\"Oduwa\",\"Beam\",\"Galilel\",\"Bithereum\",\"Crypto Sports\",\"Credit\",\"SLICE\",\"Dash Platinum\",\"Nasdacoin\",\"Beetle Coin\",\"Titan Coin\",\"Award\",\"BLAST\",\"Bitcoin Rhodium\",\"GlobalToken\",\"Insane Coin\",\"ALAX\",\"LiteDoge\",\"SolarCoin\",\"TruckCoin\",\"UFO Coin\",\"OrangeCoin\",\"BlakeCoin\",\"BitstarCoin\",\"NeosCoin\",\"HyperCoin\",\"PinkCoin\",\"Crypto Escudo\",\"AudioCoin\",\"IncaKoin\",\"Piggy Coin\",\"Crown Coin\",\"Genstake\",\"SmileyCoin\",\"XiaoMiCoin\",\"Groestlcoin\",\"CapriCoin\",\" ClubCoin\",\"Radium\",\"Bata\",\"Pakcoin\",\"Creditbit \",\"OKCash\",\"Lisk\",\"HiCoin\",\"WhiteCoin\",\"FriendshipCoin\",\"Fiii\",\"JoinCoin\",\"Triangles Coin\",\"Vollar\",\"EOS\",\"Reality Clash\",\"Oxycoin\",\"TigerCash\",\"Waves\",\"Particl\",\"BitTorrent\",\"Nxt\",\"ZEPHYR\",\"Gapcoin\",\"Beldex\",\"Horizen\",\"BitcoinPlus\"],\"ProofType\":[\"PoW/PoS\",\"PoW/PoS\",\"PoW/PoS\",\"PoW\",\"PoW\",\"PoW\",\"PoW/PoS\",\"PoW\",\"PoW\",\"PoW\",\"PoS\",\"PoW\",\"PoW/PoS\",\"PoS\",\"PoW\",\"PoW/PoS\",\"PoW\",\"PoW\",\"PoW/PoS\",\"PoW/PoS\",\"PoW\",\"PoW\",\"PoW\",\"PoW\",\"PoW\",\"PoW/PoS\",\"PoW\",\"PoW\",\"PoW\",\"PoW/PoS\",\"PoW\",\"PoW/PoS\",\"PoW\",\"PoW\",\"PoC\",\"PoW/PoS\",\"PoW\",\"PoW\",\"PoW\",\"PoW\",\"PoW\",\"PoW\",\"PoS\",\"PoS/PoW/PoT\",\"PoW\",\"PoW\",\"PoW\",\"PoW\",\"PoW\",\"PoW/PoS\",\"PoS\",\"PoW\",\"PoW/PoS\",\"PoW\",\"PoW\",\"PoW\",\"PoW\",\"PoW/PoS\",\"PoW\",\"PoW\",\"PoS\",\"PoW\",\"PoW/PoS\",\"PoS\",\"PoW/PoS\",\"PoW\",\"PoW\",\"PoW\",\"PoW/PoS\",\"PoW/PoS\",\"PoW/PoS\",\"PoW/PoS\",\"PoW/PoS\",\"PoW\",\"PoW\",\"PoW\",\"PoS\",\"PoW/PoS\",\"PoW\",\"PoS\",\"PoW\",\"PoS\",\"PoW/PoS\",\"PoW\",\"PoW\",\"PoW\",\"PoW\",\"PoW/PoS\",\"PoW/PoS\",\"PoW\",\"PoST\",\"PoW\",\"PoW\",\"PoW/PoS\",\"PoS\",\"PoW\",\"PoW/PoS\",\"PoW/PoS\",\"PoW\",\"PoW\",\"PoC\",\"PoS\",\"PoW\",\"PoW/PoS\",\"PoW/PoS\",\"PoW\",\"PoS\",\"PoW\",\"PoW/PoS\",\"PoW\",\"PoS\",\"PoW\",\"PoW/PoS\",\"PoW/PoS\",\"PoW\",\"PoW\",\"PoS\",\"PoW\",\"PoW\",\"PoW\",\"PoW/PoS\",\"PoW\",\"PoW\",\"PoW\",\"PoW\",\"PoW\",\"PoW/PoS\",\"PoW/nPoS\",\"PoW\",\"PoW\",\"PoW\",\"PoW/PoS\",\"PoW\",\"PoS/PoW\",\"PoW\",\"PoW\",\"PoS\",\"PoW\",\"PoW/PoS\",\"PoW\",\"PoW/PoS\",\"PoW/PoS\",\"PoW\",\"PoW\",\"PoW/PoS\",\"PoW\",\"PoW\",\"PoW/PoS\",\"PoW/PoS\",\"PoW\",\"PoW/PoS\",\"PoW\",\"PoW/PoS\",\"PoW/PoS\",\"PoS\",\"PoW\",\"PoW\",\"PoW\",\"PoW\",\"PoW/PoS\",\"PoS\",\"PoW/PoS\",\"PoC\",\"PoS\",\"PoW\",\"PoW\",\"PoW/PoS\",\"PoW/PoS\",\"PoW/PoS\",\"PoW/PoS\",\"PoW/PoS\",\"PoW\",\"PoS\",\"PoW/PoS\",\"PoW/PoS\",\"PoW/PoS\",\"PoS\",\"PoW\",\"PoS\",\"dPoW/PoW\",\"PoW/PoS\",\"PoW/PoS\",\"PoW\",\"PoW/PoS\",\"PoW\",\"PoW/PoS\",\"PoW/PoS\",\"PoW\",\"PoW/PoS\",\"PoW\",\"PoS\",\"PoW\",\"PoW/PoW\",\"PoW\",\"PoW/PoS\",\"PoS\",\"PoW/PoS\",\"PoW/PoS\",\"PoW\",\"PoS\",\"PoS\",\"PoW/PoS\",\"PoS\",\"PoW/PoS\",\"PoW\",\"PoW\",\"DPoS\",\"PoW/PoS\",\"PoW\",\"PoW\",\"PoW/PoS\",\"PoW/PoS\",\"PoS\",\"PoW/PoS\",\"PoW/PoS\",\"PoW\",\"PoS\",\"PoW/PoS\",\"PoW/PoS\",\"PoW/PoS\",\"TPoS\",\"PoW/PoS\",\"PoW/PoS\",\"PoW/PoS\",\"PoW\",\"PoW/PoS\",\"PoS\",\"PoW/PoS\",\"PoW/PoS\",\"PoS\",\"PoW/PoS\",\"PoW\",\"PoW\",\"PoW\",\"PoW/PoS\",\"PoW/PoS\",\"PoW/PoS\",\"PoW/PoS\",\"PoW\",\"PoW/PoS\",\"PoW\",\"PoS\",\"PoW/PoS \",\"PoW\",\"PoS\",\"PoW\",\"PoW\",\"PoW/PoS\",\"PoW\",\"PoW\",\"PoS\",\"PoW\",\"PoW/PoS\",\"PoW/PoS\",\"PoW/PoS\",\"PoW\",\"PoS\",\"PoW/PoS\",\"PoW\",\"PoS\",\"PoW/PoS\",\"PoW/PoS\",\"PoW/PoS\",\"PoW/PoS\",\"PoS\",\"PoW/PoS\",\"PoW\",\"PoS\",\"PoW\",\"PoS\",\"PoW/PoS\",\"PoW/PoS\",\"PoS\",\"PoW\",\"PoS\",\"PoW\",\"PoW/PoS\",\"PoW\",\"PoW\",\"PoW\",\"PoW\",\"PoW/PoS\",\"PoW\",\"PoW/PoS\",\"PoW/PoS\",\"PoW\",\"PoW/PoS\",\"PoW\",\"PoW\",\"PoW\",\"PoW/PoS\",\"PoW\",\"PoW/PoS\",\"PoW\",\"PoW\",\"PoW\",\"PoS\",\"PoW\",\"PoW/PoS\",\"PoW\",\"PoW/PoS\",\"PoS\",\"Proof of Authority\",\"PoW\",\"PoS\",\"PoW\",\"PoW\",\"PoW\",\"PoW\",\"PoW\",\"PoW/PoS\",\"PoW/PoS\",\"PoW\",\"PoS\",\"PoS\",\"PoW/PoS\",\"PoW\",\"PoW/PoS\",\"PoW\",\"PoW/PoS\",\"PoW\",\"PoS\",\"PoW\",\"PoW/PoS\",\"PoW/PoS\",\"PoW/PoS\",\"PoW/PoS\",\"PoW\",\"PoW/PoS\",\"PoW/PoS\",\"PoW\",\"PoS\",\"PoW/PoS\",\"PoS\",\"PoW\",\"PoW\",\"PoW\",\"PoW\",\"PoW/PoS\",\"DPoS\",\"PoW/PoS\",\"PoW/PoS\",\"PoW\",\"PoW/PoS\",\"PoW\",\"PoW\",\"PoW\",\"PoS\",\"PoS\",\"PoW\",\"PoW\",\"PoW/PoS\",\"PoW/PoS\",\"PoW\",\"PoW/PoS\",\"PoW\",\"PoW\",\"PoW\",\"PoS\",\"PoW\",\"PoW\",\"PoW/PoS\",\"PoW/PoS\",\"PoS\",\"PoW\",\"PoW\",\"PoW\",\"PoS\",\"PoS\",\"PoW and PoS\",\"PoW\",\"PoW\",\"PoW/PoS\",\"PoW\",\"PoW\",\"PoW\",\"PoW\",\"PoS\",\"POBh\",\"PoW + Hive\",\"PoW\",\"PoW\",\"PoW\",\"PoW/PoS\",\"PoA\",\"PoW/PoS\",\"PoW/PoS\",\"PoS\",\"PoS\",\"PoW\",\"PoW\",\"PoW\",\"PoW\",\"PoW/PoS\",\"PoW/PoS\",\"PoW/PoS\",\"PoW\",\"PoS\",\"PoW\",\"PoS\",\"PoS\",\"PoW/PoS\",\"DPoS\",\"PoW\",\"PoW/PoS\",\"PoS\",\"PoW\",\"PoS\",\"PoW/PoS\",\"PoW\",\"PoW\",\"PoS/PoW\",\"PoW\",\"PoS\",\"PoW\",\"PoW\",\"PoW\",\"PoW\",\"PoW/PoS\",\"PoS\",\"PoW\",\"PoW/PoS\",\"PoW\",\"PoW/PoS\",\"PoS\",\"HPoW\",\"PoS\",\"PoS\",\"PoS\",\"PoW\",\"PoW\",\"PoW\",\"PoW/PoS\",\"PoS\",\"PoW/PoS\",\"PoS\",\"PoW/PoS\",\"PoS\",\"PoW\",\"PoW/PoS\",\"PoW\",\"PoW\",\"PoW\",\"PoW\",\"PoS\",\"PoW/PoS\",\"PoS\",\"PoS\",\"PoW\",\"PoW/PoS\",\"PoS\",\"PoW\",\"PoW/PoS\",\"Zero-Knowledge Proof\",\"PoW\",\"DPOS\",\"PoW\",\"PoS\",\"PoW\",\"PoW\",\"Pos\",\"PoS\",\"PoW\",\"PoW/PoS\",\"PoW\",\"PoW\",\"PoS\",\"PoW\",\"PoW\",\"PoW/PoS\",\"PoW\",\"PoW/PoS\",\"PoW\",\"PoS\",\"PoW/PoS\",\"PoW\",\"PoS\",\"PoW/PoS\",\"PoW/PoS\",\"PoW/PoS\",\"PoW/PoS\",\"PoW\",\"PoW\",\"PoW\",\"PoW/PoS\",\"DPoS\",\"PoW/PoS\",\"PoW\",\"PoW/PoS\",\"PoW\",\"PoW/PoS\",\"PoW\",\"PoW/PoS\",\"PoS\",\"PoW/PoS\",\"PoW/PoS\",\"PoW\",\"PoW/PoS\",\"PoW/PoS\",\"PoW/PoS\",\"PoW\",\"PoW/PoS\",\"PoW\",\"PoW/PoS\",\"PoW\",\"PoW/PoS\",\"PoW/PoS\",\"PoS\",\"PoW\",\"PoW\",\"Proof of Trust\",\"PoW/PoS\",\"DPoS\",\"PoS\",\"PoW/PoS\",\"PoW/PoS\",\"DPoC\",\"PoW\",\"PoW/PoS\",\"PoW\",\"DPoS\",\"PoW\",\"DPoS\",\"PoS\",\"LPoS\",\"PoS\",\"DPoS\",\"PoS/LPoS\",\"DPoS\",\"PoW/PoS\",\"PoW\",\"PoW\",\"PoS\"],\"TotalCoinSupply\":[\"42\",\"532000000\",\"314159265359\",\"21000000\",\"0\",\"84000000\",\"22000000\",\"0\",\"210000000\",\"21000000\",\"3600570502\",\"21000000000\",\"22000000\",\"12500000\",\"21000000\",\"350000000\",\"20000000\",\"64000000\",\"16768584\",\"0\",\"2000000000\",\"384000000000\",\"169795588\",\"250000000\",\"100000000\",\"0\",\"247000000\",\"84000000\",\"48166000\",\"500000\",\"21000000 \",\"1000000\",\"13140000\",\"18000000\",\"40000000000\",\"4380000\",\"16555000000\",\"21000000000\",\"13500000000\",\"21000000 \",\"299792458\",\"32000000\",\"0\",\"0\",\"11235813\",\"336000000\",\"1420609614\",\"70000000\",\"72245700\",\"120000000\",\"0\",\"90600000000\",\"22000000\",\"21000000\",\"265420800\",\"20000000\",\"1350000\",\"100000000\",\"42000000\",\"200000000\",\"0\",\"10000000\",\"2419200000\",\"16180000\",\"0\",\"15000000000\",\"21000000\",\"337000000\",\"0\",\"3770000\",\"420000000\",\"98000000\",\"0\",\"21000000\",\"250000000\",\"51200000\",\"0\",\"1000\",\"888000000\",\"100000000\",\"47011968\",\"2300000000\",\"10000000\",\"42000000\",\"80000000\",\"250000\",\"0\",\"1600000000\",\"100000000\",\"23000000\",\"0\",\"84000000\",\"265420800\",\"5500000\",\"0\",\"45000000\",\"0\",\"1000000000\",\"184467440735\",\"10000000000\",\"2158812800\",\"500000000\",\"105120000\",\"68000000\",\"0\",\"1680000000\",\"0\",\"166386000\",\"12000000\",\"2628000\",\"500000000\",\"160000000\",\"0\",\"10000000\",\"1000000000\",\"1000000000\",\"20000000\",\"0\",\"0\",\"3371337\",\"20000000\",\"10000000000\",\"1840000000\",\"619478\",\"21000000\",\"92000000000\",\"0\",\"78000000\",\"33000000\",\"65789100\",\"53760000\",\"5060000\",\"21000000\",\"0\",\"210240000\",\"250000000\",\"100000000\",\"16906397\",\"50000000\",\"0\",\"1000000000\",\"26298000\",\"16000000\",\"21000000\",\"21000000\",\"210000000\",\"81962100\",\"22000000\",\"26550000000\",\"84000000\",\"10500000\",\"21626280000 \",\"0\",\"42000000\",\"221052632\",\"84000000\",\"30000000\",\"168351300\",\"24000000\",\"384000000\",\" 99000000000\",\"40000000\",\"2147483647\",\"20000000\",\"20000000\",\"25000000\",\"75000000\",\"222725000\",\"525000000\",\"90000000\",\"139000000\",\"616448\",\"33500000\",\"2000000000\",\"44333333\",\"100000000\",\"200000000\",\"25000000\",\"657000000\",\"200000000\",\"50000000\",\"90000000\",\"10000000\",\"21000000\",\"9736000\",\"3000000\",\"21000000\",\"1200000000\",\"0\",\"200000000\",\"0\",\"10638298\",\"3100000000\",\"30000000\",\"20000000000\",\"74000000\",\"0\",\"1500000000\",\"21400000\",\"39999898\",\"2500124\",\"100000000\",\"301000000\",\"7506000000\",\"26205539\",\"21000000\",\"125000000\",\"30000000\",\"10000000000\",\"500000000\",\"850000000\",\"3853326.77707314\",\"50000000\",\"38540000 \",\"42000000\",\"228000000\",\"20000000\",\"60000000\",\"20000000\",\"33000000\",\"76500000\",\"28000000\",\"650659833\",\"5000000\",\"21000000\",\"144000000\",\"32514916898\",\"13000000\",\"3315789\",\"15000000\",\"78835200\",\"2714286\",\"25000000\",\"9999999\",\"500000000\",\"21000000\",\"9354000\",\"20000000\",\"100000000000\",\"21933333\",\"185000000\",\"55000000\",\"110000000\",\"3360000\",\"14524851.4827\",\"1000000000\",\"17000000\",\"1000000000\",\"100000000 \",\"21000000\",\"34426423\",\"2232901\",\"100000000\",\"36900000\",\"110000000\",\"4000000000\",\"110290030\",\"100000000\",\"48252000\",\"400000000\",\"500000000\",\"21212121\",\"28600000\",\"1000000000\",\"75000000000\",\"40000000\",\"35520400\",\"2000000000\",\"2500000000\",\"30000000\",\"105000000\",\"90000000000\",\"200084200\",\"72000000\",\"100000000\",\"105000000\",\"50000000000\",\"0\",\"340282367\",\"30000000\",\"2000000000\",\"10000000\",\"100000000\",\"120000000\",\"100000000\",\"19276800\",\"30000000\",\" 75000000\",\"60000000\",\"18900000\",\"50000000000\",\"54000000\",\"18898187.6216583\",\"21000000\",\"200000000000\",\"5000000000\",\"137500000\",\"1100000000\",\"100000000\",\"21000000\",\"9507271\",\"17405891.19707116\",\"86712634466\",\"10500000000\",\"61599965\",\"0\",\"20000000\",\"84000000\",\"100000000\",\"100000000\",\"48252000\",\"4200000\",\"88888888\",\"91388946\",\"45000000000\",\"27000000\",\"21000000000\",\"400000000\",\"1800000000\",\"15733333\",\"27000000\",\"24000000\",\"21000000\",\"25000000000\",\"100000000\",\"1200000000\",\"60000000\",\"156306732.71\",\"21000000\",\"200000000\",\"100000000\",\"21000000\",\"14788275.991\",\"9000000000\",\"350000000\",\"45000000\",\"280000000\",\"31800000\",\"144000000\",\"500000000\",\"30000000000\",\"210000000\",\"660000000\",\"210000000\",\"85000000000\",\"12500000\",\"10000000000\",\"27716121\",\"20000000\",\"550000000\",\"999481516\",\"50000000000\",\"150000000\",\"4999999999\",\"50000000\",\" 90000000000\",\"19800000\",\"21000000\",\"120000000\",\"500000000\",\"64000000\",\"900000000\",\"4000000\",\"21000000\",\"23000000\",\"20166000\",\"23000000\",\"25000000\",\"1618033\",\"30000000\",\"1000000000000\",\"16600000\",\"232000000\",\"336000000\",\"10000000000\",\"100000000\",\"1100000000\",\"800000000\",\"5200000000\",\"840000000\",\"40000000\",\"18406979840\",\"500000000\",\"19340594\",\"252460800\",\"25000000\",\"60000000\",\"124000000\",\"1000000000\",\"6500000000\",\"1000000000\",\"21000000\",\"25000000\",\"50000000\",\"3000000\",\"5000000\",\"70000000\",\"500000000\",\"300000000\",\"21000000\",\"88000000\",\"30000000\",\"100000000\",\"100000000\",\"200000000\",\"80000000\",\"18400000\",\"45000000\",\"5121951220\",\"21000000\",\"26280000\",\"21000000\",\"18000000\",\"26000000\",\"10500000\",\"600000518\",\"150000000\",\"184000000000\",\"10200000000\",\"44000000\",\"168000000\",\"100000000\",\"1000000000\",\"84000000\",\"90000000\",\"92000000000\",\"650000000 \",\"100262205\",\"18081806 \",\"22075700\",\"21000000\",\"21000000\",\"82546564\",\"21000000\",\"5151000\",\"16880000000\",\"52500000\",\"100000000\",\"22105263\",\"1000000000\",\"1750000000\",\"88188888\",\"210000000\",\"184470000000\",\"55000000\",\"50000000\",\"260000000\",\"210000000\",\"2100000000\",\"366000000\",\"100000000\",\"25000000\",\"18000000000\",\"1000000000\",\"100000000\",\"1000000000\",\"7600000000\",\"50000000\",\"84000000\",\"21000000\",\"70000000000\",\"0\",\"8080000000\",\"54000000\",\"105120001.44\",\"25228800\",\"105000000\",\"21000000\",\"120000000\",\"21000000\",\"262800000\",\"19035999\",\"30886000\",\"13370000\",\"74800000000\",\"100000000\",\"19700000\",\"84000000\",\"500000000\",\"5000000000\",\"420000000\",\"64000000\",\"2100000\",\"168000000\",\"30000000\",\"1000000000\",\"35000000000\",\"98100000000\",\"0\",\"4000000000\",\"200000000\",\"7000000000\",\"54256119\",\"21000000\",\"0\",\"500000000\",\"1000000000\",\"10500000000\",\"190000000\",\"1000000000\",\"42000000\",\"15000000\",\"50000000000\",\"400000000\",\"105000000\",\"208000000\",\"160000000\",\"9000000\",\"5000000\",\"182000000\",\"16504333\",\"105000000\",\"159918400\",\"10008835635\",\"300000000\",\"60168145\",\"5000000000\",\"2800000\",\"120000\",\"2100000000\",\"0\",\"24487944\",\"0\",\"1000000000\",\"100000000\",\"8634140\",\"990000000000\",\"1000000000\",\"2000000000\",\"250000000\",\"1400222610\",\"21000000\",\"1000000\"],\"TotalCoinsMined\":{\"__ndarray__\":\"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\",\"dtype\":\"float64\",\"shape\":[533]}},\"selected\":{\"id\":\"3768\"},\"selection_policy\":{\"id\":\"3802\"}},\"id\":\"3767\",\"type\":\"ColumnDataSource\"},{\"attributes\":{},\"id\":\"3768\",\"type\":\"Selection\"},{\"attributes\":{},\"id\":\"3790\",\"type\":\"NumberEditor\"},{\"attributes\":{\"editor\":{\"id\":\"3785\"},\"field\":\"TotalCoinSupply\",\"formatter\":{\"id\":\"3784\"},\"title\":\"TotalCoinSupply\"},\"id\":\"3786\",\"type\":\"TableColumn\"},{\"attributes\":{},\"id\":\"3775\",\"type\":\"StringEditor\"},{\"attributes\":{\"editor\":{\"id\":\"3775\"},\"field\":\"Algorithm\",\"formatter\":{\"id\":\"3774\"},\"title\":\"Algorithm\"},\"id\":\"3776\",\"type\":\"TableColumn\"},{\"attributes\":{},\"id\":\"3795\",\"type\":\"IntEditor\"},{\"attributes\":{},\"id\":\"3802\",\"type\":\"UnionRenderers\"},{\"attributes\":{},\"id\":\"3774\",\"type\":\"StringFormatter\"},{\"attributes\":{},\"id\":\"3794\",\"type\":\"NumberFormatter\"},{\"attributes\":{},\"id\":\"3784\",\"type\":\"StringFormatter\"},{\"attributes\":{},\"id\":\"3779\",\"type\":\"StringFormatter\"},{\"attributes\":{},\"id\":\"3785\",\"type\":\"StringEditor\"},{\"attributes\":{},\"id\":\"3769\",\"type\":\"StringFormatter\"},{\"attributes\":{\"margin\":[5,5,5,5],\"name\":\"HSpacer08561\",\"sizing_mode\":\"stretch_width\"},\"id\":\"3766\",\"type\":\"Spacer\"},{\"attributes\":{\"children\":[{\"id\":\"3766\"},{\"id\":\"3799\"},{\"id\":\"3803\"}],\"margin\":[0,0,0,0],\"name\":\"Row08557\",\"tags\":[\"embedded\"]},\"id\":\"3765\",\"type\":\"Row\"},{\"attributes\":{\"columns\":[{\"id\":\"3771\"},{\"id\":\"3776\"},{\"id\":\"3781\"},{\"id\":\"3786\"},{\"id\":\"3791\"},{\"id\":\"3796\"}],\"height\":300,\"reorderable\":false,\"source\":{\"id\":\"3767\"},\"view\":{\"id\":\"3800\"},\"width\":700},\"id\":\"3799\",\"type\":\"DataTable\"},{\"attributes\":{},\"id\":\"3780\",\"type\":\"StringEditor\"},{\"attributes\":{\"editor\":{\"id\":\"3780\"},\"field\":\"ProofType\",\"formatter\":{\"id\":\"3779\"},\"title\":\"ProofType\"},\"id\":\"3781\",\"type\":\"TableColumn\"},{\"attributes\":{\"format\":\"0,0.0[00000]\"},\"id\":\"3789\",\"type\":\"NumberFormatter\"},{\"attributes\":{\"margin\":[5,5,5,5],\"name\":\"HSpacer08562\",\"sizing_mode\":\"stretch_width\"},\"id\":\"3803\",\"type\":\"Spacer\"},{\"attributes\":{},\"id\":\"3770\",\"type\":\"StringEditor\"}],\"root_ids\":[\"3765\"]},\"title\":\"Bokeh Application\",\"version\":\"2.0.2\"}};\n",
       "  var render_items = [{\"docid\":\"436d3367-0662-4658-bd71-b939f76a5b50\",\"root_ids\":[\"3765\"],\"roots\":{\"3765\":\"69f83ddd-717f-4d35-a582-f7fadc753266\"}}];\n",
       "  root.Bokeh.embed.embed_items_notebook(docs_json, render_items);\n",
       "  }\n",
       "if (root.Bokeh !== undefined) {\n",
       "    embed_document(root);\n",
       "  } else {\n",
       "    var attempts = 0;\n",
       "    var timer = setInterval(function(root) {\n",
       "      if (root.Bokeh !== undefined) {\n",
       "        clearInterval(timer);\n",
       "        embed_document(root);\n",
       "      } else if (document.readyState == \"complete\") {\n",
       "        attempts++;\n",
       "        if (attempts > 100) {\n",
       "          clearInterval(timer);\n",
       "          console.log(\"Bokeh: ERROR: Unable to run BokehJS code because BokehJS library is missing\");\n",
       "        }\n",
       "      }\n",
       "    }, 10, root)\n",
       "  }\n",
       "})(window);</script>"
      ],
      "text/plain": [
       ":Table   [CoinName,Algorithm,ProofType,TotalCoinSupply,TotalCoinsMined,Class]"
      ]
     },
     "execution_count": 137,
     "metadata": {
      "application/vnd.holoviews_exec.v0+json": {
       "id": "3765"
      }
     },
     "output_type": "execute_result"
    }
   ],
   "source": [
    "# Table with tradable cryptos\n",
    "columns = [\"CoinName\", \"Algorithm\", \"ProofType\", \"TotalCoinSupply\", \"TotalCoinsMined\", \"Class\"]\n",
    "clustered_df.hvplot.table(columns)"
   ]
  },
  {
   "cell_type": "code",
   "execution_count": 138,
   "metadata": {},
   "outputs": [
    {
     "data": {
      "text/plain": [
       "533"
      ]
     },
     "execution_count": 138,
     "metadata": {},
     "output_type": "execute_result"
    }
   ],
   "source": [
    "# Print the total number of tradable cryptocurrencies\n",
    "clustered_df.shape[0]"
   ]
  },
  {
   "cell_type": "markdown",
   "metadata": {},
   "source": [
    "#### Scatter Plot with Tradable Cryptocurrencies"
   ]
  },
  {
   "cell_type": "code",
   "execution_count": 139,
   "metadata": {},
   "outputs": [
    {
     "data": {
      "text/html": [
       "<div>\n",
       "<style scoped>\n",
       "    .dataframe tbody tr th:only-of-type {\n",
       "        vertical-align: middle;\n",
       "    }\n",
       "\n",
       "    .dataframe tbody tr th {\n",
       "        vertical-align: top;\n",
       "    }\n",
       "\n",
       "    .dataframe thead th {\n",
       "        text-align: right;\n",
       "    }\n",
       "</style>\n",
       "<table border=\"1\" class=\"dataframe\">\n",
       "  <thead>\n",
       "    <tr style=\"text-align: right;\">\n",
       "      <th></th>\n",
       "      <th>Algorithm</th>\n",
       "      <th>ProofType</th>\n",
       "      <th>TotalCoinsMined</th>\n",
       "      <th>TotalCoinSupply</th>\n",
       "      <th>PC 1</th>\n",
       "      <th>PC 2</th>\n",
       "      <th>PC 3</th>\n",
       "      <th>CoinName</th>\n",
       "      <th>Class</th>\n",
       "    </tr>\n",
       "  </thead>\n",
       "  <tbody>\n",
       "    <tr>\n",
       "      <th>42</th>\n",
       "      <td>Scrypt</td>\n",
       "      <td>PoW/PoS</td>\n",
       "      <td>-0.116748</td>\n",
       "      <td>-0.152865</td>\n",
       "      <td>1.014099</td>\n",
       "      <td>-0.708930</td>\n",
       "      <td>-0.002485</td>\n",
       "      <td>42 Coin</td>\n",
       "      <td>1</td>\n",
       "    </tr>\n",
       "    <tr>\n",
       "      <th>404</th>\n",
       "      <td>Scrypt</td>\n",
       "      <td>PoW/PoS</td>\n",
       "      <td>-0.093589</td>\n",
       "      <td>-0.144996</td>\n",
       "      <td>1.014099</td>\n",
       "      <td>-0.708930</td>\n",
       "      <td>-0.002485</td>\n",
       "      <td>404Coin</td>\n",
       "      <td>1</td>\n",
       "    </tr>\n",
       "    <tr>\n",
       "      <th>1337</th>\n",
       "      <td>X13</td>\n",
       "      <td>PoW/PoS</td>\n",
       "      <td>0.525872</td>\n",
       "      <td>4.493764</td>\n",
       "      <td>1.770482</td>\n",
       "      <td>-0.781781</td>\n",
       "      <td>-0.000258</td>\n",
       "      <td>EliteCoin</td>\n",
       "      <td>1</td>\n",
       "    </tr>\n",
       "    <tr>\n",
       "      <th>BTC</th>\n",
       "      <td>SHA-256</td>\n",
       "      <td>PoW</td>\n",
       "      <td>-0.116354</td>\n",
       "      <td>-0.152554</td>\n",
       "      <td>-1.249896</td>\n",
       "      <td>0.245768</td>\n",
       "      <td>0.013076</td>\n",
       "      <td>Bitcoin</td>\n",
       "      <td>0</td>\n",
       "    </tr>\n",
       "    <tr>\n",
       "      <th>ETH</th>\n",
       "      <td>Ethash</td>\n",
       "      <td>PoW</td>\n",
       "      <td>-0.114384</td>\n",
       "      <td>-0.152865</td>\n",
       "      <td>-1.963110</td>\n",
       "      <td>0.452870</td>\n",
       "      <td>-0.013238</td>\n",
       "      <td>Ethereum</td>\n",
       "      <td>0</td>\n",
       "    </tr>\n",
       "  </tbody>\n",
       "</table>\n",
       "</div>"
      ],
      "text/plain": [
       "     Algorithm ProofType  TotalCoinsMined  TotalCoinSupply      PC 1  \\\n",
       "42      Scrypt   PoW/PoS        -0.116748        -0.152865  1.014099   \n",
       "404     Scrypt   PoW/PoS        -0.093589        -0.144996  1.014099   \n",
       "1337       X13   PoW/PoS         0.525872         4.493764  1.770482   \n",
       "BTC    SHA-256       PoW        -0.116354        -0.152554 -1.249896   \n",
       "ETH     Ethash       PoW        -0.114384        -0.152865 -1.963110   \n",
       "\n",
       "          PC 2      PC 3   CoinName  Class  \n",
       "42   -0.708930 -0.002485    42 Coin      1  \n",
       "404  -0.708930 -0.002485    404Coin      1  \n",
       "1337 -0.781781 -0.000258  EliteCoin      1  \n",
       "BTC   0.245768  0.013076    Bitcoin      0  \n",
       "ETH   0.452870 -0.013238   Ethereum      0  "
      ]
     },
     "execution_count": 139,
     "metadata": {},
     "output_type": "execute_result"
    }
   ],
   "source": [
    "# Scale data to create the scatter plot\n",
    "scaler = StandardScaler()\n",
    "clustered_df[[\"TotalCoinsMined\", \"TotalCoinSupply\"]] = scaler.fit_transform(clustered_df[[\"TotalCoinsMined\", \"TotalCoinSupply\"]])\n",
    "clustered_df.head()"
   ]
  },
  {
   "cell_type": "code",
   "execution_count": 140,
   "metadata": {},
   "outputs": [
    {
     "data": {},
     "metadata": {},
     "output_type": "display_data"
    },
    {
     "data": {
      "application/vnd.holoviews_exec.v0+json": "",
      "text/html": [
       "<div id='3815'>\n",
       "\n",
       "\n",
       "\n",
       "\n",
       "\n",
       "  <div class=\"bk-root\" id=\"f2494f5d-199a-43e1-be8e-b772ef0bbbe1\" data-root-id=\"3815\"></div>\n",
       "</div>\n",
       "<script type=\"application/javascript\">(function(root) {\n",
       "  function embed_document(root) {\n",
       "  var docs_json = {\"fa1ff8ed-9576-4428-8c90-15a7eecc1ce6\":{\"roots\":{\"references\":[{\"attributes\":{\"text\":\"\",\"text_color\":{\"value\":\"black\"},\"text_font_size\":{\"value\":\"12pt\"}},\"id\":\"3825\",\"type\":\"Title\"},{\"attributes\":{\"label\":{\"value\":\"3\"},\"renderers\":[{\"id\":\"3916\"}]},\"id\":\"3930\",\"type\":\"LegendItem\"},{\"attributes\":{\"source\":{\"id\":\"3874\"}},\"id\":\"3881\",\"type\":\"CDSView\"},{\"attributes\":{\"source\":{\"id\":\"3891\"}},\"id\":\"3898\",\"type\":\"CDSView\"},{\"attributes\":{},\"id\":\"3911\",\"type\":\"Selection\"},{\"attributes\":{\"axis\":{\"id\":\"3837\"},\"dimension\":1,\"grid_line_color\":null,\"ticker\":null},\"id\":\"3840\",\"type\":\"Grid\"},{\"attributes\":{\"data\":{\"Class\":[4],\"CoinName\":[\"BiblePay\"],\"TotalCoinSupply\":{\"__ndarray__\":\"5K6ikKpxs78=\",\"dtype\":\"float64\",\"shape\":[1]},\"TotalCoinsMined\":{\"__ndarray__\":\"f5m2XULus78=\",\"dtype\":\"float64\",\"shape\":[1]}},\"selected\":{\"id\":\"3932\"},\"selection_policy\":{\"id\":\"3968\"}},\"id\":\"3931\",\"type\":\"ColumnDataSource\"},{\"attributes\":{\"label\":{\"value\":\"2\"},\"renderers\":[{\"id\":\"3897\"}]},\"id\":\"3909\",\"type\":\"LegendItem\"},{\"attributes\":{},\"id\":\"3892\",\"type\":\"Selection\"},{\"attributes\":{},\"id\":\"3968\",\"type\":\"UnionRenderers\"},{\"attributes\":{\"end\":16.11688021506038,\"reset_end\":16.11688021506038,\"reset_start\":-1.6319323987755279,\"start\":-1.6319323987755279,\"tags\":[[[\"TotalCoinSupply\",\"TotalCoinSupply\",null]]]},\"id\":\"3818\",\"type\":\"Range1d\"},{\"attributes\":{\"fill_alpha\":{\"value\":0.2},\"fill_color\":{\"value\":\"#1f77b3\"},\"line_alpha\":{\"value\":0.2},\"line_color\":{\"value\":\"#1f77b3\"},\"size\":{\"units\":\"screen\",\"value\":5.477225575051661},\"x\":{\"field\":\"TotalCoinsMined\"},\"y\":{\"field\":\"TotalCoinSupply\"}},\"id\":\"3863\",\"type\":\"Scatter\"},{\"attributes\":{\"fill_alpha\":{\"value\":0.1},\"fill_color\":{\"value\":\"#1f77b3\"},\"line_alpha\":{\"value\":0.1},\"line_color\":{\"value\":\"#1f77b3\"},\"size\":{\"units\":\"screen\",\"value\":5.477225575051661},\"x\":{\"field\":\"TotalCoinsMined\"},\"y\":{\"field\":\"TotalCoinSupply\"}},\"id\":\"3862\",\"type\":\"Scatter\"},{\"attributes\":{\"data\":{\"Class\":[0,0,0,0,0,0,0,0,0,0,0,0,0,0,0,0,0,0,0,0,0,0,0,0,0,0,0,0,0,0,0,0,0,0,0,0,0,0,0,0,0,0,0,0,0,0,0,0,0,0,0,0,0,0,0,0,0,0,0,0,0,0,0,0,0,0,0,0,0,0,0,0,0,0,0,0,0,0,0,0,0,0,0,0,0,0,0,0,0,0,0,0,0,0,0,0,0,0,0,0,0,0,0,0,0,0,0,0,0,0,0,0,0,0,0,0,0,0,0,0,0,0,0,0,0,0,0,0,0,0,0,0,0,0,0,0,0,0,0,0,0,0,0,0,0,0,0,0,0,0,0,0,0,0,0,0,0,0,0,0,0,0,0,0,0,0,0,0,0,0,0,0,0,0,0,0,0,0,0,0,0,0,0,0,0,0,0,0,0,0,0,0,0,0,0,0,0,0,0,0,0,0,0,0,0,0,0,0,0,0,0,0,0,0,0,0,0,0,0,0,0,0,0,0,0,0,0,0,0,0,0,0,0,0,0,0,0,0,0,0],\"CoinName\":[\"Bitcoin\",\"Ethereum\",\"Litecoin\",\"Monero\",\"Ethereum Classic\",\"ZCash\",\"DigiByte\",\"ProsperCoin\",\"Spreadcoin\",\"Argentum\",\"MyriadCoin\",\"MoonCoin\",\"ZetaCoin\",\"SexCoin\",\"Quatloo\",\"QuarkCoin\",\"Riecoin\",\"Digitalcoin \",\"Catcoin\",\"CannaCoin\",\"CryptCoin\",\"Verge\",\"DevCoin\",\"EarthCoin\",\"E-Gulden\",\"Einsteinium\",\"Emerald\",\"Franko\",\"FeatherCoin\",\"GrandCoin\",\"GlobalCoin\",\"GoldCoin\",\"Infinite Coin\",\"IXcoin\",\"KrugerCoin\",\"LuckyCoin\",\"Litebar \",\"MegaCoin\",\"MediterraneanCoin\",\"MinCoin\",\"NobleCoin\",\"Namecoin\",\"NyanCoin\",\"RonPaulCoin\",\"StableCoin\",\"SmartCoin\",\"SysCoin\",\"TigerCoin\",\"TerraCoin\",\"UnbreakableCoin\",\"Unobtanium\",\"UroCoin\",\"ViaCoin\",\"Vertcoin\",\"WorldCoin\",\"JouleCoin\",\"ByteCoin\",\"DigitalNote \",\"MonaCoin\",\"Gulden\",\"PesetaCoin\",\"Wild Beast Coin\",\"Flo\",\"ArtByte\",\"Folding Coin\",\"Unitus\",\"CypherPunkCoin\",\"OmniCron\",\"GreenCoin\",\"Cryptonite\",\"MasterCoin\",\"SoonCoin\",\"1Credit\",\"MarsCoin \",\"Crypto\",\"Anarchists Prime\",\"BowsCoin\",\"Song Coin\",\"BitZeny\",\"Expanse\",\"Siacoin\",\"MindCoin\",\"I0coin\",\"Revolution VR\",\"HOdlcoin\",\"Gamecredits\",\"CarpeDiemCoin\",\"Adzcoin\",\"SoilCoin\",\"YoCoin\",\"SibCoin\",\"Francs\",\"BolivarCoin\",\"Omni\",\"PizzaCoin\",\"Komodo\",\"Karbo\",\"ZayedCoin\",\"Circuits of Value\",\"DopeCoin\",\"DollarCoin\",\"Shilling\",\"ZCoin\",\"Elementrem\",\"ZClassic\",\"KiloCoin\",\"ArtexCoin\",\"Kurrent\",\"Cannabis Industry Coin\",\"OsmiumCoin\",\"Bikercoins\",\"HexxCoin\",\"PacCoin\",\"Citadel\",\"BeaverCoin\",\"VaultCoin\",\"Zero\",\"Canada eCoin\",\"Zoin\",\"DubaiCoin\",\"EB3coin\",\"Coinonat\",\"BenjiRolls\",\"ILCoin\",\"EquiTrader\",\"Quantum Resistant Ledger\",\"Dynamic\",\"Nano\",\"ChanCoin\",\"Dinastycoin\",\"DigitalPrice\",\"Unify\",\"SocialCoin\",\"ArcticCoin\",\"DAS\",\"LeviarCoin\",\"Bitcore\",\"gCn Coin\",\"SmartCash\",\"Onix\",\"Bitcoin Cash\",\"Sojourn Coin\",\"NewYorkCoin\",\"FrazCoin\",\"Kronecoin\",\"AdCoin\",\"Linx\",\"Sumokoin\",\"BitcoinZ\",\"Elements\",\"VIVO Coin\",\"Bitcoin Gold\",\"Pirl\",\"eBoost\",\"Pura\",\"Innova\",\"Ellaism\",\"GoByte\",\"SHIELD\",\"UltraNote\",\"BitCoal\",\"DaxxCoin\",\"AC3\",\"Lethean\",\"PopularCoin\",\"Photon\",\"Sucre\",\"SparksPay\",\"GunCoin\",\"IrishCoin\",\"Pioneer Coin\",\"UnitedBitcoin\",\"Interzone\",\"1717 Masonic Commemorative Token\",\"TurtleCoin\",\"MUNcoin\",\"Niobio Cash\",\"ShareChain\",\"Travelflex\",\"KREDS\",\"BitFlip\",\"LottoCoin\",\"Crypto Improvement Fund\",\"Callisto Network\",\"BitTube\",\"Poseidon\",\"Aidos Kuneen\",\"Bitrolium\",\"Alpenschillling\",\"FuturoCoin\",\"Monero Classic\",\"Jumpcoin\",\"Infinex\",\"KEYCO\",\"GINcoin\",\"PlatinCoin\",\"Loki\",\"Newton Coin\",\"MassGrid\",\"PluraCoin\",\"Motion\",\"PlusOneCoin\",\"Axe\",\"HexCoin\",\"Webchain\",\"Ryo\",\"Urals Coin\",\"Qwertycoin\",\"Project Pai\",\"Azart\",\"Kcash\",\"Xchange\",\"CrypticCoin\",\"Actinium\",\"Bitcoin SV\",\"FREDEnergy\",\"Universal Molecule\",\"Lithium\",\"Exosis\",\"Block-Logic\",\"Beam\",\"Bithereum\",\"SLICE\",\"BLAST\",\"Bitcoin Rhodium\",\"GlobalToken\",\"SolarCoin\",\"UFO Coin\",\"BlakeCoin\",\"Crypto Escudo\",\"Crown Coin\",\"SmileyCoin\",\"Groestlcoin\",\"Bata\",\"Pakcoin\",\"JoinCoin\",\"Vollar\",\"Reality Clash\",\"Beldex\",\"Horizen\"],\"TotalCoinSupply\":{\"__ndarray__\":\"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\",\"dtype\":\"float64\",\"shape\":[240]},\"TotalCoinsMined\":{\"__ndarray__\":\"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\",\"dtype\":\"float64\",\"shape\":[240]}},\"selected\":{\"id\":\"3859\"},\"selection_policy\":{\"id\":\"3888\"}},\"id\":\"3858\",\"type\":\"ColumnDataSource\"},{\"attributes\":{},\"id\":\"3859\",\"type\":\"Selection\"},{\"attributes\":{\"margin\":[5,5,5,5],\"name\":\"HSpacer08777\",\"sizing_mode\":\"stretch_width\"},\"id\":\"4082\",\"type\":\"Spacer\"},{\"attributes\":{\"fill_color\":{\"value\":\"#1f77b3\"},\"line_color\":{\"value\":\"#1f77b3\"},\"size\":{\"units\":\"screen\",\"value\":5.477225575051661},\"x\":{\"field\":\"TotalCoinsMined\"},\"y\":{\"field\":\"TotalCoinSupply\"}},\"id\":\"3861\",\"type\":\"Scatter\"},{\"attributes\":{\"bottom_units\":\"screen\",\"fill_alpha\":0.5,\"fill_color\":\"lightgrey\",\"left_units\":\"screen\",\"level\":\"overlay\",\"line_alpha\":1.0,\"line_color\":\"black\",\"line_dash\":[4,4],\"line_width\":2,\"render_mode\":\"css\",\"right_units\":\"screen\",\"top_units\":\"screen\"},\"id\":\"3846\",\"type\":\"BoxAnnotation\"},{\"attributes\":{\"data_source\":{\"id\":\"3910\"},\"glyph\":{\"id\":\"3913\"},\"hover_glyph\":null,\"muted_glyph\":{\"id\":\"3915\"},\"nonselection_glyph\":{\"id\":\"3914\"},\"selection_glyph\":null,\"view\":{\"id\":\"3917\"}},\"id\":\"3916\",\"type\":\"GlyphRenderer\"},{\"attributes\":{},\"id\":\"3831\",\"type\":\"LinearScale\"},{\"attributes\":{},\"id\":\"3951\",\"type\":\"UnionRenderers\"},{\"attributes\":{\"fill_alpha\":{\"value\":0.1},\"fill_color\":{\"value\":\"#2ba02b\"},\"line_alpha\":{\"value\":0.1},\"line_color\":{\"value\":\"#2ba02b\"},\"size\":{\"units\":\"screen\",\"value\":5.477225575051661},\"x\":{\"field\":\"TotalCoinsMined\"},\"y\":{\"field\":\"TotalCoinSupply\"}},\"id\":\"3895\",\"type\":\"Scatter\"},{\"attributes\":{\"fill_color\":{\"value\":\"#2ba02b\"},\"line_color\":{\"value\":\"#2ba02b\"},\"size\":{\"units\":\"screen\",\"value\":5.477225575051661},\"x\":{\"field\":\"TotalCoinsMined\"},\"y\":{\"field\":\"TotalCoinSupply\"}},\"id\":\"3894\",\"type\":\"Scatter\"},{\"attributes\":{},\"id\":\"3829\",\"type\":\"LinearScale\"},{\"attributes\":{},\"id\":\"3834\",\"type\":\"BasicTicker\"},{\"attributes\":{\"fill_alpha\":{\"value\":0.1},\"fill_color\":{\"value\":\"#d62628\"},\"line_alpha\":{\"value\":0.1},\"line_color\":{\"value\":\"#d62628\"},\"size\":{\"units\":\"screen\",\"value\":5.477225575051661},\"x\":{\"field\":\"TotalCoinsMined\"},\"y\":{\"field\":\"TotalCoinSupply\"}},\"id\":\"3914\",\"type\":\"Scatter\"},{\"attributes\":{},\"id\":\"3843\",\"type\":\"WheelZoomTool\"},{\"attributes\":{\"overlay\":{\"id\":\"3846\"}},\"id\":\"3844\",\"type\":\"BoxZoomTool\"},{\"attributes\":{},\"id\":\"3845\",\"type\":\"ResetTool\"},{\"attributes\":{},\"id\":\"3841\",\"type\":\"SaveTool\"},{\"attributes\":{\"fill_color\":{\"value\":\"#9367bc\"},\"line_color\":{\"value\":\"#9367bc\"},\"size\":{\"units\":\"screen\",\"value\":5.477225575051661},\"x\":{\"field\":\"TotalCoinsMined\"},\"y\":{\"field\":\"TotalCoinSupply\"}},\"id\":\"3934\",\"type\":\"Scatter\"},{\"attributes\":{\"data_source\":{\"id\":\"3874\"},\"glyph\":{\"id\":\"3877\"},\"hover_glyph\":null,\"muted_glyph\":{\"id\":\"3879\"},\"nonselection_glyph\":{\"id\":\"3878\"},\"selection_glyph\":null,\"view\":{\"id\":\"3881\"}},\"id\":\"3880\",\"type\":\"GlyphRenderer\"},{\"attributes\":{\"fill_alpha\":{\"value\":0.2},\"fill_color\":{\"value\":\"#9367bc\"},\"line_alpha\":{\"value\":0.2},\"line_color\":{\"value\":\"#9367bc\"},\"size\":{\"units\":\"screen\",\"value\":5.477225575051661},\"x\":{\"field\":\"TotalCoinsMined\"},\"y\":{\"field\":\"TotalCoinSupply\"}},\"id\":\"3936\",\"type\":\"Scatter\"},{\"attributes\":{\"children\":[{\"id\":\"3816\"},{\"id\":\"3824\"},{\"id\":\"4082\"}],\"margin\":[0,0,0,0],\"name\":\"Row08772\",\"tags\":[\"embedded\"]},\"id\":\"3815\",\"type\":\"Row\"},{\"attributes\":{\"margin\":[5,5,5,5],\"name\":\"HSpacer08776\",\"sizing_mode\":\"stretch_width\"},\"id\":\"3816\",\"type\":\"Spacer\"},{\"attributes\":{\"data_source\":{\"id\":\"3858\"},\"glyph\":{\"id\":\"3861\"},\"hover_glyph\":null,\"muted_glyph\":{\"id\":\"3863\"},\"nonselection_glyph\":{\"id\":\"3862\"},\"selection_glyph\":null,\"view\":{\"id\":\"3865\"}},\"id\":\"3864\",\"type\":\"GlyphRenderer\"},{\"attributes\":{},\"id\":\"3842\",\"type\":\"PanTool\"},{\"attributes\":{\"fill_alpha\":{\"value\":0.2},\"fill_color\":{\"value\":\"#d62628\"},\"line_alpha\":{\"value\":0.2},\"line_color\":{\"value\":\"#d62628\"},\"size\":{\"units\":\"screen\",\"value\":5.477225575051661},\"x\":{\"field\":\"TotalCoinsMined\"},\"y\":{\"field\":\"TotalCoinSupply\"}},\"id\":\"3915\",\"type\":\"Scatter\"},{\"attributes\":{\"label\":{\"value\":\"4\"},\"renderers\":[{\"id\":\"3937\"}]},\"id\":\"3953\",\"type\":\"LegendItem\"},{\"attributes\":{\"source\":{\"id\":\"3910\"}},\"id\":\"3917\",\"type\":\"CDSView\"},{\"attributes\":{\"data\":{\"Class\":[2,2],\"CoinName\":[\"LitecoinCash\",\"Acute Angle Cloud\"],\"TotalCoinSupply\":{\"__ndarray__\":\"EcdOZ/T5wb+nkVOxaKzBvw==\",\"dtype\":\"float64\",\"shape\":[2]},\"TotalCoinsMined\":{\"__ndarray__\":\"pHyd9PRMur/mbKHD0ES4vw==\",\"dtype\":\"float64\",\"shape\":[2]}},\"selected\":{\"id\":\"3892\"},\"selection_policy\":{\"id\":\"3928\"}},\"id\":\"3891\",\"type\":\"ColumnDataSource\"},{\"attributes\":{\"data_source\":{\"id\":\"3891\"},\"glyph\":{\"id\":\"3894\"},\"hover_glyph\":null,\"muted_glyph\":{\"id\":\"3896\"},\"nonselection_glyph\":{\"id\":\"3895\"},\"selection_glyph\":null,\"view\":{\"id\":\"3898\"}},\"id\":\"3897\",\"type\":\"GlyphRenderer\"},{\"attributes\":{\"fill_alpha\":{\"value\":0.1},\"fill_color\":{\"value\":\"#9367bc\"},\"line_alpha\":{\"value\":0.1},\"line_color\":{\"value\":\"#9367bc\"},\"size\":{\"units\":\"screen\",\"value\":5.477225575051661},\"x\":{\"field\":\"TotalCoinsMined\"},\"y\":{\"field\":\"TotalCoinSupply\"}},\"id\":\"3935\",\"type\":\"Scatter\"},{\"attributes\":{\"label\":{\"value\":\"1\"},\"renderers\":[{\"id\":\"3880\"}]},\"id\":\"3890\",\"type\":\"LegendItem\"},{\"attributes\":{\"source\":{\"id\":\"3931\"}},\"id\":\"3938\",\"type\":\"CDSView\"},{\"attributes\":{\"end\":22.54813966188014,\"reset_end\":22.54813966188014,\"reset_start\":-1.183406270009727,\"start\":-1.183406270009727,\"tags\":[[[\"TotalCoinsMined\",\"TotalCoinsMined\",null]]]},\"id\":\"3817\",\"type\":\"Range1d\"},{\"attributes\":{\"fill_alpha\":{\"value\":0.2},\"fill_color\":{\"value\":\"#2ba02b\"},\"line_alpha\":{\"value\":0.2},\"line_color\":{\"value\":\"#2ba02b\"},\"size\":{\"units\":\"screen\",\"value\":5.477225575051661},\"x\":{\"field\":\"TotalCoinsMined\"},\"y\":{\"field\":\"TotalCoinSupply\"}},\"id\":\"3896\",\"type\":\"Scatter\"},{\"attributes\":{\"axis_label\":\"TotalCoinSupply\",\"bounds\":\"auto\",\"formatter\":{\"id\":\"3857\"},\"major_label_orientation\":\"horizontal\",\"ticker\":{\"id\":\"3838\"}},\"id\":\"3837\",\"type\":\"LinearAxis\"},{\"attributes\":{},\"id\":\"3932\",\"type\":\"Selection\"},{\"attributes\":{},\"id\":\"3838\",\"type\":\"BasicTicker\"},{\"attributes\":{\"data_source\":{\"id\":\"3931\"},\"glyph\":{\"id\":\"3934\"},\"hover_glyph\":null,\"muted_glyph\":{\"id\":\"3936\"},\"nonselection_glyph\":{\"id\":\"3935\"},\"selection_glyph\":null,\"view\":{\"id\":\"3938\"}},\"id\":\"3937\",\"type\":\"GlyphRenderer\"},{\"attributes\":{\"data\":{\"Class\":[1,1,1,1,1,1,1,1,1,1,1,1,1,1,1,1,1,1,1,1,1,1,1,1,1,1,1,1,1,1,1,1,1,1,1,1,1,1,1,1,1,1,1,1,1,1,1,1,1,1,1,1,1,1,1,1,1,1,1,1,1,1,1,1,1,1,1,1,1,1,1,1,1,1,1,1,1,1,1,1,1,1,1,1,1,1,1,1,1,1,1,1,1,1,1,1,1,1,1,1,1,1,1,1,1,1,1,1,1,1,1,1,1,1,1,1,1,1,1,1,1,1,1,1,1,1,1,1,1,1,1,1,1,1,1,1,1,1,1,1,1,1,1,1,1,1,1,1,1,1,1,1,1,1,1,1,1,1,1,1,1,1,1,1,1,1,1,1,1,1,1,1,1,1,1,1,1,1,1,1,1,1,1,1,1,1,1,1,1,1,1,1,1,1,1,1,1,1,1,1,1,1,1,1,1,1,1,1,1,1,1,1,1,1,1,1,1,1,1,1,1,1,1,1,1,1,1,1,1,1,1,1,1,1,1,1,1,1,1,1,1,1,1,1,1,1,1,1,1,1,1,1,1,1,1,1,1,1,1,1,1,1,1,1,1,1,1,1,1,1,1,1,1,1,1,1,1,1,1,1,1,1,1,1,1,1],\"CoinName\":[\"42 Coin\",\"404Coin\",\"EliteCoin\",\"Dash\",\"Bitshares\",\"BitcoinDark\",\"PayCoin\",\"KoboCoin\",\"Aurora Coin\",\"BlueCoin\",\"EnergyCoin\",\"BitBar\",\"CryptoBullion\",\"CasinoCoin\",\"Diamond\",\"Exclusive Coin\",\"FlutterCoin\",\"HoboNickels\",\"HyperStake\",\"IOCoin\",\"MaxCoin\",\"MintCoin\",\"MazaCoin\",\"Nautilus Coin\",\"NavCoin\",\"OpalCoin\",\"Orbitcoin\",\"PotCoin\",\"PhoenixCoin\",\"Reddcoin\",\"SuperCoin\",\"SyncCoin\",\"TeslaCoin\",\"TittieCoin\",\"TorCoin\",\"UnitaryStatus Dollar\",\"UltraCoin\",\"VeriCoin\",\"X11 Coin\",\"Crypti\",\"StealthCoin\",\"ZCC Coin\",\"BurstCoin\",\"StorjCoin\",\"Neutron\",\"FairCoin\",\"RubyCoin\",\"Kore\",\"Dnotes\",\"8BIT Coin\",\"Sativa Coin\",\"Ucoin\",\"Vtorrent\",\"IslaCoin\",\"Nexus\",\"Droidz\",\"Squall Coin\",\"Diggits\",\"Paycon\",\"Emercoin\",\"EverGreenCoin\",\"Decred\",\"EDRCoin\",\"Hitcoin\",\"DubaiCoin\",\"PWR Coin\",\"BillaryCoin\",\"GPU Coin\",\"EuropeCoin\",\"ZeitCoin\",\"SwingCoin\",\"SafeExchangeCoin\",\"Nebuchadnezzar\",\"Ratecoin\",\"Revenu\",\"Clockcoin\",\"VIP Tokens\",\"BitSend\",\"Let it Ride\",\"PutinCoin\",\"iBankCoin\",\"Frankywillcoin\",\"MudraCoin\",\"Lutetium Coin\",\"GoldBlocks\",\"CarterCoin\",\"BitTokens\",\"MustangCoin\",\"ZoneCoin\",\"RootCoin\",\"BitCurrency\",\"Swiscoin\",\"BuzzCoin\",\"Opair\",\"PesoBit\",\"Halloween Coin\",\"CoffeeCoin\",\"RoyalCoin\",\"GanjaCoin V2\",\"TeamUP\",\"LanaCoin\",\"ARK\",\"InsaneCoin\",\"EmberCoin\",\"XenixCoin\",\"FreeCoin\",\"PLNCoin\",\"AquariusCoin\",\"Creatio\",\"Eternity\",\"Eurocoin\",\"BitcoinFast\",\"Stakenet\",\"BitConnect Coin\",\"MoneyCoin\",\"Enigma\",\"Russiacoin\",\"PandaCoin\",\"GameUnits\",\"GAKHcoin\",\"Allsafe\",\"LiteCreed\",\"Klingon Empire Darsek\",\"Internet of People\",\"KushCoin\",\"Printerium\",\"Impeach\",\"Zilbercoin\",\"FirstCoin\",\"FindCoin\",\"OpenChat\",\"RenosCoin\",\"VirtacoinPlus\",\"TajCoin\",\"Impact\",\"Atmos\",\"HappyCoin\",\"MacronCoin\",\"Condensate\",\"Independent Money System\",\"ArgusCoin\",\"LomoCoin\",\"ProCurrency\",\"GoldReserve\",\"GrowthCoin\",\"Phreak\",\"Degas Coin\",\"HTML5 Coin\",\"Ultimate Secure Cash\",\"QTUM\",\"Espers\",\"Denarius\",\"Virta Unique Coin\",\"Bitcoin Planet\",\"BritCoin\",\"Linda\",\"DeepOnion\",\"Signatum\",\"Cream\",\"Monoeci\",\"Draftcoin\",\"Stakecoin\",\"CoinonatX\",\"Ethereum Dark\",\"Obsidian\",\"Cardano\",\"Regalcoin\",\"TrezarCoin\",\"TerraNovaCoin\",\"Rupee\",\"WomenCoin\",\"Theresa May Coin\",\"NamoCoin\",\"LUXCoin\",\"Xios\",\"Bitcloud 2.0\",\"KekCoin\",\"BlackholeCoin\",\"Infinity Economics\",\"Magnet\",\"Lamden Tau\",\"Electra\",\"Bitcoin Diamond\",\"Cash & Back Coin\",\"Bulwark\",\"Kalkulus\",\"GermanCoin\",\"LiteCoin Ultra\",\"PhantomX\",\"Digiwage\",\"Trollcoin\",\"Litecoin Plus\",\"Monkey Project\",\"TokenPay\",\"My Big Coin\",\"Unified Society USDEX\",\"Tokyo Coin\",\"Stipend\",\"Pushi\",\"Ellerium\",\"Velox\",\"Ontology\",\"Bitspace\",\"Briacoin\",\"Ignition\",\"MedicCoin\",\"Bitcoin Green\",\"Deviant Coin\",\"Abjcoin\",\"Semux\",\"Carebit\",\"Zealium\",\"Proton\",\"iDealCash\",\"Bitcoin Incognito\",\"HollyWoodCoin\",\"Swisscoin\",\"Xt3ch\",\"TheVig\",\"EmaratCoin\",\"Dekado\",\"Lynx\",\"Poseidon Quark\",\"BitcoinWSpectrum\",\"Muse\",\"Trivechain\",\"Dystem\",\"Giant\",\"Peony Coin\",\"Absolute Coin\",\"Vitae\",\"TPCash\",\"ARENON\",\"EUNO\",\"MMOCoin\",\"Ketan\",\"XDNA\",\"PAXEX\",\"ThunderStake\",\"Bettex coin\",\"BitMoney\",\"Junson Ming Chan Coin\",\"HerbCoin\",\"PirateCash\",\"Oduwa\",\"Galilel\",\"Crypto Sports\",\"Credit\",\"Dash Platinum\",\"Nasdacoin\",\"Beetle Coin\",\"Titan Coin\",\"Award\",\"Insane Coin\",\"ALAX\",\"LiteDoge\",\"TruckCoin\",\"OrangeCoin\",\"BitstarCoin\",\"NeosCoin\",\"HyperCoin\",\"PinkCoin\",\"AudioCoin\",\"IncaKoin\",\"Piggy Coin\",\"Genstake\",\"XiaoMiCoin\",\"CapriCoin\",\" ClubCoin\",\"Radium\",\"Creditbit \",\"OKCash\",\"Lisk\",\"HiCoin\",\"WhiteCoin\",\"FriendshipCoin\",\"Triangles Coin\",\"EOS\",\"Oxycoin\",\"TigerCash\",\"Particl\",\"BitTorrent\",\"Nxt\",\"ZEPHYR\",\"Gapcoin\",\"BitcoinPlus\"],\"TotalCoinSupply\":{\"__ndarray__\":\"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\",\"dtype\":\"float64\",\"shape\":[286]},\"TotalCoinsMined\":{\"__ndarray__\":\"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\",\"dtype\":\"float64\",\"shape\":[286]}},\"selected\":{\"id\":\"3875\"},\"selection_policy\":{\"id\":\"3907\"}},\"id\":\"3874\",\"type\":\"ColumnDataSource\"},{\"attributes\":{\"axis\":{\"id\":\"3833\"},\"grid_line_color\":null,\"ticker\":null},\"id\":\"3836\",\"type\":\"Grid\"},{\"attributes\":{},\"id\":\"3855\",\"type\":\"BasicTickFormatter\"},{\"attributes\":{},\"id\":\"3928\",\"type\":\"UnionRenderers\"},{\"attributes\":{\"fill_color\":{\"value\":\"#ff7e0e\"},\"line_color\":{\"value\":\"#ff7e0e\"},\"size\":{\"units\":\"screen\",\"value\":5.477225575051661},\"x\":{\"field\":\"TotalCoinsMined\"},\"y\":{\"field\":\"TotalCoinSupply\"}},\"id\":\"3877\",\"type\":\"Scatter\"},{\"attributes\":{},\"id\":\"3857\",\"type\":\"BasicTickFormatter\"},{\"attributes\":{\"fill_alpha\":{\"value\":0.1},\"fill_color\":{\"value\":\"#ff7e0e\"},\"line_alpha\":{\"value\":0.1},\"line_color\":{\"value\":\"#ff7e0e\"},\"size\":{\"units\":\"screen\",\"value\":5.477225575051661},\"x\":{\"field\":\"TotalCoinsMined\"},\"y\":{\"field\":\"TotalCoinSupply\"}},\"id\":\"3878\",\"type\":\"Scatter\"},{\"attributes\":{\"axis_label\":\"TotalCoinsMined\",\"bounds\":\"auto\",\"formatter\":{\"id\":\"3855\"},\"major_label_orientation\":\"horizontal\",\"ticker\":{\"id\":\"3834\"}},\"id\":\"3833\",\"type\":\"LinearAxis\"},{\"attributes\":{\"label\":{\"value\":\"0\"},\"renderers\":[{\"id\":\"3864\"}]},\"id\":\"3873\",\"type\":\"LegendItem\"},{\"attributes\":{\"click_policy\":\"mute\",\"items\":[{\"id\":\"3873\"},{\"id\":\"3890\"},{\"id\":\"3909\"},{\"id\":\"3930\"},{\"id\":\"3953\"}],\"location\":[0,0],\"title\":\"Class\"},\"id\":\"3872\",\"type\":\"Legend\"},{\"attributes\":{\"active_drag\":\"auto\",\"active_inspect\":\"auto\",\"active_multi\":null,\"active_scroll\":\"auto\",\"active_tap\":\"auto\",\"tools\":[{\"id\":\"3819\"},{\"id\":\"3841\"},{\"id\":\"3842\"},{\"id\":\"3843\"},{\"id\":\"3844\"},{\"id\":\"3845\"}]},\"id\":\"3847\",\"type\":\"Toolbar\"},{\"attributes\":{},\"id\":\"3907\",\"type\":\"UnionRenderers\"},{\"attributes\":{},\"id\":\"3875\",\"type\":\"Selection\"},{\"attributes\":{\"source\":{\"id\":\"3858\"}},\"id\":\"3865\",\"type\":\"CDSView\"},{\"attributes\":{},\"id\":\"3888\",\"type\":\"UnionRenderers\"},{\"attributes\":{\"fill_alpha\":{\"value\":0.2},\"fill_color\":{\"value\":\"#ff7e0e\"},\"line_alpha\":{\"value\":0.2},\"line_color\":{\"value\":\"#ff7e0e\"},\"size\":{\"units\":\"screen\",\"value\":5.477225575051661},\"x\":{\"field\":\"TotalCoinsMined\"},\"y\":{\"field\":\"TotalCoinSupply\"}},\"id\":\"3879\",\"type\":\"Scatter\"},{\"attributes\":{\"callback\":null,\"renderers\":[{\"id\":\"3864\"},{\"id\":\"3880\"},{\"id\":\"3897\"},{\"id\":\"3916\"},{\"id\":\"3937\"}],\"tags\":[\"hv_created\"],\"tooltips\":[[\"Class\",\"@{Class}\"],[\"TotalCoinsMined\",\"@{TotalCoinsMined}\"],[\"TotalCoinSupply\",\"@{TotalCoinSupply}\"],[\"CoinName\",\"@{CoinName}\"]]},\"id\":\"3819\",\"type\":\"HoverTool\"},{\"attributes\":{\"fill_color\":{\"value\":\"#d62628\"},\"line_color\":{\"value\":\"#d62628\"},\"size\":{\"units\":\"screen\",\"value\":5.477225575051661},\"x\":{\"field\":\"TotalCoinsMined\"},\"y\":{\"field\":\"TotalCoinSupply\"}},\"id\":\"3913\",\"type\":\"Scatter\"},{\"attributes\":{\"align\":null,\"below\":[{\"id\":\"3833\"}],\"center\":[{\"id\":\"3836\"},{\"id\":\"3840\"}],\"left\":[{\"id\":\"3837\"}],\"margin\":null,\"min_border_bottom\":10,\"min_border_left\":10,\"min_border_right\":10,\"min_border_top\":10,\"plot_height\":300,\"plot_width\":700,\"renderers\":[{\"id\":\"3864\"},{\"id\":\"3880\"},{\"id\":\"3897\"},{\"id\":\"3916\"},{\"id\":\"3937\"}],\"right\":[{\"id\":\"3872\"}],\"sizing_mode\":\"fixed\",\"title\":{\"id\":\"3825\"},\"toolbar\":{\"id\":\"3847\"},\"x_range\":{\"id\":\"3817\"},\"x_scale\":{\"id\":\"3829\"},\"y_range\":{\"id\":\"3818\"},\"y_scale\":{\"id\":\"3831\"}},\"id\":\"3824\",\"subtype\":\"Figure\",\"type\":\"Plot\"},{\"attributes\":{\"data\":{\"Class\":[3,3,3,3],\"CoinName\":[\"Vechain\",\"Poa Network\",\"Fiii\",\"Waves\"],\"TotalCoinSupply\":{\"__ndarray__\":\"0Pkz8SQT8j9Km55EthbDv2+0lteHM7S/IJ74kJpgw78=\",\"dtype\":\"float64\",\"shape\":[4]},\"TotalCoinsMined\":{\"__ndarray__\":\"CbRdKBeb8T9I/yxtEr28v5xPX/y5kc+/qkhjFVpTvb8=\",\"dtype\":\"float64\",\"shape\":[4]}},\"selected\":{\"id\":\"3911\"},\"selection_policy\":{\"id\":\"3951\"}},\"id\":\"3910\",\"type\":\"ColumnDataSource\"}],\"root_ids\":[\"3815\"]},\"title\":\"Bokeh Application\",\"version\":\"2.0.2\"}};\n",
       "  var render_items = [{\"docid\":\"fa1ff8ed-9576-4428-8c90-15a7eecc1ce6\",\"root_ids\":[\"3815\"],\"roots\":{\"3815\":\"f2494f5d-199a-43e1-be8e-b772ef0bbbe1\"}}];\n",
       "  root.Bokeh.embed.embed_items_notebook(docs_json, render_items);\n",
       "  }\n",
       "if (root.Bokeh !== undefined) {\n",
       "    embed_document(root);\n",
       "  } else {\n",
       "    var attempts = 0;\n",
       "    var timer = setInterval(function(root) {\n",
       "      if (root.Bokeh !== undefined) {\n",
       "        clearInterval(timer);\n",
       "        embed_document(root);\n",
       "      } else if (document.readyState == \"complete\") {\n",
       "        attempts++;\n",
       "        if (attempts > 100) {\n",
       "          clearInterval(timer);\n",
       "          console.log(\"Bokeh: ERROR: Unable to run BokehJS code because BokehJS library is missing\");\n",
       "        }\n",
       "      }\n",
       "    }, 10, root)\n",
       "  }\n",
       "})(window);</script>"
      ],
      "text/plain": [
       ":NdOverlay   [Class]\n",
       "   :Scatter   [TotalCoinsMined]   (TotalCoinSupply,CoinName)"
      ]
     },
     "execution_count": 140,
     "metadata": {
      "application/vnd.holoviews_exec.v0+json": {
       "id": "3815"
      }
     },
     "output_type": "execute_result"
    }
   ],
   "source": [
    "# Plot the scatter with x=\"TotalCoinsMined\" and y=\"TotalCoinSupply\"\n",
    "clustered_df.hvplot.scatter(\n",
    "    x=\"TotalCoinsMined\",\n",
    "    y=\"TotalCoinSupply\",\n",
    "    hover_cols=[\"CoinName\"],\n",
    "    by=\"Class\"\n",
    ")"
   ]
  },
  {
   "cell_type": "code",
   "execution_count": null,
   "metadata": {},
   "outputs": [],
   "source": []
  }
 ],
 "metadata": {
  "file_extension": ".py",
  "kernelspec": {
   "display_name": "Python [conda env:pyvizenv] *",
   "language": "python",
   "name": "conda-env-pyvizenv-py"
  },
  "language_info": {
   "codemirror_mode": {
    "name": "ipython",
    "version": 3
   },
   "file_extension": ".py",
   "mimetype": "text/x-python",
   "name": "python",
   "nbconvert_exporter": "python",
   "pygments_lexer": "ipython3",
   "version": "3.8.3"
  },
  "mimetype": "text/x-python",
  "name": "python",
  "npconvert_exporter": "python",
  "pygments_lexer": "ipython3",
  "version": 3
 },
 "nbformat": 4,
 "nbformat_minor": 4
}
